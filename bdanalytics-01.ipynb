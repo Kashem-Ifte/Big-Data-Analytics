{
 "cells": [
  {
   "cell_type": "code",
   "execution_count": 1,
   "id": "5e96963a",
   "metadata": {
    "execution": {
     "iopub.execute_input": "2024-01-03T15:20:53.377184Z",
     "iopub.status.busy": "2024-01-03T15:20:53.376320Z",
     "iopub.status.idle": "2024-01-03T15:21:45.746605Z",
     "shell.execute_reply": "2024-01-03T15:21:45.745080Z"
    },
    "papermill": {
     "duration": 52.380308,
     "end_time": "2024-01-03T15:21:45.749586",
     "exception": false,
     "start_time": "2024-01-03T15:20:53.369278",
     "status": "completed"
    },
    "tags": []
   },
   "outputs": [
    {
     "name": "stdout",
     "output_type": "stream",
     "text": [
      "Collecting pyspark==3.2\r\n",
      "  Downloading pyspark-3.2.0.tar.gz (281.3 MB)\r\n",
      "\u001b[2K     \u001b[90m━━━━━━━━━━━━━━━━━━━━━━━━━━━━━━━━━━━━━━━\u001b[0m \u001b[32m281.3/281.3 MB\u001b[0m \u001b[31m3.9 MB/s\u001b[0m eta \u001b[36m0:00:00\u001b[0m\r\n",
      "\u001b[?25h  Preparing metadata (setup.py) ... \u001b[?25l-\b \b\\\b \bdone\r\n",
      "\u001b[?25hCollecting py4j==0.10.9.2 (from pyspark==3.2)\r\n",
      "  Downloading py4j-0.10.9.2-py2.py3-none-any.whl (198 kB)\r\n",
      "\u001b[2K     \u001b[90m━━━━━━━━━━━━━━━━━━━━━━━━━━━━━━━━━━━━━━\u001b[0m \u001b[32m198.8/198.8 kB\u001b[0m \u001b[31m14.5 MB/s\u001b[0m eta \u001b[36m0:00:00\u001b[0m\r\n",
      "\u001b[?25hBuilding wheels for collected packages: pyspark\r\n",
      "  Building wheel for pyspark (setup.py) ... \u001b[?25l-\b \b\\\b \b|\b \bdone\r\n",
      "\u001b[?25h  Created wheel for pyspark: filename=pyspark-3.2.0-py2.py3-none-any.whl size=281805893 sha256=d272d7b6920c5e9dddba364917315a15e7d0f01b8fba82f3bedc9149f96d3986\r\n",
      "  Stored in directory: /root/.cache/pip/wheels/32/97/d3/8b6d964c8700e4fbb561c71638a92ec55dac9be51eb5fea86d\r\n",
      "Successfully built pyspark\r\n",
      "Installing collected packages: py4j, pyspark\r\n",
      "  Attempting uninstall: py4j\r\n",
      "    Found existing installation: py4j 0.10.9.7\r\n",
      "    Uninstalling py4j-0.10.9.7:\r\n",
      "      Successfully uninstalled py4j-0.10.9.7\r\n",
      "Successfully installed py4j-0.10.9.2 pyspark-3.2.0\r\n"
     ]
    }
   ],
   "source": [
    "!pip install pyspark==3.2"
   ]
  },
  {
   "cell_type": "code",
   "execution_count": 2,
   "id": "a2e8dae3",
   "metadata": {
    "execution": {
     "iopub.execute_input": "2024-01-03T15:21:45.783155Z",
     "iopub.status.busy": "2024-01-03T15:21:45.782478Z",
     "iopub.status.idle": "2024-01-03T15:21:52.457492Z",
     "shell.execute_reply": "2024-01-03T15:21:52.456364Z"
    },
    "papermill": {
     "duration": 6.695698,
     "end_time": "2024-01-03T15:21:52.460963",
     "exception": false,
     "start_time": "2024-01-03T15:21:45.765265",
     "status": "completed"
    },
    "tags": []
   },
   "outputs": [
    {
     "name": "stderr",
     "output_type": "stream",
     "text": [
      "WARNING: An illegal reflective access operation has occurred\n",
      "WARNING: Illegal reflective access by org.apache.spark.unsafe.Platform (file:/opt/conda/lib/python3.10/site-packages/pyspark/jars/spark-unsafe_2.12-3.2.0.jar) to constructor java.nio.DirectByteBuffer(long,int)\n",
      "WARNING: Please consider reporting this to the maintainers of org.apache.spark.unsafe.Platform\n",
      "WARNING: Use --illegal-access=warn to enable warnings of further illegal reflective access operations\n",
      "WARNING: All illegal access operations will be denied in a future release\n",
      "Using Spark's default log4j profile: org/apache/spark/log4j-defaults.properties\n",
      "Setting default log level to \"WARN\".\n",
      "To adjust logging level use sc.setLogLevel(newLevel). For SparkR, use setLogLevel(newLevel).\n",
      "24/01/03 15:21:49 WARN NativeCodeLoader: Unable to load native-hadoop library for your platform... using builtin-java classes where applicable\n",
      "/opt/conda/lib/python3.10/site-packages/pyspark/sql/context.py:77: FutureWarning: Deprecated in 3.0.0. Use SparkSession.builder.getOrCreate() instead.\n",
      "  warnings.warn(\n"
     ]
    }
   ],
   "source": [
    "#Start spark sessnon and configureation\n",
    "from pyspark import SparkConf, SparkContext\n",
    "from pyspark.sql import SparkSession, SQLContext\n",
    "spark = SparkSession.builder.master(\"local[2]\").appName(\"dat\").getOrCreate()\n",
    "sc = spark.sparkContext\n",
    "#create an instance of SQLContext\n",
    "sqlContext = SQLContext(spark)"
   ]
  },
  {
   "cell_type": "code",
   "execution_count": 3,
   "id": "99b9cfdc",
   "metadata": {
    "execution": {
     "iopub.execute_input": "2024-01-03T15:21:52.499301Z",
     "iopub.status.busy": "2024-01-03T15:21:52.498728Z",
     "iopub.status.idle": "2024-01-03T15:21:52.974520Z",
     "shell.execute_reply": "2024-01-03T15:21:52.973483Z"
    },
    "papermill": {
     "duration": 0.496833,
     "end_time": "2024-01-03T15:21:52.977497",
     "exception": false,
     "start_time": "2024-01-03T15:21:52.480664",
     "status": "completed"
    },
    "tags": []
   },
   "outputs": [],
   "source": [
    "# Import libraries and other functions\n",
    "from io import StringIO\n",
    "from collections import namedtuple\n",
    "from pyspark.sql import Row\n",
    "from pyspark.sql.types import *\n",
    "from pyspark.sql.functions import *\n",
    "\n",
    "import csv\n",
    "import matplotlib.pyplot as plt\n",
    "\n",
    "import pandas as pd\n",
    "import numpy as np"
   ]
  },
  {
   "cell_type": "code",
   "execution_count": 4,
   "id": "6af8850b",
   "metadata": {
    "execution": {
     "iopub.execute_input": "2024-01-03T15:21:53.010017Z",
     "iopub.status.busy": "2024-01-03T15:21:53.009449Z",
     "iopub.status.idle": "2024-01-03T15:22:01.271925Z",
     "shell.execute_reply": "2024-01-03T15:22:01.270473Z"
    },
    "papermill": {
     "duration": 8.282681,
     "end_time": "2024-01-03T15:22:01.275652",
     "exception": false,
     "start_time": "2024-01-03T15:21:52.992971",
     "status": "completed"
    },
    "tags": []
   },
   "outputs": [
    {
     "name": "stderr",
     "output_type": "stream",
     "text": [
      "                                                                                \r"
     ]
    }
   ],
   "source": [
    "LDNCrime = spark.read.option(\"header\", \"true\").option(\"delimiter\", \",\")\\\n",
    ".option(\"inferSchema\", \"true\").\\\n",
    "csv(\"/kaggle/input/ldn-crime-dataset/LDN Crime Data\")"
   ]
  },
  {
   "cell_type": "code",
   "execution_count": 5,
   "id": "9fd658cf",
   "metadata": {
    "execution": {
     "iopub.execute_input": "2024-01-03T15:22:01.313112Z",
     "iopub.status.busy": "2024-01-03T15:22:01.312668Z",
     "iopub.status.idle": "2024-01-03T15:22:01.328105Z",
     "shell.execute_reply": "2024-01-03T15:22:01.326905Z"
    },
    "papermill": {
     "duration": 0.037809,
     "end_time": "2024-01-03T15:22:01.331997",
     "exception": false,
     "start_time": "2024-01-03T15:22:01.294188",
     "status": "completed"
    },
    "tags": []
   },
   "outputs": [
    {
     "name": "stdout",
     "output_type": "stream",
     "text": [
      "root\n",
      " |-- Crime ID: string (nullable = true)\n",
      " |-- Month: string (nullable = true)\n",
      " |-- Reported by: string (nullable = true)\n",
      " |-- Falls within: string (nullable = true)\n",
      " |-- Longitude: double (nullable = true)\n",
      " |-- Latitude: double (nullable = true)\n",
      " |-- Location: string (nullable = true)\n",
      " |-- LSOA code: string (nullable = true)\n",
      " |-- LSOA name: string (nullable = true)\n",
      " |-- Crime type: string (nullable = true)\n",
      " |-- Last outcome category: string (nullable = true)\n",
      " |-- Context: string (nullable = true)\n",
      "\n"
     ]
    }
   ],
   "source": [
    "LDNCrime.printSchema()"
   ]
  },
  {
   "cell_type": "code",
   "execution_count": 6,
   "id": "9bfa4603",
   "metadata": {
    "execution": {
     "iopub.execute_input": "2024-01-03T15:22:01.372217Z",
     "iopub.status.busy": "2024-01-03T15:22:01.371824Z",
     "iopub.status.idle": "2024-01-03T15:22:01.504556Z",
     "shell.execute_reply": "2024-01-03T15:22:01.503188Z"
    },
    "papermill": {
     "duration": 0.157988,
     "end_time": "2024-01-03T15:22:01.507561",
     "exception": false,
     "start_time": "2024-01-03T15:22:01.349573",
     "status": "completed"
    },
    "tags": []
   },
   "outputs": [],
   "source": [
    "# tidy up the column names\n",
    "\n",
    "LDNCrime = LDNCrime.withColumnRenamed('Crime ID', 'Crime_ID')\n",
    "LDNCrime = LDNCrime.withColumnRenamed('Reported by', 'Reported_by')\n",
    "LDNCrime = LDNCrime.withColumnRenamed('Falls within', 'Falls_within')\n",
    "LDNCrime = LDNCrime.withColumnRenamed('LSOA code', 'LSOA_code')\n",
    "LDNCrime = LDNCrime.withColumnRenamed('LSOA name', 'LSOA_name')\n",
    "LDNCrime = LDNCrime.withColumnRenamed('Crime type', 'Crime_type')\n",
    "LDNCrime = LDNCrime.withColumnRenamed('Last outcome category', 'Last_outcome_category')"
   ]
  },
  {
   "cell_type": "code",
   "execution_count": 7,
   "id": "aa6ea692",
   "metadata": {
    "execution": {
     "iopub.execute_input": "2024-01-03T15:22:01.540788Z",
     "iopub.status.busy": "2024-01-03T15:22:01.540110Z",
     "iopub.status.idle": "2024-01-03T15:22:01.547501Z",
     "shell.execute_reply": "2024-01-03T15:22:01.546043Z"
    },
    "papermill": {
     "duration": 0.026596,
     "end_time": "2024-01-03T15:22:01.549847",
     "exception": false,
     "start_time": "2024-01-03T15:22:01.523251",
     "status": "completed"
    },
    "tags": []
   },
   "outputs": [
    {
     "name": "stdout",
     "output_type": "stream",
     "text": [
      "root\n",
      " |-- Crime_ID: string (nullable = true)\n",
      " |-- Month: string (nullable = true)\n",
      " |-- Reported_by: string (nullable = true)\n",
      " |-- Falls_within: string (nullable = true)\n",
      " |-- Longitude: double (nullable = true)\n",
      " |-- Latitude: double (nullable = true)\n",
      " |-- Location: string (nullable = true)\n",
      " |-- LSOA_code: string (nullable = true)\n",
      " |-- LSOA_name: string (nullable = true)\n",
      " |-- Crime_type: string (nullable = true)\n",
      " |-- Last_outcome_category: string (nullable = true)\n",
      " |-- Context: string (nullable = true)\n",
      "\n"
     ]
    }
   ],
   "source": [
    "LDNCrime.printSchema()"
   ]
  },
  {
   "cell_type": "code",
   "execution_count": 8,
   "id": "d54c9265",
   "metadata": {
    "execution": {
     "iopub.execute_input": "2024-01-03T15:22:01.584799Z",
     "iopub.status.busy": "2024-01-03T15:22:01.584009Z",
     "iopub.status.idle": "2024-01-03T15:22:02.003167Z",
     "shell.execute_reply": "2024-01-03T15:22:02.001936Z"
    },
    "papermill": {
     "duration": 0.44031,
     "end_time": "2024-01-03T15:22:02.006209",
     "exception": false,
     "start_time": "2024-01-03T15:22:01.565899",
     "status": "completed"
    },
    "tags": []
   },
   "outputs": [
    {
     "data": {
      "text/plain": [
       "[Row(Crime_ID='b45dac6a67d5db23714d7eb073a3482c63f45f27f4b6bd0c88117ff49753f1b2', Month='2021-06', Reported_by='Nottinghamshire Police', Falls_within='Nottinghamshire Police', Longitude=-1.400636, Latitude=53.075034, Location='On or near B6016', LSOA_code='E01019475', LSOA_name='Amber Valley 004E', Crime_type='Violence and sexual offences', Last_outcome_category='Unable to prosecute suspect', Context=None),\n",
       " Row(Crime_ID='63c3b35c31af90a96816edf97bb866d937b9cc2e03f99616daaa7d5dcd188be7', Month='2021-06', Reported_by='Nottinghamshire Police', Falls_within='Nottinghamshire Police', Longitude=-1.410348, Latitude=53.04264, Location='On or near Pear Tree Avenue', LSOA_code='E01019463', LSOA_name='Amber Valley 008F', Crime_type='Violence and sexual offences', Last_outcome_category='Unable to prosecute suspect', Context=None)]"
      ]
     },
     "execution_count": 8,
     "metadata": {},
     "output_type": "execute_result"
    }
   ],
   "source": [
    "LDNCrime.take(2)"
   ]
  },
  {
   "cell_type": "code",
   "execution_count": 9,
   "id": "d44bf75a",
   "metadata": {
    "execution": {
     "iopub.execute_input": "2024-01-03T15:22:02.040155Z",
     "iopub.status.busy": "2024-01-03T15:22:02.039743Z",
     "iopub.status.idle": "2024-01-03T15:22:04.709977Z",
     "shell.execute_reply": "2024-01-03T15:22:04.708729Z"
    },
    "papermill": {
     "duration": 2.692557,
     "end_time": "2024-01-03T15:22:04.714785",
     "exception": false,
     "start_time": "2024-01-03T15:22:02.022228",
     "status": "completed"
    },
    "tags": []
   },
   "outputs": [
    {
     "name": "stderr",
     "output_type": "stream",
     "text": [
      "[Stage 4:=============================>                             (1 + 1) / 2]\r"
     ]
    },
    {
     "name": "stdout",
     "output_type": "stream",
     "text": [
      "+-------+-----+\n",
      "|  Month|count|\n",
      "+-------+-----+\n",
      "|2021-06|32975|\n",
      "|2021-07|32286|\n",
      "|2021-05|30720|\n",
      "|2021-03|30717|\n",
      "|2021-08|30060|\n",
      "|2021-04|29992|\n",
      "|2021-09|29614|\n",
      "|2021-11|29091|\n",
      "|2021-10|28585|\n",
      "|2021-12|27046|\n",
      "|2021-01|26044|\n",
      "|2021-02|25316|\n",
      "+-------+-----+\n",
      "\n"
     ]
    },
    {
     "name": "stderr",
     "output_type": "stream",
     "text": [
      "                                                                                \r"
     ]
    }
   ],
   "source": [
    "#get the counts for each month ordered in descending order\n",
    "LDNCrime.groupby(\"Month\").count().orderBy(desc(\"count\")).show()"
   ]
  },
  {
   "cell_type": "code",
   "execution_count": 10,
   "id": "e3493160",
   "metadata": {
    "execution": {
     "iopub.execute_input": "2024-01-03T15:22:04.750353Z",
     "iopub.status.busy": "2024-01-03T15:22:04.749827Z",
     "iopub.status.idle": "2024-01-03T15:22:06.233202Z",
     "shell.execute_reply": "2024-01-03T15:22:06.231900Z"
    },
    "papermill": {
     "duration": 1.506529,
     "end_time": "2024-01-03T15:22:06.237869",
     "exception": false,
     "start_time": "2024-01-03T15:22:04.731340",
     "status": "completed"
    },
    "tags": []
   },
   "outputs": [
    {
     "name": "stderr",
     "output_type": "stream",
     "text": [
      "[Stage 7:>                                                          (0 + 2) / 2]\r"
     ]
    },
    {
     "name": "stdout",
     "output_type": "stream",
     "text": [
      "+----+------+\n",
      "|Year| count|\n",
      "+----+------+\n",
      "|2021|352446|\n",
      "+----+------+\n",
      "\n"
     ]
    },
    {
     "name": "stderr",
     "output_type": "stream",
     "text": [
      "                                                                                \r"
     ]
    }
   ],
   "source": [
    "#retrieve yearly amount of crimes sorted descendantly\n",
    "LDNCrime.select(substring(LDNCrime.Month, 1,4).alias('Year'), \"Month\")\\\n",
    ".groupby(\"Year\").count().show()"
   ]
  },
  {
   "cell_type": "code",
   "execution_count": null,
   "id": "bedbd958",
   "metadata": {
    "papermill": {
     "duration": 0.017048,
     "end_time": "2024-01-03T15:22:06.276905",
     "exception": false,
     "start_time": "2024-01-03T15:22:06.259857",
     "status": "completed"
    },
    "tags": []
   },
   "outputs": [],
   "source": []
  }
 ],
 "metadata": {
  "kaggle": {
   "accelerator": "none",
   "dataSources": [
    {
     "datasetId": 4233255,
     "sourceId": 7297781,
     "sourceType": "datasetVersion"
    }
   ],
   "dockerImageVersionId": 30626,
   "isGpuEnabled": false,
   "isInternetEnabled": true,
   "language": "python",
   "sourceType": "notebook"
  },
  "kernelspec": {
   "display_name": "Python 3",
   "language": "python",
   "name": "python3"
  },
  "language_info": {
   "codemirror_mode": {
    "name": "ipython",
    "version": 3
   },
   "file_extension": ".py",
   "mimetype": "text/x-python",
   "name": "python",
   "nbconvert_exporter": "python",
   "pygments_lexer": "ipython3",
   "version": "3.10.12"
  },
  "papermill": {
   "default_parameters": {},
   "duration": 79.121622,
   "end_time": "2024-01-03T15:22:08.916168",
   "environment_variables": {},
   "exception": null,
   "input_path": "__notebook__.ipynb",
   "output_path": "__notebook__.ipynb",
   "parameters": {},
   "start_time": "2024-01-03T15:20:49.794546",
   "version": "2.4.0"
  }
 },
 "nbformat": 4,
 "nbformat_minor": 5
}
