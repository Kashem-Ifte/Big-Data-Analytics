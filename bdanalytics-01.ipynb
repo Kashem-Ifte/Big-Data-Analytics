{
 "cells": [
  {
   "cell_type": "code",
   "execution_count": 1,
   "id": "a906a3cc",
   "metadata": {
    "execution": {
     "iopub.execute_input": "2024-01-08T11:44:23.226851Z",
     "iopub.status.busy": "2024-01-08T11:44:23.225264Z",
     "iopub.status.idle": "2024-01-08T11:45:19.937713Z",
     "shell.execute_reply": "2024-01-08T11:45:19.936084Z"
    },
    "papermill": {
     "duration": 56.733897,
     "end_time": "2024-01-08T11:45:19.940909",
     "exception": false,
     "start_time": "2024-01-08T11:44:23.207012",
     "status": "completed"
    },
    "tags": []
   },
   "outputs": [
    {
     "name": "stdout",
     "output_type": "stream",
     "text": [
      "Collecting pyspark==3.2\r\n",
      "  Downloading pyspark-3.2.0.tar.gz (281.3 MB)\r\n",
      "\u001b[2K     \u001b[90m━━━━━━━━━━━━━━━━━━━━━━━━━━━━━━━━━━━━━━━\u001b[0m \u001b[32m281.3/281.3 MB\u001b[0m \u001b[31m3.4 MB/s\u001b[0m eta \u001b[36m0:00:00\u001b[0m\r\n",
      "\u001b[?25h  Preparing metadata (setup.py) ... \u001b[?25l-\b \b\\\b \bdone\r\n",
      "\u001b[?25hCollecting py4j==0.10.9.2 (from pyspark==3.2)\r\n",
      "  Downloading py4j-0.10.9.2-py2.py3-none-any.whl (198 kB)\r\n",
      "\u001b[2K     \u001b[90m━━━━━━━━━━━━━━━━━━━━━━━━━━━━━━━━━━━━━━\u001b[0m \u001b[32m198.8/198.8 kB\u001b[0m \u001b[31m12.9 MB/s\u001b[0m eta \u001b[36m0:00:00\u001b[0m\r\n",
      "\u001b[?25hBuilding wheels for collected packages: pyspark\r\n",
      "  Building wheel for pyspark (setup.py) ... \u001b[?25l-\b \b\\\b \b|\b \bdone\r\n",
      "\u001b[?25h  Created wheel for pyspark: filename=pyspark-3.2.0-py2.py3-none-any.whl size=281805893 sha256=dfcc4e2b390bdfc43b102d3a3309482153b41d022d02be4f3a2b8bb5a5e62c5a\r\n",
      "  Stored in directory: /root/.cache/pip/wheels/32/97/d3/8b6d964c8700e4fbb561c71638a92ec55dac9be51eb5fea86d\r\n",
      "Successfully built pyspark\r\n",
      "Installing collected packages: py4j, pyspark\r\n",
      "  Attempting uninstall: py4j\r\n",
      "    Found existing installation: py4j 0.10.9.7\r\n",
      "    Uninstalling py4j-0.10.9.7:\r\n",
      "      Successfully uninstalled py4j-0.10.9.7\r\n",
      "Successfully installed py4j-0.10.9.2 pyspark-3.2.0\r\n"
     ]
    }
   ],
   "source": [
    "!pip install pyspark==3.2"
   ]
  },
  {
   "cell_type": "code",
   "execution_count": 2,
   "id": "427aa836",
   "metadata": {
    "execution": {
     "iopub.execute_input": "2024-01-08T11:45:20.000489Z",
     "iopub.status.busy": "2024-01-08T11:45:20.000019Z",
     "iopub.status.idle": "2024-01-08T11:45:27.199141Z",
     "shell.execute_reply": "2024-01-08T11:45:27.197841Z"
    },
    "papermill": {
     "duration": 7.234226,
     "end_time": "2024-01-08T11:45:27.203504",
     "exception": false,
     "start_time": "2024-01-08T11:45:19.969278",
     "status": "completed"
    },
    "tags": []
   },
   "outputs": [
    {
     "name": "stderr",
     "output_type": "stream",
     "text": [
      "WARNING: An illegal reflective access operation has occurred\n",
      "WARNING: Illegal reflective access by org.apache.spark.unsafe.Platform (file:/opt/conda/lib/python3.10/site-packages/pyspark/jars/spark-unsafe_2.12-3.2.0.jar) to constructor java.nio.DirectByteBuffer(long,int)\n",
      "WARNING: Please consider reporting this to the maintainers of org.apache.spark.unsafe.Platform\n",
      "WARNING: Use --illegal-access=warn to enable warnings of further illegal reflective access operations\n",
      "WARNING: All illegal access operations will be denied in a future release\n",
      "Using Spark's default log4j profile: org/apache/spark/log4j-defaults.properties\n",
      "Setting default log level to \"WARN\".\n",
      "To adjust logging level use sc.setLogLevel(newLevel). For SparkR, use setLogLevel(newLevel).\n",
      "24/01/08 11:45:23 WARN NativeCodeLoader: Unable to load native-hadoop library for your platform... using builtin-java classes where applicable\n",
      "/opt/conda/lib/python3.10/site-packages/pyspark/sql/context.py:77: FutureWarning: Deprecated in 3.0.0. Use SparkSession.builder.getOrCreate() instead.\n",
      "  warnings.warn(\n"
     ]
    }
   ],
   "source": [
    "#Start spark sessnon and configureation\n",
    "from pyspark import SparkConf, SparkContext\n",
    "from pyspark.sql import SparkSession, SQLContext\n",
    "spark = SparkSession.builder.master(\"local[2]\").appName(\"dat\").getOrCreate()\n",
    "sc = spark.sparkContext\n",
    "#create an instance of SQLContext\n",
    "sqlContext = SQLContext(spark)"
   ]
  },
  {
   "cell_type": "code",
   "execution_count": 3,
   "id": "a21f5b18",
   "metadata": {
    "execution": {
     "iopub.execute_input": "2024-01-08T11:45:27.273964Z",
     "iopub.status.busy": "2024-01-08T11:45:27.272885Z",
     "iopub.status.idle": "2024-01-08T11:45:27.753637Z",
     "shell.execute_reply": "2024-01-08T11:45:27.751982Z"
    },
    "papermill": {
     "duration": 0.515748,
     "end_time": "2024-01-08T11:45:27.757258",
     "exception": false,
     "start_time": "2024-01-08T11:45:27.241510",
     "status": "completed"
    },
    "tags": []
   },
   "outputs": [],
   "source": [
    "# Import libraries and other functions\n",
    "from io import StringIO\n",
    "from collections import namedtuple\n",
    "from pyspark.sql import Row\n",
    "from pyspark.sql.types import *\n",
    "from pyspark.sql.functions import *\n",
    "\n",
    "import csv\n",
    "import matplotlib.pyplot as plt\n",
    "\n",
    "import pandas as pd\n",
    "import numpy as np"
   ]
  },
  {
   "cell_type": "code",
   "execution_count": 4,
   "id": "04d3d808",
   "metadata": {
    "execution": {
     "iopub.execute_input": "2024-01-08T11:45:27.825453Z",
     "iopub.status.busy": "2024-01-08T11:45:27.823655Z",
     "iopub.status.idle": "2024-01-08T11:45:39.460207Z",
     "shell.execute_reply": "2024-01-08T11:45:39.459230Z"
    },
    "papermill": {
     "duration": 11.675401,
     "end_time": "2024-01-08T11:45:39.463060",
     "exception": false,
     "start_time": "2024-01-08T11:45:27.787659",
     "status": "completed"
    },
    "tags": []
   },
   "outputs": [
    {
     "name": "stderr",
     "output_type": "stream",
     "text": [
      "                                                                                \r"
     ]
    }
   ],
   "source": [
    "LDNCrime = spark.read.option(\"header\", \"true\").option(\"delimiter\", \",\")\\\n",
    ".option(\"inferSchema\", \"true\").\\\n",
    "csv(\"/kaggle/input/3-cities-crime/Leicester_Derby_Nottingham Crime data 2021-22\")"
   ]
  },
  {
   "cell_type": "code",
   "execution_count": 5,
   "id": "41f39a83",
   "metadata": {
    "execution": {
     "iopub.execute_input": "2024-01-08T11:45:39.522950Z",
     "iopub.status.busy": "2024-01-08T11:45:39.522488Z",
     "iopub.status.idle": "2024-01-08T11:45:39.538788Z",
     "shell.execute_reply": "2024-01-08T11:45:39.537807Z"
    },
    "papermill": {
     "duration": 0.050126,
     "end_time": "2024-01-08T11:45:39.542546",
     "exception": false,
     "start_time": "2024-01-08T11:45:39.492420",
     "status": "completed"
    },
    "tags": []
   },
   "outputs": [
    {
     "name": "stdout",
     "output_type": "stream",
     "text": [
      "root\n",
      " |-- Crime ID: string (nullable = true)\n",
      " |-- Month: string (nullable = true)\n",
      " |-- Reported by: string (nullable = true)\n",
      " |-- Falls within: string (nullable = true)\n",
      " |-- Longitude: double (nullable = true)\n",
      " |-- Latitude: double (nullable = true)\n",
      " |-- Location: string (nullable = true)\n",
      " |-- LSOA code: string (nullable = true)\n",
      " |-- LSOA name: string (nullable = true)\n",
      " |-- Crime type: string (nullable = true)\n",
      " |-- Last outcome category: string (nullable = true)\n",
      " |-- Context: string (nullable = true)\n",
      "\n"
     ]
    }
   ],
   "source": [
    "LDNCrime.printSchema()"
   ]
  },
  {
   "cell_type": "code",
   "execution_count": 6,
   "id": "038c7b58",
   "metadata": {
    "execution": {
     "iopub.execute_input": "2024-01-08T11:45:39.615442Z",
     "iopub.status.busy": "2024-01-08T11:45:39.614995Z",
     "iopub.status.idle": "2024-01-08T11:45:39.751016Z",
     "shell.execute_reply": "2024-01-08T11:45:39.749814Z"
    },
    "papermill": {
     "duration": 0.17079,
     "end_time": "2024-01-08T11:45:39.755124",
     "exception": false,
     "start_time": "2024-01-08T11:45:39.584334",
     "status": "completed"
    },
    "tags": []
   },
   "outputs": [],
   "source": [
    "# tidy up the column names\n",
    "\n",
    "LDNCrime = LDNCrime.withColumnRenamed('Crime ID', 'Crime_ID')\n",
    "LDNCrime = LDNCrime.withColumnRenamed('Reported by', 'Reported_by')\n",
    "LDNCrime = LDNCrime.withColumnRenamed('Falls within', 'Falls_within')\n",
    "LDNCrime = LDNCrime.withColumnRenamed('LSOA code', 'LSOA_code')\n",
    "LDNCrime = LDNCrime.withColumnRenamed('LSOA name', 'LSOA_name')\n",
    "LDNCrime = LDNCrime.withColumnRenamed('Crime type', 'Crime_type')\n",
    "LDNCrime = LDNCrime.withColumnRenamed('Last outcome category', 'Last_outcome_category')"
   ]
  },
  {
   "cell_type": "code",
   "execution_count": 7,
   "id": "fe435b8a",
   "metadata": {
    "execution": {
     "iopub.execute_input": "2024-01-08T11:45:39.816631Z",
     "iopub.status.busy": "2024-01-08T11:45:39.816219Z",
     "iopub.status.idle": "2024-01-08T11:45:39.823569Z",
     "shell.execute_reply": "2024-01-08T11:45:39.822198Z"
    },
    "papermill": {
     "duration": 0.041552,
     "end_time": "2024-01-08T11:45:39.826133",
     "exception": false,
     "start_time": "2024-01-08T11:45:39.784581",
     "status": "completed"
    },
    "tags": []
   },
   "outputs": [
    {
     "name": "stdout",
     "output_type": "stream",
     "text": [
      "root\n",
      " |-- Crime_ID: string (nullable = true)\n",
      " |-- Month: string (nullable = true)\n",
      " |-- Reported_by: string (nullable = true)\n",
      " |-- Falls_within: string (nullable = true)\n",
      " |-- Longitude: double (nullable = true)\n",
      " |-- Latitude: double (nullable = true)\n",
      " |-- Location: string (nullable = true)\n",
      " |-- LSOA_code: string (nullable = true)\n",
      " |-- LSOA_name: string (nullable = true)\n",
      " |-- Crime_type: string (nullable = true)\n",
      " |-- Last_outcome_category: string (nullable = true)\n",
      " |-- Context: string (nullable = true)\n",
      "\n"
     ]
    }
   ],
   "source": [
    "LDNCrime.printSchema()"
   ]
  },
  {
   "cell_type": "code",
   "execution_count": 8,
   "id": "55d749a8",
   "metadata": {
    "execution": {
     "iopub.execute_input": "2024-01-08T11:45:39.887577Z",
     "iopub.status.busy": "2024-01-08T11:45:39.887136Z",
     "iopub.status.idle": "2024-01-08T11:45:40.305841Z",
     "shell.execute_reply": "2024-01-08T11:45:40.304518Z"
    },
    "papermill": {
     "duration": 0.453615,
     "end_time": "2024-01-08T11:45:40.309970",
     "exception": false,
     "start_time": "2024-01-08T11:45:39.856355",
     "status": "completed"
    },
    "tags": []
   },
   "outputs": [
    {
     "data": {
      "text/plain": [
       "[Row(Crime_ID='669fa661520a6ef86a226893c1eacd5a503b7801b8cf6c6f153200a5628bf02e', Month='2022-05', Reported_by='Nottinghamshire Police', Falls_within='Nottinghamshire Police', Longitude=-1.375369, Latitude=53.099579, Location='On or near Priory Road', LSOA_code='E01019400', LSOA_name='Amber Valley 001A', Crime_type='Violence and sexual offences', Last_outcome_category='Status update unavailable', Context=None),\n",
       " Row(Crime_ID=None, Month='2022-05', Reported_by='Nottinghamshire Police', Falls_within='Nottinghamshire Police', Longitude=-1.329291, Latitude=53.021005, Location='On or near Bridge Street', LSOA_code='E01019453', LSOA_name='Amber Valley 017D', Crime_type='Anti-social behaviour', Last_outcome_category=None, Context=None)]"
      ]
     },
     "execution_count": 8,
     "metadata": {},
     "output_type": "execute_result"
    }
   ],
   "source": [
    "LDNCrime.take(2)"
   ]
  },
  {
   "cell_type": "code",
   "execution_count": 9,
   "id": "509510ba",
   "metadata": {
    "execution": {
     "iopub.execute_input": "2024-01-08T11:45:40.387174Z",
     "iopub.status.busy": "2024-01-08T11:45:40.385471Z",
     "iopub.status.idle": "2024-01-08T11:45:43.605491Z",
     "shell.execute_reply": "2024-01-08T11:45:43.603814Z"
    },
    "papermill": {
     "duration": 3.258841,
     "end_time": "2024-01-08T11:45:43.611989",
     "exception": false,
     "start_time": "2024-01-08T11:45:40.353148",
     "status": "completed"
    },
    "tags": []
   },
   "outputs": [
    {
     "name": "stderr",
     "output_type": "stream",
     "text": [
      "[Stage 4:============================================>              (3 + 1) / 4]\r"
     ]
    },
    {
     "name": "stdout",
     "output_type": "stream",
     "text": [
      "+-------+-----+\n",
      "|  Month|count|\n",
      "+-------+-----+\n",
      "|2021-06|32975|\n",
      "|2022-05|32872|\n",
      "|2021-07|32286|\n",
      "|2022-08|31867|\n",
      "|2022-03|31359|\n",
      "|2022-04|30723|\n",
      "|2021-05|30720|\n",
      "|2021-03|30717|\n",
      "|2021-08|30060|\n",
      "|2021-04|29992|\n",
      "|2022-07|29625|\n",
      "|2021-09|29614|\n",
      "|2022-11|29547|\n",
      "|2021-11|29091|\n",
      "|2022-06|28952|\n",
      "|2021-10|28585|\n",
      "|2022-10|28515|\n",
      "|2022-02|27338|\n",
      "|2021-12|27046|\n",
      "|2022-09|26870|\n",
      "+-------+-----+\n",
      "only showing top 20 rows\n",
      "\n"
     ]
    },
    {
     "name": "stderr",
     "output_type": "stream",
     "text": [
      "                                                                                \r"
     ]
    }
   ],
   "source": [
    "#get the counts for each month ordered in descending order\n",
    "LDNCrime.groupby(\"Month\").count().orderBy(desc(\"count\")).show()"
   ]
  },
  {
   "cell_type": "code",
   "execution_count": 10,
   "id": "d9942d94",
   "metadata": {
    "execution": {
     "iopub.execute_input": "2024-01-08T11:45:43.805057Z",
     "iopub.status.busy": "2024-01-08T11:45:43.804596Z",
     "iopub.status.idle": "2024-01-08T11:45:46.043916Z",
     "shell.execute_reply": "2024-01-08T11:45:46.042651Z"
    },
    "papermill": {
     "duration": 2.274231,
     "end_time": "2024-01-08T11:45:46.047022",
     "exception": false,
     "start_time": "2024-01-08T11:45:43.772791",
     "status": "completed"
    },
    "tags": []
   },
   "outputs": [
    {
     "name": "stderr",
     "output_type": "stream",
     "text": [
      "[Stage 7:============================================>              (3 + 1) / 4]\r"
     ]
    },
    {
     "name": "stdout",
     "output_type": "stream",
     "text": [
      "+--------------------+------+\n",
      "|         Reported_by| count|\n",
      "+--------------------+------+\n",
      "|Nottinghamshire P...|256640|\n",
      "|Derbyshire Consta...|231754|\n",
      "|Leicestershire Po...|214186|\n",
      "+--------------------+------+\n",
      "\n"
     ]
    },
    {
     "name": "stderr",
     "output_type": "stream",
     "text": [
      "                                                                                \r"
     ]
    }
   ],
   "source": [
    "LDNCrime.groupby(\"Reported_by\").count().orderBy(desc(\"count\")).show()"
   ]
  },
  {
   "cell_type": "code",
   "execution_count": 11,
   "id": "5c807460",
   "metadata": {
    "execution": {
     "iopub.execute_input": "2024-01-08T11:45:46.112858Z",
     "iopub.status.busy": "2024-01-08T11:45:46.112325Z",
     "iopub.status.idle": "2024-01-08T11:45:48.191583Z",
     "shell.execute_reply": "2024-01-08T11:45:48.189936Z"
    },
    "papermill": {
     "duration": 2.120047,
     "end_time": "2024-01-08T11:45:48.199541",
     "exception": false,
     "start_time": "2024-01-08T11:45:46.079494",
     "status": "completed"
    },
    "tags": []
   },
   "outputs": [
    {
     "name": "stderr",
     "output_type": "stream",
     "text": [
      "[Stage 10:===========================================>              (3 + 1) / 4]\r"
     ]
    },
    {
     "name": "stdout",
     "output_type": "stream",
     "text": [
      "+--------------------+------+\n",
      "|        Falls_within| count|\n",
      "+--------------------+------+\n",
      "|Nottinghamshire P...|256640|\n",
      "|Derbyshire Consta...|231754|\n",
      "|Leicestershire Po...|214186|\n",
      "+--------------------+------+\n",
      "\n"
     ]
    },
    {
     "name": "stderr",
     "output_type": "stream",
     "text": [
      "                                                                                \r"
     ]
    }
   ],
   "source": [
    "LDNCrime.groupby(\"Falls_within\").count().orderBy(desc(\"count\")).show()"
   ]
  },
  {
   "cell_type": "code",
   "execution_count": 12,
   "id": "b1f4898e",
   "metadata": {
    "execution": {
     "iopub.execute_input": "2024-01-08T11:45:48.358132Z",
     "iopub.status.busy": "2024-01-08T11:45:48.357511Z",
     "iopub.status.idle": "2024-01-08T11:45:50.622185Z",
     "shell.execute_reply": "2024-01-08T11:45:50.620291Z"
    },
    "papermill": {
     "duration": 2.360736,
     "end_time": "2024-01-08T11:45:50.627267",
     "exception": false,
     "start_time": "2024-01-08T11:45:48.266531",
     "status": "completed"
    },
    "tags": []
   },
   "outputs": [
    {
     "name": "stderr",
     "output_type": "stream",
     "text": [
      "[Stage 13:===========================================>              (3 + 1) / 4]\r"
     ]
    },
    {
     "name": "stdout",
     "output_type": "stream",
     "text": [
      "+----+------+\n",
      "|Year| count|\n",
      "+----+------+\n",
      "|2022|350134|\n",
      "|2021|352446|\n",
      "+----+------+\n",
      "\n"
     ]
    },
    {
     "name": "stderr",
     "output_type": "stream",
     "text": [
      "                                                                                \r"
     ]
    }
   ],
   "source": [
    "#retrieve yearly amount of crimes sorted descendantly\n",
    "LDNCrime.select(substring(LDNCrime.Month, 1,4).alias('Year'), \"Month\")\\\n",
    ".groupby(\"Year\").count().show()"
   ]
  },
  {
   "cell_type": "markdown",
   "id": "aa5d7b39",
   "metadata": {
    "papermill": {
     "duration": 0.044094,
     "end_time": "2024-01-08T11:45:50.717288",
     "exception": false,
     "start_time": "2024-01-08T11:45:50.673194",
     "status": "completed"
    },
    "tags": []
   },
   "source": [
    "* Make a  line graph for each cities \n",
    "* piechart"
   ]
  },
  {
   "cell_type": "code",
   "execution_count": 13,
   "id": "7b3d9381",
   "metadata": {
    "execution": {
     "iopub.execute_input": "2024-01-08T11:45:50.810580Z",
     "iopub.status.busy": "2024-01-08T11:45:50.810081Z",
     "iopub.status.idle": "2024-01-08T11:45:53.252198Z",
     "shell.execute_reply": "2024-01-08T11:45:53.250781Z"
    },
    "papermill": {
     "duration": 2.497058,
     "end_time": "2024-01-08T11:45:53.259200",
     "exception": false,
     "start_time": "2024-01-08T11:45:50.762142",
     "status": "completed"
    },
    "tags": []
   },
   "outputs": [
    {
     "name": "stderr",
     "output_type": "stream",
     "text": [
      "[Stage 16:===========================================>              (3 + 1) / 4]\r"
     ]
    },
    {
     "name": "stdout",
     "output_type": "stream",
     "text": [
      "+-----+-----+\n",
      "|Month|count|\n",
      "+-----+-----+\n",
      "|   05|63592|\n",
      "|   03|62076|\n",
      "|   08|61927|\n",
      "|   06|61927|\n",
      "|   07|61911|\n",
      "|   04|60715|\n",
      "|   11|58638|\n",
      "|   10|57100|\n",
      "|   09|56484|\n",
      "|   12|53229|\n",
      "|   02|52654|\n",
      "|   01|52327|\n",
      "+-----+-----+\n",
      "\n"
     ]
    },
    {
     "name": "stderr",
     "output_type": "stream",
     "text": [
      "                                                                                \r"
     ]
    }
   ],
   "source": [
    "#retrieve monthly amount of crimes sorted descendantly\n",
    "LDNCrime.\\\n",
    "select(substring(LDNCrime.Month, 6,7)\\\n",
    "                                                          \\\n",
    "       .alias('Month'), LDNCrime.Month.\\\n",
    "                                                          \\\n",
    "       alias('MonthWithYear')).groupby(\"Month\").\\\n",
    "count().orderBy(desc(\"count\")).show()"
   ]
  },
  {
   "cell_type": "code",
   "execution_count": 14,
   "id": "50f80c59",
   "metadata": {
    "execution": {
     "iopub.execute_input": "2024-01-08T11:45:53.357063Z",
     "iopub.status.busy": "2024-01-08T11:45:53.356461Z",
     "iopub.status.idle": "2024-01-08T11:45:53.435500Z",
     "shell.execute_reply": "2024-01-08T11:45:53.434337Z"
    },
    "papermill": {
     "duration": 0.132315,
     "end_time": "2024-01-08T11:45:53.439384",
     "exception": false,
     "start_time": "2024-01-08T11:45:53.307069",
     "status": "completed"
    },
    "tags": []
   },
   "outputs": [
    {
     "name": "stderr",
     "output_type": "stream",
     "text": [
      "/opt/conda/lib/python3.10/site-packages/pyspark/sql/dataframe.py:138: FutureWarning: Deprecated in 2.0, use createOrReplaceTempView instead.\n",
      "  warnings.warn(\n"
     ]
    }
   ],
   "source": [
    "#register temp tables \n",
    "LDNCrime.registerTempTable(\"tbl_LDNCrimes\")"
   ]
  },
  {
   "cell_type": "code",
   "execution_count": 15,
   "id": "a042b4e0",
   "metadata": {
    "execution": {
     "iopub.execute_input": "2024-01-08T11:45:53.510336Z",
     "iopub.status.busy": "2024-01-08T11:45:53.509459Z",
     "iopub.status.idle": "2024-01-08T11:45:53.991770Z",
     "shell.execute_reply": "2024-01-08T11:45:53.990573Z"
    },
    "papermill": {
     "duration": 0.522633,
     "end_time": "2024-01-08T11:45:53.995934",
     "exception": false,
     "start_time": "2024-01-08T11:45:53.473301",
     "status": "completed"
    },
    "tags": []
   },
   "outputs": [
    {
     "name": "stdout",
     "output_type": "stream",
     "text": [
      "+--------------------+-------+--------------------+--------------------+---------+---------+--------------------+---------+-----------------+--------------------+---------------------+-------+\n",
      "|            Crime_ID|  Month|         Reported_by|        Falls_within|Longitude| Latitude|            Location|LSOA_code|        LSOA_name|          Crime_type|Last_outcome_category|Context|\n",
      "+--------------------+-------+--------------------+--------------------+---------+---------+--------------------+---------+-----------------+--------------------+---------------------+-------+\n",
      "|669fa661520a6ef86...|2022-05|Nottinghamshire P...|Nottinghamshire P...|-1.375369|53.099579|On or near Priory...|E01019400|Amber Valley 001A|Violence and sexu...| Status update una...|   null|\n",
      "|                null|2022-05|Nottinghamshire P...|Nottinghamshire P...|-1.329291|53.021005|On or near Bridge...|E01019453|Amber Valley 017D|Anti-social behav...|                 null|   null|\n",
      "|                null|2022-05|Nottinghamshire P...|Nottinghamshire P...|-1.253677|53.141056|On or near Petrol...|E01027979|    Ashfield 001A|Anti-social behav...|                 null|   null|\n",
      "|                null|2022-05|Nottinghamshire P...|Nottinghamshire P...|-1.252344|53.142917|On or near Moorla...|E01027979|    Ashfield 001A|Anti-social behav...|                 null|   null|\n",
      "|                null|2022-05|Nottinghamshire P...|Nottinghamshire P...|-1.253677|53.141056|On or near Petrol...|E01027979|    Ashfield 001A|Anti-social behav...|                 null|   null|\n",
      "+--------------------+-------+--------------------+--------------------+---------+---------+--------------------+---------+-----------------+--------------------+---------------------+-------+\n",
      "only showing top 5 rows\n",
      "\n"
     ]
    }
   ],
   "source": [
    "sqlContext.sql(\"select * from tbl_LDNCrimes\").show(5)"
   ]
  },
  {
   "cell_type": "code",
   "execution_count": 16,
   "id": "c39ceca0",
   "metadata": {
    "execution": {
     "iopub.execute_input": "2024-01-08T11:45:54.094947Z",
     "iopub.status.busy": "2024-01-08T11:45:54.093328Z",
     "iopub.status.idle": "2024-01-08T11:45:57.132482Z",
     "shell.execute_reply": "2024-01-08T11:45:57.130215Z"
    },
    "papermill": {
     "duration": 3.088849,
     "end_time": "2024-01-08T11:45:57.135522",
     "exception": false,
     "start_time": "2024-01-08T11:45:54.046673",
     "status": "completed"
    },
    "tags": []
   },
   "outputs": [
    {
     "name": "stderr",
     "output_type": "stream",
     "text": [
      "[Stage 20:===========================================>              (3 + 1) / 4]\r"
     ]
    },
    {
     "name": "stdout",
     "output_type": "stream",
     "text": [
      "+--------------------+-------+--------------------+--------------------+---------+---------+--------------------+---------+-----------------+--------------------+---------------------+-------+\n",
      "|            Crime_ID|  Month|         Reported_by|        Falls_within|Longitude| Latitude|            Location|LSOA_code|        LSOA_name|          Crime_type|Last_outcome_category|Context|\n",
      "+--------------------+-------+--------------------+--------------------+---------+---------+--------------------+---------+-----------------+--------------------+---------------------+-------+\n",
      "|                null|2022-12|Derbyshire Consta...|Derbyshire Consta...|-1.385408|53.098319|         On or near |E01019401|Amber Valley 001B|Anti-social behav...|                 null|   null|\n",
      "|b8220bd4b1a42f974...|2022-12|Derbyshire Consta...|Derbyshire Consta...|-1.373886|53.099904|On or near Cather...|E01019400|Amber Valley 001A|Violence and sexu...| Status update una...|   null|\n",
      "|                null|2022-12|Derbyshire Consta...|Derbyshire Consta...|-1.392179|53.097949|On or near Church...|E01019401|Amber Valley 001B|Anti-social behav...|                 null|   null|\n",
      "|618014f6432291c01...|2022-12|Derbyshire Consta...|Derbyshire Consta...|-1.375754|53.098772|On or near Mansfi...|E01019400|Amber Valley 001A|Violence and sexu...| Unable to prosecu...|   null|\n",
      "|05451b97f61842b93...|2022-12|Derbyshire Consta...|Derbyshire Consta...| -1.37336|53.097025|On or near Milton...|E01019400|Amber Valley 001A|Violence and sexu...|     Local resolution|   null|\n",
      "|b671a0b54d89b23b8...|2022-12|Derbyshire Consta...|Derbyshire Consta...|-1.376268|53.100411|On or near Morewo...|E01019400|Amber Valley 001A|Violence and sexu...| Unable to prosecu...|   null|\n",
      "|                null|2022-12|Derbyshire Consta...|Derbyshire Consta...|-1.391112|53.095265|On or near King S...|E01019401|Amber Valley 001B|Anti-social behav...|                 null|   null|\n",
      "|                null|2022-12|Derbyshire Consta...|Derbyshire Consta...|-1.374915|53.103055|On or near Tavist...|E01019400|Amber Valley 001A|Anti-social behav...|                 null|   null|\n",
      "|68900a8627e334212...|2022-12|Derbyshire Consta...|Derbyshire Consta...|-1.376936|53.098607|On or near Mansfi...|E01019400|Amber Valley 001A|Violence and sexu...| Awaiting court ou...|   null|\n",
      "|5c11f381665858d57...|2022-12|Derbyshire Consta...|Derbyshire Consta...|-1.375754|53.098772|On or near Mansfi...|E01019400|Amber Valley 001A|Violence and sexu...| Unable to prosecu...|   null|\n",
      "|558cbd7fceb93c5bf...|2022-12|Derbyshire Consta...|Derbyshire Consta...|-1.375754|53.098772|On or near Mansfi...|E01019400|Amber Valley 001A|Violence and sexu...| Unable to prosecu...|   null|\n",
      "|ea227b02f6a7a13ca...|2022-12|Derbyshire Consta...|Derbyshire Consta...|-1.376936|53.098607|On or near Mansfi...|E01019400|Amber Valley 001A|Violence and sexu...| Awaiting court ou...|   null|\n",
      "|67d0433438fe208ce...|2022-12|Derbyshire Consta...|Derbyshire Consta...|-1.373582| 53.09921|On or near Cather...|E01019400|Amber Valley 001A|Violence and sexu...| Investigation com...|   null|\n",
      "|                null|2022-12|Derbyshire Consta...|Derbyshire Consta...|-1.387788|53.095721|         On or near |E01019401|Amber Valley 001B|Anti-social behav...|                 null|   null|\n",
      "|                null|2022-12|Derbyshire Consta...|Derbyshire Consta...| -1.38956|53.096219|         On or near |E01019401|Amber Valley 001B|Anti-social behav...|                 null|   null|\n",
      "|                null|2022-12|Derbyshire Consta...|Derbyshire Consta...|-1.373582| 53.09921|On or near Cather...|E01019400|Amber Valley 001A|Anti-social behav...|                 null|   null|\n",
      "|                null|2022-12|Derbyshire Consta...|Derbyshire Consta...| -1.38956|53.096219|         On or near |E01019401|Amber Valley 001B|Anti-social behav...|                 null|   null|\n",
      "|cd413e32ef7443868...|2022-12|Derbyshire Consta...|Derbyshire Consta...|-1.375384|53.099561|On or near Priory...|E01019400|Amber Valley 001A|       Vehicle crime| Investigation com...|   null|\n",
      "|6c26d7c549794c2d5...|2022-12|Derbyshire Consta...|Derbyshire Consta...|-1.376936|53.098607|On or near Mansfi...|E01019400|Amber Valley 001A|Violence and sexu...| Awaiting court ou...|   null|\n",
      "|e7f4b27dbc25ee1b5...|2022-12|Derbyshire Consta...|Derbyshire Consta...|-1.376765|53.099065|On or near Parkin...|E01019400|Amber Valley 001A|Violence and sexu...| Investigation com...|   null|\n",
      "+--------------------+-------+--------------------+--------------------+---------+---------+--------------------+---------+-----------------+--------------------+---------------------+-------+\n",
      "only showing top 20 rows\n",
      "\n"
     ]
    },
    {
     "name": "stderr",
     "output_type": "stream",
     "text": [
      "                                                                                \r"
     ]
    }
   ],
   "source": [
    "#retreive monthly crime amount and order by total in descending order\n",
    "sqlContext.sql(\"select * from tbl_LDNCrimes order by Month desc\").show()"
   ]
  },
  {
   "cell_type": "code",
   "execution_count": 17,
   "id": "5d1aec4a",
   "metadata": {
    "execution": {
     "iopub.execute_input": "2024-01-08T11:45:57.204592Z",
     "iopub.status.busy": "2024-01-08T11:45:57.204199Z",
     "iopub.status.idle": "2024-01-08T11:45:57.233177Z",
     "shell.execute_reply": "2024-01-08T11:45:57.232254Z"
    },
    "papermill": {
     "duration": 0.066805,
     "end_time": "2024-01-08T11:45:57.236274",
     "exception": false,
     "start_time": "2024-01-08T11:45:57.169469",
     "status": "completed"
    },
    "tags": []
   },
   "outputs": [],
   "source": [
    "# Create new dataframe with Month and Counts per Month\n",
    "LDNCrime_temp = LDNCrime.select(LDNCrime.Month)\\\n",
    ".groupby(LDNCrime.Month).count()"
   ]
  },
  {
   "cell_type": "code",
   "execution_count": 18,
   "id": "41544c32",
   "metadata": {
    "execution": {
     "iopub.execute_input": "2024-01-08T11:45:57.305300Z",
     "iopub.status.busy": "2024-01-08T11:45:57.304886Z",
     "iopub.status.idle": "2024-01-08T11:45:59.262333Z",
     "shell.execute_reply": "2024-01-08T11:45:59.261151Z"
    },
    "papermill": {
     "duration": 1.999646,
     "end_time": "2024-01-08T11:45:59.268288",
     "exception": false,
     "start_time": "2024-01-08T11:45:57.268642",
     "status": "completed"
    },
    "tags": []
   },
   "outputs": [
    {
     "name": "stderr",
     "output_type": "stream",
     "text": [
      "[Stage 21:===========================================>              (3 + 1) / 4]\r"
     ]
    },
    {
     "name": "stdout",
     "output_type": "stream",
     "text": [
      "+-------+-----+\n",
      "|  Month|count|\n",
      "+-------+-----+\n",
      "|2022-12|26183|\n",
      "|2022-11|29547|\n",
      "|2022-10|28515|\n",
      "|2022-09|26870|\n",
      "|2022-08|31867|\n",
      "|2022-07|29625|\n",
      "|2022-06|28952|\n",
      "|2022-05|32872|\n",
      "|2022-04|30723|\n",
      "|2022-03|31359|\n",
      "|2022-02|27338|\n",
      "|2022-01|26283|\n",
      "|2021-12|27046|\n",
      "|2021-11|29091|\n",
      "|2021-10|28585|\n",
      "|2021-09|29614|\n",
      "|2021-08|30060|\n",
      "|2021-07|32286|\n",
      "|2021-06|32975|\n",
      "|2021-05|30720|\n",
      "+-------+-----+\n",
      "only showing top 20 rows\n",
      "\n"
     ]
    },
    {
     "name": "stderr",
     "output_type": "stream",
     "text": [
      "                                                                                \r"
     ]
    }
   ],
   "source": [
    "LDNCrime_temp.orderBy(desc(\"Month\")).show()"
   ]
  },
  {
   "cell_type": "code",
   "execution_count": null,
   "id": "b0f96d47",
   "metadata": {
    "papermill": {
     "duration": 0.033334,
     "end_time": "2024-01-08T11:45:59.337117",
     "exception": false,
     "start_time": "2024-01-08T11:45:59.303783",
     "status": "completed"
    },
    "tags": []
   },
   "outputs": [],
   "source": []
  },
  {
   "cell_type": "code",
   "execution_count": 19,
   "id": "7202cf80",
   "metadata": {
    "execution": {
     "iopub.execute_input": "2024-01-08T11:45:59.406000Z",
     "iopub.status.busy": "2024-01-08T11:45:59.405526Z",
     "iopub.status.idle": "2024-01-08T11:45:59.423903Z",
     "shell.execute_reply": "2024-01-08T11:45:59.422810Z"
    },
    "papermill": {
     "duration": 0.056846,
     "end_time": "2024-01-08T11:45:59.427177",
     "exception": false,
     "start_time": "2024-01-08T11:45:59.370331",
     "status": "completed"
    },
    "tags": []
   },
   "outputs": [],
   "source": [
    "LDNCrime_temp.registerTempTable(\"tbl_LDNCrime_temp\")"
   ]
  },
  {
   "cell_type": "code",
   "execution_count": 20,
   "id": "f741f9be",
   "metadata": {
    "execution": {
     "iopub.execute_input": "2024-01-08T11:45:59.498312Z",
     "iopub.status.busy": "2024-01-08T11:45:59.497369Z",
     "iopub.status.idle": "2024-01-08T11:46:01.169884Z",
     "shell.execute_reply": "2024-01-08T11:46:01.168749Z"
    },
    "papermill": {
     "duration": 1.717244,
     "end_time": "2024-01-08T11:46:01.177966",
     "exception": false,
     "start_time": "2024-01-08T11:45:59.460722",
     "status": "completed"
    },
    "tags": []
   },
   "outputs": [
    {
     "name": "stderr",
     "output_type": "stream",
     "text": [
      "[Stage 24:===========================================>              (3 + 1) / 4]\r"
     ]
    },
    {
     "name": "stdout",
     "output_type": "stream",
     "text": [
      "+-------+-----+\n",
      "|  Month|count|\n",
      "+-------+-----+\n",
      "|2021-07|32286|\n",
      "|2022-04|30723|\n",
      "|2021-04|29992|\n",
      "|2021-06|32975|\n",
      "|2022-02|27338|\n",
      "|2022-08|31867|\n",
      "|2021-11|29091|\n",
      "|2021-03|30717|\n",
      "|2022-11|29547|\n",
      "|2021-05|30720|\n",
      "|2022-03|31359|\n",
      "|2022-05|32872|\n",
      "|2021-08|30060|\n",
      "|2021-09|29614|\n",
      "|2022-06|28952|\n",
      "|2022-07|29625|\n",
      "|2021-10|28585|\n",
      "|2021-12|27046|\n",
      "|2022-10|28515|\n",
      "|2022-09|26870|\n",
      "+-------+-----+\n",
      "only showing top 20 rows\n",
      "\n"
     ]
    },
    {
     "name": "stderr",
     "output_type": "stream",
     "text": [
      "                                                                                \r"
     ]
    }
   ],
   "source": [
    "sqlContext.sql('select * from tbl_LDNCrime_temp').show()"
   ]
  },
  {
   "cell_type": "code",
   "execution_count": 21,
   "id": "2ca98243",
   "metadata": {
    "execution": {
     "iopub.execute_input": "2024-01-08T11:46:01.256309Z",
     "iopub.status.busy": "2024-01-08T11:46:01.255586Z",
     "iopub.status.idle": "2024-01-08T11:46:06.420781Z",
     "shell.execute_reply": "2024-01-08T11:46:06.419447Z"
    },
    "papermill": {
     "duration": 5.205512,
     "end_time": "2024-01-08T11:46:06.423624",
     "exception": false,
     "start_time": "2024-01-08T11:46:01.218112",
     "status": "completed"
    },
    "tags": []
   },
   "outputs": [
    {
     "name": "stderr",
     "output_type": "stream",
     "text": [
      "                                                                                \r"
     ]
    }
   ],
   "source": [
    "monthyear = sqlContext.sql(\"select Month from tbl_LDNCrime_temp\")\\\n",
    ".rdd.map(lambda f:f[0]).collect()\n",
    "Total = sqlContext.sql(\"select count from tbl_LDNCrime_temp\")\\\n",
    ".rdd.map(lambda f:f[0]).collect()"
   ]
  },
  {
   "cell_type": "code",
   "execution_count": 22,
   "id": "fac8fdef",
   "metadata": {
    "execution": {
     "iopub.execute_input": "2024-01-08T11:46:06.497002Z",
     "iopub.status.busy": "2024-01-08T11:46:06.495729Z",
     "iopub.status.idle": "2024-01-08T11:46:07.035195Z",
     "shell.execute_reply": "2024-01-08T11:46:07.033907Z"
    },
    "papermill": {
     "duration": 0.581098,
     "end_time": "2024-01-08T11:46:07.038660",
     "exception": false,
     "start_time": "2024-01-08T11:46:06.457562",
     "status": "completed"
    },
    "tags": []
   },
   "outputs": [
    {
     "data": {
      "image/png": "[encoded data removed]",
      "text/plain": [
       "<Figure size 640x480 with 1 Axes>"
      ]
     },
     "metadata": {},
     "output_type": "display_data"
    }
   ],
   "source": [
    "import matplotlib.pyplot as plt\n",
    "import numpy as np\n",
    "\n",
    "y = monthyear\n",
    "t = Total\n",
    "\n",
    "plt.subplot(2, 1, 1)\n",
    "plt.plot(y, t, 'o-')\n",
    "plt.title('Crime amount by year-month')\n",
    "plt.ylabel('Cumulate (month)')\n",
    "plt.grid(True)"
   ]
  },
  {
   "cell_type": "code",
   "execution_count": 23,
   "id": "9b89efce",
   "metadata": {
    "execution": {
     "iopub.execute_input": "2024-01-08T11:46:07.112474Z",
     "iopub.status.busy": "2024-01-08T11:46:07.111998Z",
     "iopub.status.idle": "2024-01-08T11:46:07.207898Z",
     "shell.execute_reply": "2024-01-08T11:46:07.206514Z"
    },
    "papermill": {
     "duration": 0.137702,
     "end_time": "2024-01-08T11:46:07.211949",
     "exception": false,
     "start_time": "2024-01-08T11:46:07.074247",
     "status": "completed"
    },
    "tags": []
   },
   "outputs": [],
   "source": [
    "# Create new dataframe with month, total, and averages\n",
    "monthlyCrimeAmount = sqlContext.\\\n",
    "sql(\"select substring(Month, 6, 2) as Month, \\\n",
    "SUM(count) as Total, avg(count) as \\\n",
    "Average from tbl_LDNCrime_temp group by substring(Month, 6, 2)\")"
   ]
  },
  {
   "cell_type": "code",
   "execution_count": 24,
   "id": "2f86f252",
   "metadata": {
    "execution": {
     "iopub.execute_input": "2024-01-08T11:46:07.284977Z",
     "iopub.status.busy": "2024-01-08T11:46:07.284405Z",
     "iopub.status.idle": "2024-01-08T11:46:07.302407Z",
     "shell.execute_reply": "2024-01-08T11:46:07.301237Z"
    },
    "papermill": {
     "duration": 0.057939,
     "end_time": "2024-01-08T11:46:07.305351",
     "exception": false,
     "start_time": "2024-01-08T11:46:07.247412",
     "status": "completed"
    },
    "tags": []
   },
   "outputs": [],
   "source": [
    "#New varaiable\n",
    "monthlyCrimeAmountnew = monthlyCrimeAmount.orderBy('Month')"
   ]
  },
  {
   "cell_type": "code",
   "execution_count": 25,
   "id": "d9394a97",
   "metadata": {
    "execution": {
     "iopub.execute_input": "2024-01-08T11:46:07.409826Z",
     "iopub.status.busy": "2024-01-08T11:46:07.409317Z",
     "iopub.status.idle": "2024-01-08T11:46:09.793429Z",
     "shell.execute_reply": "2024-01-08T11:46:09.792265Z"
    },
    "papermill": {
     "duration": 2.44219,
     "end_time": "2024-01-08T11:46:09.797627",
     "exception": false,
     "start_time": "2024-01-08T11:46:07.355437",
     "status": "completed"
    },
    "tags": []
   },
   "outputs": [
    {
     "name": "stderr",
     "output_type": "stream",
     "text": [
      "[Stage 33:===========================================>              (3 + 1) / 4]\r"
     ]
    },
    {
     "name": "stdout",
     "output_type": "stream",
     "text": [
      "+-----+-----+-------+\n",
      "|Month|Total|Average|\n",
      "+-----+-----+-------+\n",
      "|   01|52327|26163.5|\n",
      "|   02|52654|26327.0|\n",
      "|   03|62076|31038.0|\n",
      "|   04|60715|30357.5|\n",
      "|   05|63592|31796.0|\n",
      "|   06|61927|30963.5|\n",
      "|   07|61911|30955.5|\n",
      "|   08|61927|30963.5|\n",
      "|   09|56484|28242.0|\n",
      "|   10|57100|28550.0|\n",
      "|   11|58638|29319.0|\n",
      "|   12|53229|26614.5|\n",
      "+-----+-----+-------+\n",
      "\n"
     ]
    },
    {
     "name": "stderr",
     "output_type": "stream",
     "text": [
      "                                                                                \r"
     ]
    }
   ],
   "source": [
    "monthlyCrimeAmountnew.show()"
   ]
  },
  {
   "cell_type": "code",
   "execution_count": 26,
   "id": "0a59d38e",
   "metadata": {
    "execution": {
     "iopub.execute_input": "2024-01-08T11:46:09.903544Z",
     "iopub.status.busy": "2024-01-08T11:46:09.902080Z",
     "iopub.status.idle": "2024-01-08T11:46:11.819643Z",
     "shell.execute_reply": "2024-01-08T11:46:11.818032Z"
    },
    "papermill": {
     "duration": 1.976081,
     "end_time": "2024-01-08T11:46:11.824221",
     "exception": false,
     "start_time": "2024-01-08T11:46:09.848140",
     "status": "completed"
    },
    "tags": []
   },
   "outputs": [
    {
     "name": "stderr",
     "output_type": "stream",
     "text": [
      "[Stage 39:===========================================>              (3 + 1) / 4]\r"
     ]
    },
    {
     "name": "stdout",
     "output_type": "stream",
     "text": [
      "+-----+-----+-------+\n",
      "|Month|Total|Average|\n",
      "+-----+-----+-------+\n",
      "|   01|52327|26163.5|\n",
      "|   02|52654|26327.0|\n",
      "|   03|62076|31038.0|\n",
      "|   04|60715|30357.5|\n",
      "|   05|63592|31796.0|\n",
      "|   06|61927|30963.5|\n",
      "|   07|61911|30955.5|\n",
      "|   08|61927|30963.5|\n",
      "|   09|56484|28242.0|\n",
      "|   10|57100|28550.0|\n",
      "|   11|58638|29319.0|\n",
      "|   12|53229|26614.5|\n",
      "+-----+-----+-------+\n",
      "\n"
     ]
    },
    {
     "name": "stderr",
     "output_type": "stream",
     "text": [
      "                                                                                \r"
     ]
    }
   ],
   "source": [
    "# Register the monthlyCrimeAmount \n",
    "# DataFrame as a temp table and show the contents\n",
    "monthlyCrimeAmountnew.registerTempTable(\"monthlyCrimeAmount\")\n",
    "sqlContext.sql(\"select * from monthlyCrimeAmount\").show()"
   ]
  },
  {
   "cell_type": "code",
   "execution_count": 27,
   "id": "4a663286",
   "metadata": {
    "execution": {
     "iopub.execute_input": "2024-01-08T11:46:11.910215Z",
     "iopub.status.busy": "2024-01-08T11:46:11.909737Z",
     "iopub.status.idle": "2024-01-08T11:46:18.643918Z",
     "shell.execute_reply": "2024-01-08T11:46:18.641996Z"
    },
    "papermill": {
     "duration": 6.775997,
     "end_time": "2024-01-08T11:46:18.647567",
     "exception": false,
     "start_time": "2024-01-08T11:46:11.871570",
     "status": "completed"
    },
    "tags": []
   },
   "outputs": [
    {
     "name": "stderr",
     "output_type": "stream",
     "text": [
      "                                                                                \r"
     ]
    }
   ],
   "source": [
    "# Prepare variables for visualisations\n",
    "\n",
    "monthArray = sqlContext.sql(\"select Month from monthlyCrimeAmount\")\\\n",
    ".rdd.map(lambda f:f[0]).collect()\n",
    "monthTotalArray = sqlContext.sql(\"select Total from monthlyCrimeAmount\")\\\n",
    ".rdd.map(lambda f:f[0]).collect()\n",
    "monthAvgArray = sqlContext.sql(\"select Average from monthlyCrimeAmount\")\\\n",
    ".rdd.map(lambda f:f[0]).collect()"
   ]
  },
  {
   "cell_type": "code",
   "execution_count": 28,
   "id": "1270c75b",
   "metadata": {
    "execution": {
     "iopub.execute_input": "2024-01-08T11:46:18.731738Z",
     "iopub.status.busy": "2024-01-08T11:46:18.731236Z",
     "iopub.status.idle": "2024-01-08T11:46:19.479086Z",
     "shell.execute_reply": "2024-01-08T11:46:19.477195Z"
    },
    "papermill": {
     "duration": 0.789851,
     "end_time": "2024-01-08T11:46:19.482169",
     "exception": false,
     "start_time": "2024-01-08T11:46:18.692318",
     "status": "completed"
    },
    "tags": []
   },
   "outputs": [
    {
     "data": {
      "image/png": "[encoded data removed]",
      "text/plain": [
       "<Figure size 640x480 with 2 Axes>"
      ]
     },
     "metadata": {},
     "output_type": "display_data"
    }
   ],
   "source": [
    "# Plot visualisations\n",
    "\n",
    "import matplotlib.pyplot as plt\n",
    "import numpy as np\n",
    "\n",
    "y = monthArray\n",
    "t = monthTotalArray\n",
    "a = monthAvgArray\n",
    "\n",
    "plt.subplot(2, 1, 1)\n",
    "plt.plot(y, t, 'o-')\n",
    "plt.title('Crime amount by month')\n",
    "plt.ylabel('Cumulate (month)')\n",
    "plt.grid(True)\n",
    "\n",
    "plt.subplot(2, 1, 2)\n",
    "plt.plot(y, a, '.-')\n",
    "plt.xlabel('Year')\n",
    "plt.ylabel('Average (month)')\n",
    "plt.grid(True)\n",
    "plt.savefig(\"yearlyCrimeAmount.png\")"
   ]
  },
  {
   "cell_type": "code",
   "execution_count": 29,
   "id": "3f7a4d18",
   "metadata": {
    "execution": {
     "iopub.execute_input": "2024-01-08T11:46:19.561385Z",
     "iopub.status.busy": "2024-01-08T11:46:19.560870Z",
     "iopub.status.idle": "2024-01-08T11:46:19.603485Z",
     "shell.execute_reply": "2024-01-08T11:46:19.601792Z"
    },
    "papermill": {
     "duration": 0.086731,
     "end_time": "2024-01-08T11:46:19.607401",
     "exception": false,
     "start_time": "2024-01-08T11:46:19.520670",
     "status": "completed"
    },
    "tags": []
   },
   "outputs": [],
   "source": [
    "# Create dataframe to retrieve information by year (total and average)plt.show()\n",
    "yearlyCrimeAmount = sqlContext.sql(\"select substring(Month, 0, 4) \\\n",
    "as Year, SUM(count) as Total, avg(count) as Average from \\\n",
    "tbl_LDNCrime_temp group by substring(Month, 0, 4)\")"
   ]
  },
  {
   "cell_type": "code",
   "execution_count": 30,
   "id": "984ac30a",
   "metadata": {
    "execution": {
     "iopub.execute_input": "2024-01-08T11:46:19.722384Z",
     "iopub.status.busy": "2024-01-08T11:46:19.721003Z",
     "iopub.status.idle": "2024-01-08T11:46:19.734936Z",
     "shell.execute_reply": "2024-01-08T11:46:19.733495Z"
    },
    "papermill": {
     "duration": 0.074084,
     "end_time": "2024-01-08T11:46:19.738394",
     "exception": false,
     "start_time": "2024-01-08T11:46:19.664310",
     "status": "completed"
    },
    "tags": []
   },
   "outputs": [
    {
     "data": {
      "text/plain": [
       "DataFrame[Year: string, Total: bigint, Average: double]"
      ]
     },
     "execution_count": 30,
     "metadata": {},
     "output_type": "execute_result"
    }
   ],
   "source": [
    "yearlyCrimeAmount"
   ]
  },
  {
   "cell_type": "code",
   "execution_count": 31,
   "id": "e5a3327c",
   "metadata": {
    "execution": {
     "iopub.execute_input": "2024-01-08T11:46:19.826790Z",
     "iopub.status.busy": "2024-01-08T11:46:19.826327Z",
     "iopub.status.idle": "2024-01-08T11:46:21.693220Z",
     "shell.execute_reply": "2024-01-08T11:46:21.687333Z"
    },
    "papermill": {
     "duration": 1.911145,
     "end_time": "2024-01-08T11:46:21.697848",
     "exception": false,
     "start_time": "2024-01-08T11:46:19.786703",
     "status": "completed"
    },
    "tags": []
   },
   "outputs": [
    {
     "name": "stderr",
     "output_type": "stream",
     "text": [
      "[Stage 79:===========================================>              (3 + 1) / 4]\r"
     ]
    },
    {
     "name": "stdout",
     "output_type": "stream",
     "text": [
      "+----+------+------------------+\n",
      "|Year| Total|           Average|\n",
      "+----+------+------------------+\n",
      "|2022|350134|29177.833333333332|\n",
      "|2021|352446|           29370.5|\n",
      "+----+------+------------------+\n",
      "\n"
     ]
    },
    {
     "name": "stderr",
     "output_type": "stream",
     "text": [
      "                                                                                \r"
     ]
    }
   ],
   "source": [
    "yearlyCrimeAmount.show()"
   ]
  },
  {
   "cell_type": "code",
   "execution_count": 32,
   "id": "58eaf9c4",
   "metadata": {
    "execution": {
     "iopub.execute_input": "2024-01-08T11:46:21.780860Z",
     "iopub.status.busy": "2024-01-08T11:46:21.780353Z",
     "iopub.status.idle": "2024-01-08T11:46:23.519758Z",
     "shell.execute_reply": "2024-01-08T11:46:23.518196Z"
    },
    "papermill": {
     "duration": 1.784037,
     "end_time": "2024-01-08T11:46:23.523131",
     "exception": false,
     "start_time": "2024-01-08T11:46:21.739094",
     "status": "completed"
    },
    "tags": []
   },
   "outputs": [
    {
     "name": "stderr",
     "output_type": "stream",
     "text": [
      "[Stage 85:===========================================>              (3 + 1) / 4]\r"
     ]
    },
    {
     "name": "stdout",
     "output_type": "stream",
     "text": [
      "+----+------+------------------+\n",
      "|Year| Total|           Average|\n",
      "+----+------+------------------+\n",
      "|2022|350134|29177.833333333332|\n",
      "|2021|352446|           29370.5|\n",
      "+----+------+------------------+\n",
      "\n"
     ]
    },
    {
     "name": "stderr",
     "output_type": "stream",
     "text": [
      "                                                                                \r"
     ]
    }
   ],
   "source": [
    "yearlyCrimeAmount.registerTempTable(\"yearlyCrimeAmount\")\n",
    "sqlContext.sql(\"select * from yearlyCrimeAmount\").show()"
   ]
  },
  {
   "cell_type": "code",
   "execution_count": 33,
   "id": "06a83941",
   "metadata": {
    "execution": {
     "iopub.execute_input": "2024-01-08T11:46:23.603285Z",
     "iopub.status.busy": "2024-01-08T11:46:23.602803Z",
     "iopub.status.idle": "2024-01-08T11:46:29.617756Z",
     "shell.execute_reply": "2024-01-08T11:46:29.616421Z"
    },
    "papermill": {
     "duration": 6.058708,
     "end_time": "2024-01-08T11:46:29.620883",
     "exception": false,
     "start_time": "2024-01-08T11:46:23.562175",
     "status": "completed"
    },
    "tags": []
   },
   "outputs": [
    {
     "name": "stderr",
     "output_type": "stream",
     "text": [
      "                                                                                \r"
     ]
    }
   ],
   "source": [
    "# Prepare variables for visualisations\n",
    "\n",
    "totalArray = sqlContext.sql(\"select Total from yearlyCrimeAmount\")\\\n",
    ".rdd.map(lambda f:f[0]).collect()\n",
    "yearArray = sqlContext.sql(\"select Year from yearlyCrimeAmount\")\\\n",
    ".rdd.map(lambda f:f[0]).collect()\n",
    "averageArray = sqlContext.sql(\"select Average from yearlyCrimeAmount\")\\\n",
    ".rdd.map(lambda f:f[0]).collect()"
   ]
  },
  {
   "cell_type": "code",
   "execution_count": 34,
   "id": "29c5d21a",
   "metadata": {
    "execution": {
     "iopub.execute_input": "2024-01-08T11:46:29.703799Z",
     "iopub.status.busy": "2024-01-08T11:46:29.703291Z",
     "iopub.status.idle": "2024-01-08T11:46:30.199461Z",
     "shell.execute_reply": "2024-01-08T11:46:30.198108Z"
    },
    "papermill": {
     "duration": 0.540469,
     "end_time": "2024-01-08T11:46:30.202188",
     "exception": false,
     "start_time": "2024-01-08T11:46:29.661719",
     "status": "completed"
    },
    "tags": []
   },
   "outputs": [
    {
     "data": {
      "image/png": "[encoded data removed]",
      "text/plain": [
       "<Figure size 640x480 with 2 Axes>"
      ]
     },
     "metadata": {},
     "output_type": "display_data"
    }
   ],
   "source": [
    "# Plot visualisations\n",
    "import matplotlib.pyplot as plt\n",
    "import numpy as np\n",
    "\n",
    "y = yearArray\n",
    "t = totalArray\n",
    "a = averageArray\n",
    "\n",
    "plt.subplot(2, 1, 1)\n",
    "plt.plot(y, t, 'o-')\n",
    "plt.title('Crime amount by year (2021-01 to 2022-12)')\n",
    "plt.ylabel('Cumulate (year)')\n",
    "plt.grid(True)\n",
    "\n",
    "plt.subplot(2, 1, 2)\n",
    "plt.plot(y, a, '.-')\n",
    "plt.xlabel('Year')\n",
    "plt.ylabel('Average (Year)')\n",
    "plt.grid(True)\n",
    "plt.savefig(\"yearlyCrimeAmount.png\")\n",
    "plt.show()"
   ]
  },
  {
   "cell_type": "code",
   "execution_count": 35,
   "id": "f1b640a8",
   "metadata": {
    "execution": {
     "iopub.execute_input": "2024-01-08T11:46:30.285940Z",
     "iopub.status.busy": "2024-01-08T11:46:30.285009Z",
     "iopub.status.idle": "2024-01-08T11:46:30.471927Z",
     "shell.execute_reply": "2024-01-08T11:46:30.471015Z"
    },
    "papermill": {
     "duration": 0.235006,
     "end_time": "2024-01-08T11:46:30.477469",
     "exception": false,
     "start_time": "2024-01-08T11:46:30.242463",
     "status": "completed"
    },
    "tags": []
   },
   "outputs": [
    {
     "data": {
      "text/plain": [
       "<matplotlib.legend.Legend at 0x7a91093ce350>"
      ]
     },
     "execution_count": 35,
     "metadata": {},
     "output_type": "execute_result"
    },
    {
     "data": {
      "image/png": "[encoded data removed]",
      "text/plain": [
       "<Figure size 640x480 with 1 Axes>"
      ]
     },
     "metadata": {},
     "output_type": "display_data"
    }
   ],
   "source": [
    "plt.pie(t, labels = y, autopct='%1.1f%%')\n",
    "plt.legend()"
   ]
  },
  {
   "cell_type": "code",
   "execution_count": null,
   "id": "ee980f6b",
   "metadata": {
    "execution": {
     "iopub.execute_input": "2024-01-08T11:27:08.687135Z",
     "iopub.status.busy": "2024-01-08T11:27:08.686760Z",
     "iopub.status.idle": "2024-01-08T11:27:08.694761Z",
     "shell.execute_reply": "2024-01-08T11:27:08.693001Z",
     "shell.execute_reply.started": "2024-01-08T11:27:08.687104Z"
    },
    "papermill": {
     "duration": 0.043256,
     "end_time": "2024-01-08T11:46:30.594589",
     "exception": false,
     "start_time": "2024-01-08T11:46:30.551333",
     "status": "completed"
    },
    "tags": []
   },
   "outputs": [],
   "source": []
  },
  {
   "cell_type": "code",
   "execution_count": 36,
   "id": "a4e145d3",
   "metadata": {
    "execution": {
     "iopub.execute_input": "2024-01-08T11:46:30.682129Z",
     "iopub.status.busy": "2024-01-08T11:46:30.681247Z",
     "iopub.status.idle": "2024-01-08T11:46:32.265702Z",
     "shell.execute_reply": "2024-01-08T11:46:32.264097Z"
    },
    "papermill": {
     "duration": 1.633565,
     "end_time": "2024-01-08T11:46:32.270729",
     "exception": false,
     "start_time": "2024-01-08T11:46:30.637164",
     "status": "completed"
    },
    "tags": []
   },
   "outputs": [
    {
     "name": "stderr",
     "output_type": "stream",
     "text": [
      "[Stage 106:==========================================>              (3 + 1) / 4]\r"
     ]
    },
    {
     "name": "stdout",
     "output_type": "stream",
     "text": [
      "+-------+----+-----+\n",
      "|  Month|Year|Count|\n",
      "+-------+----+-----+\n",
      "|2021-07|2021|32286|\n",
      "|2022-04|2022|30723|\n",
      "|2021-04|2021|29992|\n",
      "|2021-06|2021|32975|\n",
      "|2022-02|2022|27338|\n",
      "|2022-08|2022|31867|\n",
      "|2021-11|2021|29091|\n",
      "|2021-03|2021|30717|\n",
      "|2022-11|2022|29547|\n",
      "|2021-05|2021|30720|\n",
      "|2022-03|2022|31359|\n",
      "|2022-05|2022|32872|\n",
      "|2021-08|2021|30060|\n",
      "|2021-09|2021|29614|\n",
      "|2022-06|2022|28952|\n",
      "|2022-07|2022|29625|\n",
      "|2021-10|2021|28585|\n",
      "|2021-12|2021|27046|\n",
      "|2022-10|2022|28515|\n",
      "|2022-09|2022|26870|\n",
      "+-------+----+-----+\n",
      "only showing top 20 rows\n",
      "\n"
     ]
    },
    {
     "name": "stderr",
     "output_type": "stream",
     "text": [
      "                                                                                \r"
     ]
    }
   ],
   "source": [
    "sqlContext.sql(\"select Month, substring(Month, 0, 4) \\\n",
    "as Year, count(*) as Count from tbl_LDNCrimes group by Month\").show()"
   ]
  },
  {
   "cell_type": "code",
   "execution_count": 37,
   "id": "1c630fc3",
   "metadata": {
    "execution": {
     "iopub.execute_input": "2024-01-08T11:46:32.394537Z",
     "iopub.status.busy": "2024-01-08T11:46:32.394006Z",
     "iopub.status.idle": "2024-01-08T11:46:32.410822Z",
     "shell.execute_reply": "2024-01-08T11:46:32.409503Z"
    },
    "papermill": {
     "duration": 0.082616,
     "end_time": "2024-01-08T11:46:32.414702",
     "exception": false,
     "start_time": "2024-01-08T11:46:32.332086",
     "status": "completed"
    },
    "tags": []
   },
   "outputs": [],
   "source": [
    "LDNCrime.registerTempTable(\"tbl_LDNCrime_type\")"
   ]
  },
  {
   "cell_type": "code",
   "execution_count": 38,
   "id": "8d75de94",
   "metadata": {
    "execution": {
     "iopub.execute_input": "2024-01-08T11:46:32.505902Z",
     "iopub.status.busy": "2024-01-08T11:46:32.505355Z",
     "iopub.status.idle": "2024-01-08T11:46:32.528272Z",
     "shell.execute_reply": "2024-01-08T11:46:32.526932Z"
    },
    "papermill": {
     "duration": 0.071072,
     "end_time": "2024-01-08T11:46:32.531976",
     "exception": false,
     "start_time": "2024-01-08T11:46:32.460904",
     "status": "completed"
    },
    "tags": []
   },
   "outputs": [],
   "source": [
    "CrimeTypes = sqlContext.sql(\"select Crime_type, Month, \\\n",
    "substring(Month, 0, 4) as Year,\\\n",
    "count(*) as Total from tbl_LDNCrime_type group by Month, Crime_type\")"
   ]
  },
  {
   "cell_type": "code",
   "execution_count": 39,
   "id": "5b856088",
   "metadata": {
    "execution": {
     "iopub.execute_input": "2024-01-08T11:46:32.621023Z",
     "iopub.status.busy": "2024-01-08T11:46:32.620541Z",
     "iopub.status.idle": "2024-01-08T11:46:34.760507Z",
     "shell.execute_reply": "2024-01-08T11:46:34.759290Z"
    },
    "papermill": {
     "duration": 2.189433,
     "end_time": "2024-01-08T11:46:34.766709",
     "exception": false,
     "start_time": "2024-01-08T11:46:32.577276",
     "status": "completed"
    },
    "tags": []
   },
   "outputs": [
    {
     "name": "stderr",
     "output_type": "stream",
     "text": [
      "[Stage 109:==========================================>              (3 + 1) / 4]\r"
     ]
    },
    {
     "name": "stdout",
     "output_type": "stream",
     "text": [
      "+--------------------+-------+----+-----+\n",
      "|          Crime_type|  Month|Year|Total|\n",
      "+--------------------+-------+----+-----+\n",
      "|Anti-social behav...|2022-03|2022| 5644|\n",
      "|         Shoplifting|2022-11|2022| 1711|\n",
      "|         Other theft|2022-02|2022| 1832|\n",
      "|Anti-social behav...|2021-04|2021| 7886|\n",
      "|Possession of wea...|2021-08|2021|  261|\n",
      "|Possession of wea...|2022-05|2022|  282|\n",
      "|             Robbery|2021-05|2021|  193|\n",
      "|Criminal damage a...|2021-03|2021| 2409|\n",
      "|               Drugs|2021-07|2021|  783|\n",
      "|       Bicycle theft|2021-11|2021|  349|\n",
      "|Violence and sexu...|2021-04|2021| 9494|\n",
      "|Violence and sexu...|2021-07|2021|11138|\n",
      "|             Robbery|2021-07|2021|  199|\n",
      "|Possession of wea...|2021-06|2021|  229|\n",
      "|Criminal damage a...|2022-08|2022| 2754|\n",
      "|Possession of wea...|2021-07|2021|  252|\n",
      "|        Public order|2021-05|2021| 2778|\n",
      "|Theft from the pe...|2022-05|2022|  263|\n",
      "|Violence and sexu...|2022-04|2022|10114|\n",
      "|         Other crime|2021-11|2021|  572|\n",
      "+--------------------+-------+----+-----+\n",
      "only showing top 20 rows\n",
      "\n"
     ]
    },
    {
     "name": "stderr",
     "output_type": "stream",
     "text": [
      "                                                                                \r"
     ]
    }
   ],
   "source": [
    "CrimeTypes.show()"
   ]
  },
  {
   "cell_type": "code",
   "execution_count": 40,
   "id": "0981d318",
   "metadata": {
    "execution": {
     "iopub.execute_input": "2024-01-08T11:46:34.865127Z",
     "iopub.status.busy": "2024-01-08T11:46:34.864562Z",
     "iopub.status.idle": "2024-01-08T11:46:36.585035Z",
     "shell.execute_reply": "2024-01-08T11:46:36.583763Z"
    },
    "papermill": {
     "duration": 1.772491,
     "end_time": "2024-01-08T11:46:36.591630",
     "exception": false,
     "start_time": "2024-01-08T11:46:34.819139",
     "status": "completed"
    },
    "tags": []
   },
   "outputs": [
    {
     "name": "stderr",
     "output_type": "stream",
     "text": [
      "[Stage 112:==========================================>              (3 + 1) / 4]\r"
     ]
    },
    {
     "name": "stdout",
     "output_type": "stream",
     "text": [
      "+--------------------+-------+----+-----+\n",
      "|          Crime_type|  Month|Year|Total|\n",
      "+--------------------+-------+----+-----+\n",
      "|Anti-social behav...|2022-03|2022| 5644|\n",
      "|         Shoplifting|2022-11|2022| 1711|\n",
      "|         Other theft|2022-02|2022| 1832|\n",
      "|Anti-social behav...|2021-04|2021| 7886|\n",
      "|Possession of wea...|2021-08|2021|  261|\n",
      "|Possession of wea...|2022-05|2022|  282|\n",
      "|             Robbery|2021-05|2021|  193|\n",
      "|Criminal damage a...|2021-03|2021| 2409|\n",
      "|               Drugs|2021-07|2021|  783|\n",
      "|       Bicycle theft|2021-11|2021|  349|\n",
      "|Violence and sexu...|2021-04|2021| 9494|\n",
      "|Violence and sexu...|2021-07|2021|11138|\n",
      "|             Robbery|2021-07|2021|  199|\n",
      "|Possession of wea...|2021-06|2021|  229|\n",
      "|Criminal damage a...|2022-08|2022| 2754|\n",
      "|Possession of wea...|2021-07|2021|  252|\n",
      "|        Public order|2021-05|2021| 2778|\n",
      "|Theft from the pe...|2022-05|2022|  263|\n",
      "|Violence and sexu...|2022-04|2022|10114|\n",
      "|         Other crime|2021-11|2021|  572|\n",
      "+--------------------+-------+----+-----+\n",
      "only showing top 20 rows\n",
      "\n"
     ]
    },
    {
     "name": "stderr",
     "output_type": "stream",
     "text": [
      "                                                                                \r"
     ]
    }
   ],
   "source": [
    "CrimeTypes.registerTempTable(\"Tbl_CrimeTypes\")\n",
    "sqlContext.sql(\"select * from Tbl_CrimeTypes\").show()"
   ]
  },
  {
   "cell_type": "code",
   "execution_count": 41,
   "id": "2ae39bdc",
   "metadata": {
    "execution": {
     "iopub.execute_input": "2024-01-08T11:46:36.682137Z",
     "iopub.status.busy": "2024-01-08T11:46:36.681611Z",
     "iopub.status.idle": "2024-01-08T11:46:40.499024Z",
     "shell.execute_reply": "2024-01-08T11:46:40.497787Z"
    },
    "papermill": {
     "duration": 3.869267,
     "end_time": "2024-01-08T11:46:40.505457",
     "exception": false,
     "start_time": "2024-01-08T11:46:36.636190",
     "status": "completed"
    },
    "tags": []
   },
   "outputs": [
    {
     "name": "stderr",
     "output_type": "stream",
     "text": [
      "                                                                                \r"
     ]
    }
   ],
   "source": [
    "Crimes_type = sqlContext.sql(\"select Crime_type from Tbl_CrimeTypes\")\\\n",
    ".rdd.map(lambda f:f[0]).collect()\n",
    "Total_count = sqlContext.sql(\"select Total from Tbl_CrimeTypes\")\\\n",
    ".rdd.map(lambda f:f[0]).collect()"
   ]
  },
  {
   "cell_type": "code",
   "execution_count": 42,
   "id": "9b9478c5",
   "metadata": {
    "execution": {
     "iopub.execute_input": "2024-01-08T11:46:40.600733Z",
     "iopub.status.busy": "2024-01-08T11:46:40.600182Z",
     "iopub.status.idle": "2024-01-08T11:46:41.051669Z",
     "shell.execute_reply": "2024-01-08T11:46:41.050639Z"
    },
    "papermill": {
     "duration": 0.500391,
     "end_time": "2024-01-08T11:46:41.054255",
     "exception": false,
     "start_time": "2024-01-08T11:46:40.553864",
     "status": "completed"
    },
    "tags": []
   },
   "outputs": [
    {
     "data": {
      "image/png": "[encoded data removed]",
      "text/plain": [
       "<Figure size 640x480 with 1 Axes>"
      ]
     },
     "metadata": {},
     "output_type": "display_data"
    }
   ],
   "source": [
    "\n",
    "plt.subplot(2, 1, 1)\n",
    "plt.plot(Crimes_type, Total_count)\n",
    "plt.title('Crime amount by year (2021-01 to 2022-12)')\n",
    "plt.ylabel('Cumulate (year)')\n",
    "plt.grid(True)"
   ]
  },
  {
   "cell_type": "code",
   "execution_count": 43,
   "id": "1f3eab52",
   "metadata": {
    "execution": {
     "iopub.execute_input": "2024-01-08T11:46:41.150631Z",
     "iopub.status.busy": "2024-01-08T11:46:41.149820Z",
     "iopub.status.idle": "2024-01-08T11:46:42.224603Z",
     "shell.execute_reply": "2024-01-08T11:46:42.222987Z"
    },
    "papermill": {
     "duration": 1.125904,
     "end_time": "2024-01-08T11:46:42.227617",
     "exception": false,
     "start_time": "2024-01-08T11:46:41.101713",
     "status": "completed"
    },
    "tags": []
   },
   "outputs": [
    {
     "data": {
      "text/plain": [
       "<BarContainer object of 336 artists>"
      ]
     },
     "execution_count": 43,
     "metadata": {},
     "output_type": "execute_result"
    },
    {
     "data": {
      "image/png": "[encoded data removed]",
      "text/plain": [
       "<Figure size 640x480 with 1 Axes>"
      ]
     },
     "metadata": {},
     "output_type": "display_data"
    }
   ],
   "source": [
    "plt.bar(Crimes_type, Total_count)"
   ]
  },
  {
   "cell_type": "code",
   "execution_count": 44,
   "id": "5fe763da",
   "metadata": {
    "execution": {
     "iopub.execute_input": "2024-01-08T11:46:42.323645Z",
     "iopub.status.busy": "2024-01-08T11:46:42.323217Z",
     "iopub.status.idle": "2024-01-08T11:46:42.341106Z",
     "shell.execute_reply": "2024-01-08T11:46:42.340093Z"
    },
    "papermill": {
     "duration": 0.069897,
     "end_time": "2024-01-08T11:46:42.343854",
     "exception": false,
     "start_time": "2024-01-08T11:46:42.273957",
     "status": "completed"
    },
    "tags": []
   },
   "outputs": [],
   "source": [
    "# Explore Crime Types per year/month\n",
    "\n",
    "CrimeTypesGeo = sqlContext.sql(\"select Crime_type, Month, \\\n",
    "substring(Month, 0, 4) as Year, Latitude, Longitude, \\\n",
    "count(*) as Count from tbl_LDNCrime_type group by Month, \\\n",
    "Crime_type, Latitude, Longitude\")"
   ]
  },
  {
   "cell_type": "code",
   "execution_count": 45,
   "id": "92c94e86",
   "metadata": {
    "execution": {
     "iopub.execute_input": "2024-01-08T11:46:42.440522Z",
     "iopub.status.busy": "2024-01-08T11:46:42.439827Z",
     "iopub.status.idle": "2024-01-08T11:46:46.493108Z",
     "shell.execute_reply": "2024-01-08T11:46:46.491788Z"
    },
    "papermill": {
     "duration": 4.10626,
     "end_time": "2024-01-08T11:46:46.497653",
     "exception": false,
     "start_time": "2024-01-08T11:46:42.391393",
     "status": "completed"
    },
    "tags": []
   },
   "outputs": [
    {
     "name": "stderr",
     "output_type": "stream",
     "text": [
      "[Stage 121:==========================================>              (3 + 1) / 4]\r"
     ]
    },
    {
     "name": "stdout",
     "output_type": "stream",
     "text": [
      "+--------------------+-------+----+---------+---------+-----+\n",
      "|          Crime_type|  Month|Year| Latitude|Longitude|Count|\n",
      "+--------------------+-------+----+---------+---------+-----+\n",
      "|Violence and sexu...|2022-05|2022|53.141122|  -1.2761|    1|\n",
      "|Criminal damage a...|2022-05|2022|53.132636|-1.258456|    1|\n",
      "|Anti-social behav...|2022-05|2022|53.126363|-1.308015|    1|\n",
      "|Violence and sexu...|2022-05|2022| 53.13333|-1.312746|    1|\n",
      "|Violence and sexu...|2022-05|2022|53.117411|-1.258913|    3|\n",
      "|        Public order|2022-05|2022|53.099269|-1.247172|    1|\n",
      "|Violence and sexu...|2022-05|2022|53.105661|-1.254335|    1|\n",
      "|         Other theft|2022-05|2022|53.037324| -1.21383|    1|\n",
      "|Criminal damage a...|2022-05|2022|53.027406|-1.222971|    1|\n",
      "|Possession of wea...|2022-05|2022| 53.38811|-1.063685|    1|\n",
      "|         Other crime|2022-05|2022|53.379513|-1.128485|    1|\n",
      "|Criminal damage a...|2022-05|2022|53.320815| -0.94171|    1|\n",
      "|Criminal damage a...|2022-05|2022|53.285367|-1.103672|    1|\n",
      "|Violence and sexu...|2022-05|2022|52.997421|-1.247275|    1|\n",
      "|Violence and sexu...|2022-05|2022|53.000018|-1.252892|    4|\n",
      "|        Public order|2022-05|2022|52.933672| -1.24368|    1|\n",
      "|       Bicycle theft|2022-05|2022|52.933099|-1.268491|    1|\n",
      "|         Shoplifting|2022-05|2022|52.921408|-1.237661|    1|\n",
      "|Violence and sexu...|2022-05|2022|52.906415|-1.245017|    1|\n",
      "|       Vehicle crime|2022-05|2022|52.996415|-1.254504|    1|\n",
      "+--------------------+-------+----+---------+---------+-----+\n",
      "only showing top 20 rows\n",
      "\n"
     ]
    },
    {
     "name": "stderr",
     "output_type": "stream",
     "text": [
      "                                                                                \r"
     ]
    }
   ],
   "source": [
    "CrimeTypesGeo.registerTempTable(\"CrimeTypesGeo\")\n",
    "sqlContext.sql(\"select * from CrimeTypesGeo\").show()"
   ]
  },
  {
   "cell_type": "code",
   "execution_count": 46,
   "id": "d4c7a231",
   "metadata": {
    "execution": {
     "iopub.execute_input": "2024-01-08T11:46:46.593504Z",
     "iopub.status.busy": "2024-01-08T11:46:46.593049Z",
     "iopub.status.idle": "2024-01-08T11:46:51.766951Z",
     "shell.execute_reply": "2024-01-08T11:46:51.765618Z"
    },
    "papermill": {
     "duration": 5.22491,
     "end_time": "2024-01-08T11:46:51.770863",
     "exception": false,
     "start_time": "2024-01-08T11:46:46.545953",
     "status": "completed"
    },
    "tags": []
   },
   "outputs": [
    {
     "name": "stderr",
     "output_type": "stream",
     "text": [
      "                                                                                \r"
     ]
    }
   ],
   "source": [
    "# Prepare variables for visualisations\n",
    "\n",
    "totalArray = sqlContext.sql(\"select Total from yearlyCrimeAmount\")\\\n",
    ".rdd.map(lambda f:f[0]).collect()\n",
    "yearArray = sqlContext.sql(\"select Year from yearlyCrimeAmount\")\\\n",
    ".rdd.map(lambda f:f[0]).collect()\n",
    "averageArray = sqlContext.sql(\"select Average from yearlyCrimeAmount\")\\\n",
    ".rdd.map(lambda f:f[0]).collect()"
   ]
  },
  {
   "cell_type": "code",
   "execution_count": 47,
   "id": "4cfa716c",
   "metadata": {
    "execution": {
     "iopub.execute_input": "2024-01-08T11:46:51.870950Z",
     "iopub.status.busy": "2024-01-08T11:46:51.870450Z",
     "iopub.status.idle": "2024-01-08T11:46:53.551697Z",
     "shell.execute_reply": "2024-01-08T11:46:53.550267Z"
    },
    "papermill": {
     "duration": 1.736837,
     "end_time": "2024-01-08T11:46:53.556056",
     "exception": false,
     "start_time": "2024-01-08T11:46:51.819219",
     "status": "completed"
    },
    "tags": []
   },
   "outputs": [
    {
     "name": "stderr",
     "output_type": "stream",
     "text": [
      "[Stage 139:==========================================>              (3 + 1) / 4]\r"
     ]
    },
    {
     "name": "stdout",
     "output_type": "stream",
     "text": [
      "+--------------------+------+\n",
      "|         Reported_by| Count|\n",
      "+--------------------+------+\n",
      "|Leicestershire Po...|214186|\n",
      "|Derbyshire Consta...|231754|\n",
      "|Nottinghamshire P...|256640|\n",
      "+--------------------+------+\n",
      "\n"
     ]
    },
    {
     "name": "stderr",
     "output_type": "stream",
     "text": [
      "                                                                                \r"
     ]
    }
   ],
   "source": [
    "sqlContext.sql(\"select Reported_by, count(*) \\\n",
    "as Count from tbl_LDNCrimes group by Reported_by\").show()"
   ]
  },
  {
   "cell_type": "code",
   "execution_count": null,
   "id": "61ce1655",
   "metadata": {
    "papermill": {
     "duration": 0.04817,
     "end_time": "2024-01-08T11:46:53.664952",
     "exception": false,
     "start_time": "2024-01-08T11:46:53.616782",
     "status": "completed"
    },
    "tags": []
   },
   "outputs": [],
   "source": []
  }
 ],
 "metadata": {
  "kaggle": {
   "accelerator": "none",
   "dataSources": [
    {
     "datasetId": 4233255,
     "sourceId": 7297781,
     "sourceType": "datasetVersion"
    },
    {
     "datasetId": 4273826,
     "sourceId": 7358107,
     "sourceType": "datasetVersion"
    }
   ],
   "dockerImageVersionId": 30626,
   "isGpuEnabled": false,
   "isInternetEnabled": true,
   "language": "python",
   "sourceType": "notebook"
  },
  "kernelspec": {
   "display_name": "Python 3",
   "language": "python",
   "name": "python3"
  },
  "language_info": {
   "codemirror_mode": {
    "name": "ipython",
    "version": 3
   },
   "file_extension": ".py",
   "mimetype": "text/x-python",
   "name": "python",
   "nbconvert_exporter": "python",
   "pygments_lexer": "ipython3",
   "version": "3.10.12"
  },
  "papermill": {
   "default_parameters": {},
   "duration": 156.908741,
   "end_time": "2024-01-08T11:46:56.335654",
   "environment_variables": {},
   "exception": null,
   "input_path": "__notebook__.ipynb",
   "output_path": "__notebook__.ipynb",
   "parameters": {},
   "start_time": "2024-01-08T11:44:19.426913",
   "version": "2.4.0"
  }
 },
 "nbformat": 4,
 "nbformat_minor": 5
}
