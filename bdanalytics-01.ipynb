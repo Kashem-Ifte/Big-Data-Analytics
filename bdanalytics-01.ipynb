{
 "cells": [
  {
   "cell_type": "code",
   "execution_count": 1,
   "id": "c567bf07",
   "metadata": {
    "execution": {
     "iopub.execute_input": "2024-01-03T16:05:34.591613Z",
     "iopub.status.busy": "2024-01-03T16:05:34.591100Z",
     "iopub.status.idle": "2024-01-03T16:06:30.408981Z",
     "shell.execute_reply": "2024-01-03T16:06:30.407197Z"
    },
    "papermill": {
     "duration": 55.830862,
     "end_time": "2024-01-03T16:06:30.412218",
     "exception": false,
     "start_time": "2024-01-03T16:05:34.581356",
     "status": "completed"
    },
    "tags": []
   },
   "outputs": [
    {
     "name": "stdout",
     "output_type": "stream",
     "text": [
      "Collecting pyspark==3.2\r\n",
      "  Downloading pyspark-3.2.0.tar.gz (281.3 MB)\r\n",
      "\u001b[2K     \u001b[90m━━━━━━━━━━━━━━━━━━━━━━━━━━━━━━━━━━━━━━━\u001b[0m \u001b[32m281.3/281.3 MB\u001b[0m \u001b[31m3.6 MB/s\u001b[0m eta \u001b[36m0:00:00\u001b[0m\r\n",
      "\u001b[?25h  Preparing metadata (setup.py) ... \u001b[?25l-\b \b\\\b \bdone\r\n",
      "\u001b[?25hCollecting py4j==0.10.9.2 (from pyspark==3.2)\r\n",
      "  Downloading py4j-0.10.9.2-py2.py3-none-any.whl (198 kB)\r\n",
      "\u001b[2K     \u001b[90m━━━━━━━━━━━━━━━━━━━━━━━━━━━━━━━━━━━━━━\u001b[0m \u001b[32m198.8/198.8 kB\u001b[0m \u001b[31m10.7 MB/s\u001b[0m eta \u001b[36m0:00:00\u001b[0m\r\n",
      "\u001b[?25hBuilding wheels for collected packages: pyspark\r\n",
      "  Building wheel for pyspark (setup.py) ... \u001b[?25l-\b \b\\\b \b|\b \bdone\r\n",
      "\u001b[?25h  Created wheel for pyspark: filename=pyspark-3.2.0-py2.py3-none-any.whl size=281805893 sha256=b63d464376d850f69535ee68067bf9bc6818dd7c15066506bc1d9090d15ee5a9\r\n",
      "  Stored in directory: /root/.cache/pip/wheels/32/97/d3/8b6d964c8700e4fbb561c71638a92ec55dac9be51eb5fea86d\r\n",
      "Successfully built pyspark\r\n",
      "Installing collected packages: py4j, pyspark\r\n",
      "  Attempting uninstall: py4j\r\n",
      "    Found existing installation: py4j 0.10.9.7\r\n",
      "    Uninstalling py4j-0.10.9.7:\r\n",
      "      Successfully uninstalled py4j-0.10.9.7\r\n",
      "Successfully installed py4j-0.10.9.2 pyspark-3.2.0\r\n"
     ]
    }
   ],
   "source": [
    "!pip install pyspark==3.2"
   ]
  },
  {
   "cell_type": "code",
   "execution_count": 2,
   "id": "3a0f1899",
   "metadata": {
    "execution": {
     "iopub.execute_input": "2024-01-03T16:06:30.452623Z",
     "iopub.status.busy": "2024-01-03T16:06:30.452147Z",
     "iopub.status.idle": "2024-01-03T16:06:37.447566Z",
     "shell.execute_reply": "2024-01-03T16:06:37.446402Z"
    },
    "papermill": {
     "duration": 7.020142,
     "end_time": "2024-01-03T16:06:37.451390",
     "exception": false,
     "start_time": "2024-01-03T16:06:30.431248",
     "status": "completed"
    },
    "tags": []
   },
   "outputs": [
    {
     "name": "stderr",
     "output_type": "stream",
     "text": [
      "WARNING: An illegal reflective access operation has occurred\n",
      "WARNING: Illegal reflective access by org.apache.spark.unsafe.Platform (file:/opt/conda/lib/python3.10/site-packages/pyspark/jars/spark-unsafe_2.12-3.2.0.jar) to constructor java.nio.DirectByteBuffer(long,int)\n",
      "WARNING: Please consider reporting this to the maintainers of org.apache.spark.unsafe.Platform\n",
      "WARNING: Use --illegal-access=warn to enable warnings of further illegal reflective access operations\n",
      "WARNING: All illegal access operations will be denied in a future release\n",
      "Using Spark's default log4j profile: org/apache/spark/log4j-defaults.properties\n",
      "Setting default log level to \"WARN\".\n",
      "To adjust logging level use sc.setLogLevel(newLevel). For SparkR, use setLogLevel(newLevel).\n",
      "24/01/03 16:06:33 WARN NativeCodeLoader: Unable to load native-hadoop library for your platform... using builtin-java classes where applicable\n",
      "/opt/conda/lib/python3.10/site-packages/pyspark/sql/context.py:77: FutureWarning: Deprecated in 3.0.0. Use SparkSession.builder.getOrCreate() instead.\n",
      "  warnings.warn(\n"
     ]
    }
   ],
   "source": [
    "#Start spark sessnon and configureation\n",
    "from pyspark import SparkConf, SparkContext\n",
    "from pyspark.sql import SparkSession, SQLContext\n",
    "spark = SparkSession.builder.master(\"local[2]\").appName(\"dat\").getOrCreate()\n",
    "sc = spark.sparkContext\n",
    "#create an instance of SQLContext\n",
    "sqlContext = SQLContext(spark)"
   ]
  },
  {
   "cell_type": "code",
   "execution_count": 3,
   "id": "5bdea21a",
   "metadata": {
    "execution": {
     "iopub.execute_input": "2024-01-03T16:06:37.502846Z",
     "iopub.status.busy": "2024-01-03T16:06:37.501967Z",
     "iopub.status.idle": "2024-01-03T16:06:38.031395Z",
     "shell.execute_reply": "2024-01-03T16:06:38.030054Z"
    },
    "papermill": {
     "duration": 0.556153,
     "end_time": "2024-01-03T16:06:38.034538",
     "exception": false,
     "start_time": "2024-01-03T16:06:37.478385",
     "status": "completed"
    },
    "tags": []
   },
   "outputs": [],
   "source": [
    "# Import libraries and other functions\n",
    "from io import StringIO\n",
    "from collections import namedtuple\n",
    "from pyspark.sql import Row\n",
    "from pyspark.sql.types import *\n",
    "from pyspark.sql.functions import *\n",
    "\n",
    "import csv\n",
    "import matplotlib.pyplot as plt\n",
    "\n",
    "import pandas as pd\n",
    "import numpy as np"
   ]
  },
  {
   "cell_type": "code",
   "execution_count": 4,
   "id": "2c28310a",
   "metadata": {
    "execution": {
     "iopub.execute_input": "2024-01-03T16:06:38.076801Z",
     "iopub.status.busy": "2024-01-03T16:06:38.076144Z",
     "iopub.status.idle": "2024-01-03T16:06:47.658629Z",
     "shell.execute_reply": "2024-01-03T16:06:47.657661Z"
    },
    "papermill": {
     "duration": 9.606979,
     "end_time": "2024-01-03T16:06:47.662326",
     "exception": false,
     "start_time": "2024-01-03T16:06:38.055347",
     "status": "completed"
    },
    "tags": []
   },
   "outputs": [
    {
     "name": "stderr",
     "output_type": "stream",
     "text": [
      "                                                                                \r"
     ]
    }
   ],
   "source": [
    "LDNCrime = spark.read.option(\"header\", \"true\").option(\"delimiter\", \",\")\\\n",
    ".option(\"inferSchema\", \"true\").\\\n",
    "csv(\"/kaggle/input/ldn-crime-dataset/LDN Crime Data\")"
   ]
  },
  {
   "cell_type": "code",
   "execution_count": 5,
   "id": "22492586",
   "metadata": {
    "execution": {
     "iopub.execute_input": "2024-01-03T16:06:47.706822Z",
     "iopub.status.busy": "2024-01-03T16:06:47.706367Z",
     "iopub.status.idle": "2024-01-03T16:06:47.724793Z",
     "shell.execute_reply": "2024-01-03T16:06:47.722769Z"
    },
    "papermill": {
     "duration": 0.044749,
     "end_time": "2024-01-03T16:06:47.727594",
     "exception": false,
     "start_time": "2024-01-03T16:06:47.682845",
     "status": "completed"
    },
    "tags": []
   },
   "outputs": [
    {
     "name": "stdout",
     "output_type": "stream",
     "text": [
      "root\n",
      " |-- Crime ID: string (nullable = true)\n",
      " |-- Month: string (nullable = true)\n",
      " |-- Reported by: string (nullable = true)\n",
      " |-- Falls within: string (nullable = true)\n",
      " |-- Longitude: double (nullable = true)\n",
      " |-- Latitude: double (nullable = true)\n",
      " |-- Location: string (nullable = true)\n",
      " |-- LSOA code: string (nullable = true)\n",
      " |-- LSOA name: string (nullable = true)\n",
      " |-- Crime type: string (nullable = true)\n",
      " |-- Last outcome category: string (nullable = true)\n",
      " |-- Context: string (nullable = true)\n",
      "\n"
     ]
    }
   ],
   "source": [
    "LDNCrime.printSchema()"
   ]
  },
  {
   "cell_type": "code",
   "execution_count": 6,
   "id": "c26fc8b1",
   "metadata": {
    "execution": {
     "iopub.execute_input": "2024-01-03T16:06:47.774840Z",
     "iopub.status.busy": "2024-01-03T16:06:47.773493Z",
     "iopub.status.idle": "2024-01-03T16:06:47.912608Z",
     "shell.execute_reply": "2024-01-03T16:06:47.911359Z"
    },
    "papermill": {
     "duration": 0.165379,
     "end_time": "2024-01-03T16:06:47.915824",
     "exception": false,
     "start_time": "2024-01-03T16:06:47.750445",
     "status": "completed"
    },
    "tags": []
   },
   "outputs": [],
   "source": [
    "# tidy up the column names\n",
    "\n",
    "LDNCrime = LDNCrime.withColumnRenamed('Crime ID', 'Crime_ID')\n",
    "LDNCrime = LDNCrime.withColumnRenamed('Reported by', 'Reported_by')\n",
    "LDNCrime = LDNCrime.withColumnRenamed('Falls within', 'Falls_within')\n",
    "LDNCrime = LDNCrime.withColumnRenamed('LSOA code', 'LSOA_code')\n",
    "LDNCrime = LDNCrime.withColumnRenamed('LSOA name', 'LSOA_name')\n",
    "LDNCrime = LDNCrime.withColumnRenamed('Crime type', 'Crime_type')\n",
    "LDNCrime = LDNCrime.withColumnRenamed('Last outcome category', 'Last_outcome_category')"
   ]
  },
  {
   "cell_type": "code",
   "execution_count": 7,
   "id": "fd0279d8",
   "metadata": {
    "execution": {
     "iopub.execute_input": "2024-01-03T16:06:47.959553Z",
     "iopub.status.busy": "2024-01-03T16:06:47.959145Z",
     "iopub.status.idle": "2024-01-03T16:06:47.967175Z",
     "shell.execute_reply": "2024-01-03T16:06:47.965258Z"
    },
    "papermill": {
     "duration": 0.033407,
     "end_time": "2024-01-03T16:06:47.969988",
     "exception": false,
     "start_time": "2024-01-03T16:06:47.936581",
     "status": "completed"
    },
    "tags": []
   },
   "outputs": [
    {
     "name": "stdout",
     "output_type": "stream",
     "text": [
      "root\n",
      " |-- Crime_ID: string (nullable = true)\n",
      " |-- Month: string (nullable = true)\n",
      " |-- Reported_by: string (nullable = true)\n",
      " |-- Falls_within: string (nullable = true)\n",
      " |-- Longitude: double (nullable = true)\n",
      " |-- Latitude: double (nullable = true)\n",
      " |-- Location: string (nullable = true)\n",
      " |-- LSOA_code: string (nullable = true)\n",
      " |-- LSOA_name: string (nullable = true)\n",
      " |-- Crime_type: string (nullable = true)\n",
      " |-- Last_outcome_category: string (nullable = true)\n",
      " |-- Context: string (nullable = true)\n",
      "\n"
     ]
    }
   ],
   "source": [
    "LDNCrime.printSchema()"
   ]
  },
  {
   "cell_type": "code",
   "execution_count": 8,
   "id": "42c84607",
   "metadata": {
    "execution": {
     "iopub.execute_input": "2024-01-03T16:06:48.012233Z",
     "iopub.status.busy": "2024-01-03T16:06:48.011787Z",
     "iopub.status.idle": "2024-01-03T16:06:48.431322Z",
     "shell.execute_reply": "2024-01-03T16:06:48.430075Z"
    },
    "papermill": {
     "duration": 0.445279,
     "end_time": "2024-01-03T16:06:48.435057",
     "exception": false,
     "start_time": "2024-01-03T16:06:47.989778",
     "status": "completed"
    },
    "tags": []
   },
   "outputs": [
    {
     "data": {
      "text/plain": [
       "[Row(Crime_ID='b45dac6a67d5db23714d7eb073a3482c63f45f27f4b6bd0c88117ff49753f1b2', Month='2021-06', Reported_by='Nottinghamshire Police', Falls_within='Nottinghamshire Police', Longitude=-1.400636, Latitude=53.075034, Location='On or near B6016', LSOA_code='E01019475', LSOA_name='Amber Valley 004E', Crime_type='Violence and sexual offences', Last_outcome_category='Unable to prosecute suspect', Context=None),\n",
       " Row(Crime_ID='63c3b35c31af90a96816edf97bb866d937b9cc2e03f99616daaa7d5dcd188be7', Month='2021-06', Reported_by='Nottinghamshire Police', Falls_within='Nottinghamshire Police', Longitude=-1.410348, Latitude=53.04264, Location='On or near Pear Tree Avenue', LSOA_code='E01019463', LSOA_name='Amber Valley 008F', Crime_type='Violence and sexual offences', Last_outcome_category='Unable to prosecute suspect', Context=None)]"
      ]
     },
     "execution_count": 8,
     "metadata": {},
     "output_type": "execute_result"
    }
   ],
   "source": [
    "LDNCrime.take(2)"
   ]
  },
  {
   "cell_type": "code",
   "execution_count": 9,
   "id": "86abdd6c",
   "metadata": {
    "execution": {
     "iopub.execute_input": "2024-01-03T16:06:48.498172Z",
     "iopub.status.busy": "2024-01-03T16:06:48.496820Z",
     "iopub.status.idle": "2024-01-03T16:06:51.264310Z",
     "shell.execute_reply": "2024-01-03T16:06:51.263013Z"
    },
    "papermill": {
     "duration": 2.802474,
     "end_time": "2024-01-03T16:06:51.268141",
     "exception": false,
     "start_time": "2024-01-03T16:06:48.465667",
     "status": "completed"
    },
    "tags": []
   },
   "outputs": [
    {
     "name": "stderr",
     "output_type": "stream",
     "text": [
      "[Stage 4:=============================>                             (1 + 1) / 2]\r"
     ]
    },
    {
     "name": "stdout",
     "output_type": "stream",
     "text": [
      "+-------+-----+\n",
      "|  Month|count|\n",
      "+-------+-----+\n",
      "|2021-06|32975|\n",
      "|2021-07|32286|\n",
      "|2021-05|30720|\n",
      "|2021-03|30717|\n",
      "|2021-08|30060|\n",
      "|2021-04|29992|\n",
      "|2021-09|29614|\n",
      "|2021-11|29091|\n",
      "|2021-10|28585|\n",
      "|2021-12|27046|\n",
      "|2021-01|26044|\n",
      "|2021-02|25316|\n",
      "+-------+-----+\n",
      "\n"
     ]
    },
    {
     "name": "stderr",
     "output_type": "stream",
     "text": [
      "                                                                                \r"
     ]
    }
   ],
   "source": [
    "#get the counts for each month ordered in descending order\n",
    "LDNCrime.groupby(\"Month\").count().orderBy(desc(\"count\")).show()"
   ]
  },
  {
   "cell_type": "code",
   "execution_count": 10,
   "id": "edc068c8",
   "metadata": {
    "execution": {
     "iopub.execute_input": "2024-01-03T16:06:51.331030Z",
     "iopub.status.busy": "2024-01-03T16:06:51.330435Z",
     "iopub.status.idle": "2024-01-03T16:06:52.876349Z",
     "shell.execute_reply": "2024-01-03T16:06:52.874891Z"
    },
    "papermill": {
     "duration": 1.582458,
     "end_time": "2024-01-03T16:06:52.880028",
     "exception": false,
     "start_time": "2024-01-03T16:06:51.297570",
     "status": "completed"
    },
    "tags": []
   },
   "outputs": [
    {
     "name": "stderr",
     "output_type": "stream",
     "text": [
      "[Stage 7:>                                                          (0 + 2) / 2]\r"
     ]
    },
    {
     "name": "stdout",
     "output_type": "stream",
     "text": [
      "+----+------+\n",
      "|Year| count|\n",
      "+----+------+\n",
      "|2021|352446|\n",
      "+----+------+\n",
      "\n"
     ]
    },
    {
     "name": "stderr",
     "output_type": "stream",
     "text": [
      "                                                                                \r"
     ]
    }
   ],
   "source": [
    "#retrieve yearly amount of crimes sorted descendantly\n",
    "LDNCrime.select(substring(LDNCrime.Month, 1,4).alias('Year'), \"Month\")\\\n",
    ".groupby(\"Year\").count().show()"
   ]
  },
  {
   "cell_type": "markdown",
   "id": "2e73307b",
   "metadata": {
    "papermill": {
     "duration": 0.030231,
     "end_time": "2024-01-03T16:06:52.941077",
     "exception": false,
     "start_time": "2024-01-03T16:06:52.910846",
     "status": "completed"
    },
    "tags": []
   },
   "source": [
    "* Make a  line graph for each cities \n",
    "* piechart"
   ]
  },
  {
   "cell_type": "code",
   "execution_count": 11,
   "id": "1fa28323",
   "metadata": {
    "execution": {
     "iopub.execute_input": "2024-01-03T16:06:53.005876Z",
     "iopub.status.busy": "2024-01-03T16:06:53.005415Z",
     "iopub.status.idle": "2024-01-03T16:06:54.668143Z",
     "shell.execute_reply": "2024-01-03T16:06:54.666908Z"
    },
    "papermill": {
     "duration": 1.703157,
     "end_time": "2024-01-03T16:06:54.674479",
     "exception": false,
     "start_time": "2024-01-03T16:06:52.971322",
     "status": "completed"
    },
    "tags": []
   },
   "outputs": [
    {
     "name": "stderr",
     "output_type": "stream",
     "text": [
      "[Stage 10:>                                                         (0 + 2) / 2]\r"
     ]
    },
    {
     "name": "stdout",
     "output_type": "stream",
     "text": [
      "+-----+-----+\n",
      "|Month|count|\n",
      "+-----+-----+\n",
      "|   06|32975|\n",
      "|   07|32286|\n",
      "|   05|30720|\n",
      "|   03|30717|\n",
      "|   08|30060|\n",
      "|   04|29992|\n",
      "|   09|29614|\n",
      "|   11|29091|\n",
      "|   10|28585|\n",
      "|   12|27046|\n",
      "|   01|26044|\n",
      "|   02|25316|\n",
      "+-----+-----+\n",
      "\n"
     ]
    },
    {
     "name": "stderr",
     "output_type": "stream",
     "text": [
      "                                                                                \r"
     ]
    }
   ],
   "source": [
    "#retrieve monthly amount of crimes (excluded year 2021) sorted descendantly\n",
    "LDNCrime.\\\n",
    "select(substring(LDNCrime.Month, 6,7)\\\n",
    "                                                          \\\n",
    "       .alias('Month'), LDNCrime.Month.\\\n",
    "                                                          \\\n",
    "       alias('MonthWithYear')).groupby(\"Month\").\\\n",
    "count().orderBy(desc(\"count\")).show()"
   ]
  },
  {
   "cell_type": "code",
   "execution_count": 12,
   "id": "fa019f57",
   "metadata": {
    "execution": {
     "iopub.execute_input": "2024-01-03T16:06:54.737393Z",
     "iopub.status.busy": "2024-01-03T16:06:54.736904Z",
     "iopub.status.idle": "2024-01-03T16:06:54.803013Z",
     "shell.execute_reply": "2024-01-03T16:06:54.801878Z"
    },
    "papermill": {
     "duration": 0.100995,
     "end_time": "2024-01-03T16:06:54.806304",
     "exception": false,
     "start_time": "2024-01-03T16:06:54.705309",
     "status": "completed"
    },
    "tags": []
   },
   "outputs": [
    {
     "name": "stderr",
     "output_type": "stream",
     "text": [
      "/opt/conda/lib/python3.10/site-packages/pyspark/sql/dataframe.py:138: FutureWarning: Deprecated in 2.0, use createOrReplaceTempView instead.\n",
      "  warnings.warn(\n"
     ]
    }
   ],
   "source": [
    "#register temp tables \n",
    "LDNCrime.registerTempTable(\"tbl_LDNCrimes\")"
   ]
  },
  {
   "cell_type": "code",
   "execution_count": 13,
   "id": "7fd9ee3f",
   "metadata": {
    "execution": {
     "iopub.execute_input": "2024-01-03T16:06:54.853374Z",
     "iopub.status.busy": "2024-01-03T16:06:54.852889Z",
     "iopub.status.idle": "2024-01-03T16:06:55.155036Z",
     "shell.execute_reply": "2024-01-03T16:06:55.153806Z"
    },
    "papermill": {
     "duration": 0.331141,
     "end_time": "2024-01-03T16:06:55.159104",
     "exception": false,
     "start_time": "2024-01-03T16:06:54.827963",
     "status": "completed"
    },
    "tags": []
   },
   "outputs": [
    {
     "name": "stdout",
     "output_type": "stream",
     "text": [
      "+--------------------+-------+--------------------+--------------------+---------+---------+--------------------+---------+-----------------+--------------------+---------------------+-------+\n",
      "|            Crime_ID|  Month|         Reported_by|        Falls_within|Longitude| Latitude|            Location|LSOA_code|        LSOA_name|          Crime_type|Last_outcome_category|Context|\n",
      "+--------------------+-------+--------------------+--------------------+---------+---------+--------------------+---------+-----------------+--------------------+---------------------+-------+\n",
      "|b45dac6a67d5db237...|2021-06|Nottinghamshire P...|Nottinghamshire P...|-1.400636|53.075034|    On or near B6016|E01019475|Amber Valley 004E|Violence and sexu...| Unable to prosecu...|   null|\n",
      "|63c3b35c31af90a96...|2021-06|Nottinghamshire P...|Nottinghamshire P...|-1.410348| 53.04264|On or near Pear T...|E01019463|Amber Valley 008F|Violence and sexu...| Unable to prosecu...|   null|\n",
      "|12439b8a8892f29d1...|2021-06|Nottinghamshire P...|Nottinghamshire P...| -1.34037|53.017858|On or near Statio...|E01019434|Amber Valley 013A|               Drugs| Court result unav...|   null|\n",
      "|810e9a9857b3a589a...|2021-06|Nottinghamshire P...|Nottinghamshire P...| -1.33401|53.012726|On or near Lavend...|E01019435|Amber Valley 013B|Violence and sexu...| Status update una...|   null|\n",
      "|                null|2021-06|Nottinghamshire P...|Nottinghamshire P...|-1.262884|53.143792|On or near Vicara...|E01027979|    Ashfield 001A|Anti-social behav...|                 null|   null|\n",
      "+--------------------+-------+--------------------+--------------------+---------+---------+--------------------+---------+-----------------+--------------------+---------------------+-------+\n",
      "only showing top 5 rows\n",
      "\n"
     ]
    }
   ],
   "source": [
    "sqlContext.sql(\"select * from tbl_LDNCrimes\").show(5)"
   ]
  },
  {
   "cell_type": "code",
   "execution_count": 14,
   "id": "f979a84e",
   "metadata": {
    "execution": {
     "iopub.execute_input": "2024-01-03T16:06:55.310850Z",
     "iopub.status.busy": "2024-01-03T16:06:55.310140Z",
     "iopub.status.idle": "2024-01-03T16:06:57.523886Z",
     "shell.execute_reply": "2024-01-03T16:06:57.522499Z"
    },
    "papermill": {
     "duration": 2.339419,
     "end_time": "2024-01-03T16:06:57.529694",
     "exception": false,
     "start_time": "2024-01-03T16:06:55.190275",
     "status": "completed"
    },
    "tags": []
   },
   "outputs": [
    {
     "name": "stderr",
     "output_type": "stream",
     "text": [
      "[Stage 14:>                                                         (0 + 2) / 2]\r"
     ]
    },
    {
     "name": "stdout",
     "output_type": "stream",
     "text": [
      "+--------------------+-------+--------------------+--------------------+---------+---------+--------------------+---------+-----------------+--------------------+---------------------+-------+\n",
      "|            Crime_ID|  Month|         Reported_by|        Falls_within|Longitude| Latitude|            Location|LSOA_code|        LSOA_name|          Crime_type|Last_outcome_category|Context|\n",
      "+--------------------+-------+--------------------+--------------------+---------+---------+--------------------+---------+-----------------+--------------------+---------------------+-------+\n",
      "|                null|2021-12|Derbyshire Consta...|Derbyshire Consta...|-1.376752|53.101034|On or near Meadow...|E01019400|Amber Valley 001A|Anti-social behav...|                 null|   null|\n",
      "|                null|2021-12|Derbyshire Consta...|Derbyshire Consta...|-1.392706|53.097619|On or near Parkin...|E01019401|Amber Valley 001B|Anti-social behav...|                 null|   null|\n",
      "|                null|2021-12|Derbyshire Consta...|Derbyshire Consta...|-1.377638|53.098647|On or near Mansfi...|E01019400|Amber Valley 001A|Anti-social behav...|                 null|   null|\n",
      "|294f5dd59b0e01d2d...|2021-12|Derbyshire Consta...|Derbyshire Consta...|-1.379742|53.102928|On or near Lydfor...|E01019400|Amber Valley 001A|            Burglary| Investigation com...|   null|\n",
      "|98ef4fc94465a178a...|2021-12|Derbyshire Consta...|Derbyshire Consta...|-1.381917|53.101231|On or near Cedar ...|E01019400|Amber Valley 001A|Criminal damage a...| Investigation com...|   null|\n",
      "|e442b828feb88158b...|2021-12|Derbyshire Consta...|Derbyshire Consta...|-1.377557|53.096984|On or near Prospe...|E01019400|Amber Valley 001A|Criminal damage a...| Unable to prosecu...|   null|\n",
      "|9d672667cc669d2b7...|2021-12|Derbyshire Consta...|Derbyshire Consta...|-1.371779|53.100971|On or near Wood S...|E01019400|Amber Valley 001A|Criminal damage a...| Unable to prosecu...|   null|\n",
      "|40a7198630744f847...|2021-12|Derbyshire Consta...|Derbyshire Consta...|-1.381917|53.101231|On or near Cedar ...|E01019400|Amber Valley 001A|        Public order| Unable to prosecu...|   null|\n",
      "|bb9f2ba2970342afe...|2021-12|Derbyshire Consta...|Derbyshire Consta...|-1.377557|53.096984|On or near Prospe...|E01019400|Amber Valley 001A|        Public order| Unable to prosecu...|   null|\n",
      "|ff8a00cfc6f282132...|2021-12|Derbyshire Consta...|Derbyshire Consta...|-1.377638|53.098647|On or near Mansfi...|E01019400|Amber Valley 001A|Violence and sexu...| Investigation com...|   null|\n",
      "|fc403ee7b04764952...|2021-12|Derbyshire Consta...|Derbyshire Consta...|-1.373564|53.099408|On or near Cather...|E01019400|Amber Valley 001A|Violence and sexu...| Unable to prosecu...|   null|\n",
      "|56283cdca245cb7ef...|2021-12|Derbyshire Consta...|Derbyshire Consta...|-1.377557|53.096984|On or near Prospe...|E01019400|Amber Valley 001A|         Other crime| Unable to prosecu...|   null|\n",
      "|ad001a8a6157e8ae0...|2021-12|Derbyshire Consta...|Derbyshire Consta...|-1.376719|53.099173|On or near Parkin...|E01019400|Amber Valley 001A|         Other crime| Court result unav...|   null|\n",
      "|b30548027c5ed70f7...|2021-12|Derbyshire Consta...|Derbyshire Consta...|-1.377557|53.096984|On or near Prospe...|E01019400|Amber Valley 001A|         Other crime| Unable to prosecu...|   null|\n",
      "|                null|2021-12|Derbyshire Consta...|Derbyshire Consta...|-1.389352|53.099283|On or near Rowlan...|E01019401|Amber Valley 001B|Anti-social behav...|                 null|   null|\n",
      "|                null|2021-12|Derbyshire Consta...|Derbyshire Consta...|-1.387822|53.096605|On or near Shoppi...|E01019401|Amber Valley 001B|Anti-social behav...|                 null|   null|\n",
      "|                null|2021-12|Derbyshire Consta...|Derbyshire Consta...|-1.387121|53.097573|On or near High S...|E01019401|Amber Valley 001B|Anti-social behav...|                 null|   null|\n",
      "|                null|2021-12|Derbyshire Consta...|Derbyshire Consta...|-1.383971|53.098536|On or near Firs G...|E01019401|Amber Valley 001B|Anti-social behav...|                 null|   null|\n",
      "|                null|2021-12|Derbyshire Consta...|Derbyshire Consta...|-1.387121|53.097573|On or near High S...|E01019401|Amber Valley 001B|Anti-social behav...|                 null|   null|\n",
      "|                null|2021-12|Derbyshire Consta...|Derbyshire Consta...|-1.387121|53.097573|On or near High S...|E01019401|Amber Valley 001B|Anti-social behav...|                 null|   null|\n",
      "+--------------------+-------+--------------------+--------------------+---------+---------+--------------------+---------+-----------------+--------------------+---------------------+-------+\n",
      "only showing top 20 rows\n",
      "\n"
     ]
    },
    {
     "name": "stderr",
     "output_type": "stream",
     "text": [
      "                                                                                \r"
     ]
    }
   ],
   "source": [
    "#retreive monthly crime amount and order by total in descending order\n",
    "sqlContext.sql(\"select * from tbl_LDNCrimes order by Month desc\").show()"
   ]
  },
  {
   "cell_type": "code",
   "execution_count": 15,
   "id": "c5a94863",
   "metadata": {
    "execution": {
     "iopub.execute_input": "2024-01-03T16:06:57.599671Z",
     "iopub.status.busy": "2024-01-03T16:06:57.598671Z",
     "iopub.status.idle": "2024-01-03T16:06:57.628835Z",
     "shell.execute_reply": "2024-01-03T16:06:57.627583Z"
    },
    "papermill": {
     "duration": 0.069177,
     "end_time": "2024-01-03T16:06:57.633074",
     "exception": false,
     "start_time": "2024-01-03T16:06:57.563897",
     "status": "completed"
    },
    "tags": []
   },
   "outputs": [],
   "source": [
    "# Create new data frame with Month and Counts per Month\n",
    "LDNCrime_temp = LDNCrime.select(LDNCrime.Month)\\\n",
    ".groupby(LDNCrime.Month).count()"
   ]
  },
  {
   "cell_type": "code",
   "execution_count": 16,
   "id": "3fe9e440",
   "metadata": {
    "execution": {
     "iopub.execute_input": "2024-01-03T16:06:57.698305Z",
     "iopub.status.busy": "2024-01-03T16:06:57.697928Z",
     "iopub.status.idle": "2024-01-03T16:06:58.944179Z",
     "shell.execute_reply": "2024-01-03T16:06:58.942630Z"
    },
    "papermill": {
     "duration": 1.283584,
     "end_time": "2024-01-03T16:06:58.948445",
     "exception": false,
     "start_time": "2024-01-03T16:06:57.664861",
     "status": "completed"
    },
    "tags": []
   },
   "outputs": [
    {
     "name": "stderr",
     "output_type": "stream",
     "text": [
      "                                                                                \r"
     ]
    },
    {
     "name": "stdout",
     "output_type": "stream",
     "text": [
      "+-------+-----+\n",
      "|  Month|count|\n",
      "+-------+-----+\n",
      "|2021-12|27046|\n",
      "|2021-11|29091|\n",
      "|2021-10|28585|\n",
      "|2021-09|29614|\n",
      "|2021-08|30060|\n",
      "|2021-07|32286|\n",
      "|2021-06|32975|\n",
      "|2021-05|30720|\n",
      "|2021-04|29992|\n",
      "|2021-03|30717|\n",
      "|2021-02|25316|\n",
      "|2021-01|26044|\n",
      "+-------+-----+\n",
      "\n"
     ]
    }
   ],
   "source": [
    "LDNCrime_temp.orderBy(desc(\"Month\")).show()"
   ]
  },
  {
   "cell_type": "code",
   "execution_count": 17,
   "id": "4ada235e",
   "metadata": {
    "execution": {
     "iopub.execute_input": "2024-01-03T16:06:59.016919Z",
     "iopub.status.busy": "2024-01-03T16:06:59.016384Z",
     "iopub.status.idle": "2024-01-03T16:06:59.050488Z",
     "shell.execute_reply": "2024-01-03T16:06:59.049260Z"
    },
    "papermill": {
     "duration": 0.07422,
     "end_time": "2024-01-03T16:06:59.054430",
     "exception": false,
     "start_time": "2024-01-03T16:06:58.980210",
     "status": "completed"
    },
    "tags": []
   },
   "outputs": [],
   "source": [
    "LDNCrime_temp.registerTempTable(\"tbl_LDNCrime_temp\")"
   ]
  },
  {
   "cell_type": "code",
   "execution_count": 18,
   "id": "4644bea5",
   "metadata": {
    "execution": {
     "iopub.execute_input": "2024-01-03T16:06:59.106724Z",
     "iopub.status.busy": "2024-01-03T16:06:59.106006Z",
     "iopub.status.idle": "2024-01-03T16:06:59.301159Z",
     "shell.execute_reply": "2024-01-03T16:06:59.300015Z"
    },
    "papermill": {
     "duration": 0.223518,
     "end_time": "2024-01-03T16:06:59.304877",
     "exception": false,
     "start_time": "2024-01-03T16:06:59.081359",
     "status": "completed"
    },
    "tags": []
   },
   "outputs": [],
   "source": [
    "# Create new dataframe with month, total, and averages\n",
    "monthlyCrimeAmount = sqlContext.\\\n",
    "sql(\"select substring(Month, 6, 2) as Month, \\\n",
    "SUM(count) as Total, avg(count) as \\\n",
    "Average from tbl_LDNCrime_temp group by substring(Month, 6, 2)\")"
   ]
  },
  {
   "cell_type": "code",
   "execution_count": 19,
   "id": "793ce808",
   "metadata": {
    "execution": {
     "iopub.execute_input": "2024-01-03T16:06:59.354538Z",
     "iopub.status.busy": "2024-01-03T16:06:59.354038Z",
     "iopub.status.idle": "2024-01-03T16:06:59.370830Z",
     "shell.execute_reply": "2024-01-03T16:06:59.369273Z"
    },
    "papermill": {
     "duration": 0.04583,
     "end_time": "2024-01-03T16:06:59.374670",
     "exception": false,
     "start_time": "2024-01-03T16:06:59.328840",
     "status": "completed"
    },
    "tags": []
   },
   "outputs": [],
   "source": [
    "monthlyCrimeAmountnew = monthlyCrimeAmount.orderBy('Month')"
   ]
  },
  {
   "cell_type": "code",
   "execution_count": 20,
   "id": "b7d11c92",
   "metadata": {
    "execution": {
     "iopub.execute_input": "2024-01-03T16:06:59.442068Z",
     "iopub.status.busy": "2024-01-03T16:06:59.441631Z",
     "iopub.status.idle": "2024-01-03T16:07:01.309492Z",
     "shell.execute_reply": "2024-01-03T16:07:01.304898Z"
    },
    "papermill": {
     "duration": 1.906041,
     "end_time": "2024-01-03T16:07:01.313924",
     "exception": false,
     "start_time": "2024-01-03T16:06:59.407883",
     "status": "completed"
    },
    "tags": []
   },
   "outputs": [
    {
     "name": "stderr",
     "output_type": "stream",
     "text": [
      "[Stage 18:=============================>                            (1 + 1) / 2]\r"
     ]
    },
    {
     "name": "stdout",
     "output_type": "stream",
     "text": [
      "+-----+-----+-------+\n",
      "|Month|Total|Average|\n",
      "+-----+-----+-------+\n",
      "|   01|26044|26044.0|\n",
      "|   02|25316|25316.0|\n",
      "|   03|30717|30717.0|\n",
      "|   04|29992|29992.0|\n",
      "|   05|30720|30720.0|\n",
      "|   06|32975|32975.0|\n",
      "|   07|32286|32286.0|\n",
      "|   08|30060|30060.0|\n",
      "|   09|29614|29614.0|\n",
      "|   10|28585|28585.0|\n",
      "|   11|29091|29091.0|\n",
      "|   12|27046|27046.0|\n",
      "+-----+-----+-------+\n",
      "\n"
     ]
    },
    {
     "name": "stderr",
     "output_type": "stream",
     "text": [
      "                                                                                \r"
     ]
    }
   ],
   "source": [
    "monthlyCrimeAmountnew.show()"
   ]
  }
 ],
 "metadata": {
  "kaggle": {
   "accelerator": "none",
   "dataSources": [
    {
     "datasetId": 4233255,
     "sourceId": 7297781,
     "sourceType": "datasetVersion"
    }
   ],
   "dockerImageVersionId": 30626,
   "isGpuEnabled": false,
   "isInternetEnabled": true,
   "language": "python",
   "sourceType": "notebook"
  },
  "kernelspec": {
   "display_name": "Python 3",
   "language": "python",
   "name": "python3"
  },
  "language_info": {
   "codemirror_mode": {
    "name": "ipython",
    "version": 3
   },
   "file_extension": ".py",
   "mimetype": "text/x-python",
   "name": "python",
   "nbconvert_exporter": "python",
   "pygments_lexer": "ipython3",
   "version": "3.10.12"
  },
  "papermill": {
   "default_parameters": {},
   "duration": 93.139446,
   "end_time": "2024-01-03T16:07:03.971871",
   "environment_variables": {},
   "exception": null,
   "input_path": "__notebook__.ipynb",
   "output_path": "__notebook__.ipynb",
   "parameters": {},
   "start_time": "2024-01-03T16:05:30.832425",
   "version": "2.4.0"
  }
 },
 "nbformat": 4,
 "nbformat_minor": 5
}
