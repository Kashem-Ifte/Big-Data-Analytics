{
 "cells": [
  {
   "cell_type": "code",
   "execution_count": 1,
   "id": "01e06631",
   "metadata": {
    "execution": {
     "iopub.execute_input": "2024-01-07T22:02:53.076060Z",
     "iopub.status.busy": "2024-01-07T22:02:53.075565Z",
     "iopub.status.idle": "2024-01-07T22:03:45.910143Z",
     "shell.execute_reply": "2024-01-07T22:03:45.908273Z"
    },
    "papermill": {
     "duration": 52.84892,
     "end_time": "2024-01-07T22:03:45.913061",
     "exception": false,
     "start_time": "2024-01-07T22:02:53.064141",
     "status": "completed"
    },
    "tags": []
   },
   "outputs": [
    {
     "name": "stdout",
     "output_type": "stream",
     "text": [
      "Collecting pyspark==3.2\r\n",
      "  Downloading pyspark-3.2.0.tar.gz (281.3 MB)\r\n",
      "\u001b[2K     \u001b[90m━━━━━━━━━━━━━━━━━━━━━━━━━━━━━━━━━━━━━━━\u001b[0m \u001b[32m281.3/281.3 MB\u001b[0m \u001b[31m3.9 MB/s\u001b[0m eta \u001b[36m0:00:00\u001b[0m\r\n",
      "\u001b[?25h  Preparing metadata (setup.py) ... \u001b[?25l-\b \b\\\b \bdone\r\n",
      "\u001b[?25hCollecting py4j==0.10.9.2 (from pyspark==3.2)\r\n",
      "  Downloading py4j-0.10.9.2-py2.py3-none-any.whl (198 kB)\r\n",
      "\u001b[2K     \u001b[90m━━━━━━━━━━━━━━━━━━━━━━━━━━━━━━━━━━━━━━\u001b[0m \u001b[32m198.8/198.8 kB\u001b[0m \u001b[31m13.6 MB/s\u001b[0m eta \u001b[36m0:00:00\u001b[0m\r\n",
      "\u001b[?25hBuilding wheels for collected packages: pyspark\r\n",
      "  Building wheel for pyspark (setup.py) ... \u001b[?25l-\b \b\\\b \b|\b \bdone\r\n",
      "\u001b[?25h  Created wheel for pyspark: filename=pyspark-3.2.0-py2.py3-none-any.whl size=281805893 sha256=431894df45c5aca711a9ca9df1eee892da4d478cd97cafdab2fba2525edba714\r\n",
      "  Stored in directory: /root/.cache/pip/wheels/32/97/d3/8b6d964c8700e4fbb561c71638a92ec55dac9be51eb5fea86d\r\n",
      "Successfully built pyspark\r\n",
      "Installing collected packages: py4j, pyspark\r\n",
      "  Attempting uninstall: py4j\r\n",
      "    Found existing installation: py4j 0.10.9.7\r\n",
      "    Uninstalling py4j-0.10.9.7:\r\n",
      "      Successfully uninstalled py4j-0.10.9.7\r\n",
      "Successfully installed py4j-0.10.9.2 pyspark-3.2.0\r\n"
     ]
    }
   ],
   "source": [
    "!pip install pyspark==3.2"
   ]
  },
  {
   "cell_type": "code",
   "execution_count": 2,
   "id": "4e414c17",
   "metadata": {
    "execution": {
     "iopub.execute_input": "2024-01-07T22:03:45.951982Z",
     "iopub.status.busy": "2024-01-07T22:03:45.951029Z",
     "iopub.status.idle": "2024-01-07T22:03:53.075591Z",
     "shell.execute_reply": "2024-01-07T22:03:53.074431Z"
    },
    "papermill": {
     "duration": 7.148394,
     "end_time": "2024-01-07T22:03:53.078896",
     "exception": false,
     "start_time": "2024-01-07T22:03:45.930502",
     "status": "completed"
    },
    "tags": []
   },
   "outputs": [
    {
     "name": "stderr",
     "output_type": "stream",
     "text": [
      "WARNING: An illegal reflective access operation has occurred\n",
      "WARNING: Illegal reflective access by org.apache.spark.unsafe.Platform (file:/opt/conda/lib/python3.10/site-packages/pyspark/jars/spark-unsafe_2.12-3.2.0.jar) to constructor java.nio.DirectByteBuffer(long,int)\n",
      "WARNING: Please consider reporting this to the maintainers of org.apache.spark.unsafe.Platform\n",
      "WARNING: Use --illegal-access=warn to enable warnings of further illegal reflective access operations\n",
      "WARNING: All illegal access operations will be denied in a future release\n",
      "Using Spark's default log4j profile: org/apache/spark/log4j-defaults.properties\n",
      "Setting default log level to \"WARN\".\n",
      "To adjust logging level use sc.setLogLevel(newLevel). For SparkR, use setLogLevel(newLevel).\n",
      "24/01/07 22:03:49 WARN NativeCodeLoader: Unable to load native-hadoop library for your platform... using builtin-java classes where applicable\n",
      "/opt/conda/lib/python3.10/site-packages/pyspark/sql/context.py:77: FutureWarning: Deprecated in 3.0.0. Use SparkSession.builder.getOrCreate() instead.\n",
      "  warnings.warn(\n"
     ]
    }
   ],
   "source": [
    "#Start spark sessnon and configureation\n",
    "from pyspark import SparkConf, SparkContext\n",
    "from pyspark.sql import SparkSession, SQLContext\n",
    "spark = SparkSession.builder.master(\"local[2]\").appName(\"dat\").getOrCreate()\n",
    "sc = spark.sparkContext\n",
    "#create an instance of SQLContext\n",
    "sqlContext = SQLContext(spark)"
   ]
  },
  {
   "cell_type": "code",
   "execution_count": 3,
   "id": "f6dd76e1",
   "metadata": {
    "execution": {
     "iopub.execute_input": "2024-01-07T22:03:53.124097Z",
     "iopub.status.busy": "2024-01-07T22:03:53.123032Z",
     "iopub.status.idle": "2024-01-07T22:03:54.136411Z",
     "shell.execute_reply": "2024-01-07T22:03:54.135242Z"
    },
    "papermill": {
     "duration": 1.036873,
     "end_time": "2024-01-07T22:03:54.139671",
     "exception": false,
     "start_time": "2024-01-07T22:03:53.102798",
     "status": "completed"
    },
    "tags": []
   },
   "outputs": [],
   "source": [
    "# Import libraries and other functions\n",
    "from io import StringIO\n",
    "from collections import namedtuple\n",
    "from pyspark.sql import Row\n",
    "from pyspark.sql.types import *\n",
    "from pyspark.sql.functions import *\n",
    "\n",
    "import csv\n",
    "import matplotlib.pyplot as plt\n",
    "\n",
    "import pandas as pd\n",
    "import numpy as np"
   ]
  },
  {
   "cell_type": "code",
   "execution_count": 4,
   "id": "78d45c09",
   "metadata": {
    "execution": {
     "iopub.execute_input": "2024-01-07T22:03:54.178034Z",
     "iopub.status.busy": "2024-01-07T22:03:54.177451Z",
     "iopub.status.idle": "2024-01-07T22:04:05.680160Z",
     "shell.execute_reply": "2024-01-07T22:04:05.678723Z"
    },
    "papermill": {
     "duration": 11.526609,
     "end_time": "2024-01-07T22:04:05.684444",
     "exception": false,
     "start_time": "2024-01-07T22:03:54.157835",
     "status": "completed"
    },
    "tags": []
   },
   "outputs": [
    {
     "name": "stderr",
     "output_type": "stream",
     "text": [
      "                                                                                \r"
     ]
    }
   ],
   "source": [
    "LDNCrime = spark.read.option(\"header\", \"true\").option(\"delimiter\", \",\")\\\n",
    ".option(\"inferSchema\", \"true\").\\\n",
    "csv(\"/kaggle/input/3-cities-crime/Leicester_Derby_Nottingham Crime data 2021-22\")"
   ]
  },
  {
   "cell_type": "code",
   "execution_count": 5,
   "id": "93fb6291",
   "metadata": {
    "execution": {
     "iopub.execute_input": "2024-01-07T22:04:05.724080Z",
     "iopub.status.busy": "2024-01-07T22:04:05.723419Z",
     "iopub.status.idle": "2024-01-07T22:04:05.739722Z",
     "shell.execute_reply": "2024-01-07T22:04:05.738516Z"
    },
    "papermill": {
     "duration": 0.040466,
     "end_time": "2024-01-07T22:04:05.742318",
     "exception": false,
     "start_time": "2024-01-07T22:04:05.701852",
     "status": "completed"
    },
    "tags": []
   },
   "outputs": [
    {
     "name": "stdout",
     "output_type": "stream",
     "text": [
      "root\n",
      " |-- Crime ID: string (nullable = true)\n",
      " |-- Month: string (nullable = true)\n",
      " |-- Reported by: string (nullable = true)\n",
      " |-- Falls within: string (nullable = true)\n",
      " |-- Longitude: double (nullable = true)\n",
      " |-- Latitude: double (nullable = true)\n",
      " |-- Location: string (nullable = true)\n",
      " |-- LSOA code: string (nullable = true)\n",
      " |-- LSOA name: string (nullable = true)\n",
      " |-- Crime type: string (nullable = true)\n",
      " |-- Last outcome category: string (nullable = true)\n",
      " |-- Context: string (nullable = true)\n",
      "\n"
     ]
    }
   ],
   "source": [
    "LDNCrime.printSchema()"
   ]
  },
  {
   "cell_type": "code",
   "execution_count": 6,
   "id": "078869ab",
   "metadata": {
    "execution": {
     "iopub.execute_input": "2024-01-07T22:04:05.783498Z",
     "iopub.status.busy": "2024-01-07T22:04:05.782307Z",
     "iopub.status.idle": "2024-01-07T22:04:05.876633Z",
     "shell.execute_reply": "2024-01-07T22:04:05.875287Z"
    },
    "papermill": {
     "duration": 0.122006,
     "end_time": "2024-01-07T22:04:05.882187",
     "exception": false,
     "start_time": "2024-01-07T22:04:05.760181",
     "status": "completed"
    },
    "tags": []
   },
   "outputs": [],
   "source": [
    "# tidy up the column names\n",
    "\n",
    "LDNCrime = LDNCrime.withColumnRenamed('Crime ID', 'Crime_ID')\n",
    "LDNCrime = LDNCrime.withColumnRenamed('Reported by', 'Reported_by')\n",
    "LDNCrime = LDNCrime.withColumnRenamed('Falls within', 'Falls_within')\n",
    "LDNCrime = LDNCrime.withColumnRenamed('LSOA code', 'LSOA_code')\n",
    "LDNCrime = LDNCrime.withColumnRenamed('LSOA name', 'LSOA_name')\n",
    "LDNCrime = LDNCrime.withColumnRenamed('Crime type', 'Crime_type')\n",
    "LDNCrime = LDNCrime.withColumnRenamed('Last outcome category', 'Last_outcome_category')"
   ]
  },
  {
   "cell_type": "code",
   "execution_count": 7,
   "id": "597a9ab3",
   "metadata": {
    "execution": {
     "iopub.execute_input": "2024-01-07T22:04:05.925734Z",
     "iopub.status.busy": "2024-01-07T22:04:05.925345Z",
     "iopub.status.idle": "2024-01-07T22:04:05.932800Z",
     "shell.execute_reply": "2024-01-07T22:04:05.931559Z"
    },
    "papermill": {
     "duration": 0.030624,
     "end_time": "2024-01-07T22:04:05.935263",
     "exception": false,
     "start_time": "2024-01-07T22:04:05.904639",
     "status": "completed"
    },
    "tags": []
   },
   "outputs": [
    {
     "name": "stdout",
     "output_type": "stream",
     "text": [
      "root\n",
      " |-- Crime_ID: string (nullable = true)\n",
      " |-- Month: string (nullable = true)\n",
      " |-- Reported_by: string (nullable = true)\n",
      " |-- Falls_within: string (nullable = true)\n",
      " |-- Longitude: double (nullable = true)\n",
      " |-- Latitude: double (nullable = true)\n",
      " |-- Location: string (nullable = true)\n",
      " |-- LSOA_code: string (nullable = true)\n",
      " |-- LSOA_name: string (nullable = true)\n",
      " |-- Crime_type: string (nullable = true)\n",
      " |-- Last_outcome_category: string (nullable = true)\n",
      " |-- Context: string (nullable = true)\n",
      "\n"
     ]
    }
   ],
   "source": [
    "LDNCrime.printSchema()"
   ]
  },
  {
   "cell_type": "code",
   "execution_count": 8,
   "id": "82fea6f9",
   "metadata": {
    "execution": {
     "iopub.execute_input": "2024-01-07T22:04:05.972971Z",
     "iopub.status.busy": "2024-01-07T22:04:05.972531Z",
     "iopub.status.idle": "2024-01-07T22:04:06.383979Z",
     "shell.execute_reply": "2024-01-07T22:04:06.382839Z"
    },
    "papermill": {
     "duration": 0.434291,
     "end_time": "2024-01-07T22:04:06.387131",
     "exception": false,
     "start_time": "2024-01-07T22:04:05.952840",
     "status": "completed"
    },
    "tags": []
   },
   "outputs": [
    {
     "data": {
      "text/plain": [
       "[Row(Crime_ID='669fa661520a6ef86a226893c1eacd5a503b7801b8cf6c6f153200a5628bf02e', Month='2022-05', Reported_by='Nottinghamshire Police', Falls_within='Nottinghamshire Police', Longitude=-1.375369, Latitude=53.099579, Location='On or near Priory Road', LSOA_code='E01019400', LSOA_name='Amber Valley 001A', Crime_type='Violence and sexual offences', Last_outcome_category='Status update unavailable', Context=None),\n",
       " Row(Crime_ID=None, Month='2022-05', Reported_by='Nottinghamshire Police', Falls_within='Nottinghamshire Police', Longitude=-1.329291, Latitude=53.021005, Location='On or near Bridge Street', LSOA_code='E01019453', LSOA_name='Amber Valley 017D', Crime_type='Anti-social behaviour', Last_outcome_category=None, Context=None)]"
      ]
     },
     "execution_count": 8,
     "metadata": {},
     "output_type": "execute_result"
    }
   ],
   "source": [
    "LDNCrime.take(2)"
   ]
  },
  {
   "cell_type": "code",
   "execution_count": 9,
   "id": "3d2ddc04",
   "metadata": {
    "execution": {
     "iopub.execute_input": "2024-01-07T22:04:06.426042Z",
     "iopub.status.busy": "2024-01-07T22:04:06.425656Z",
     "iopub.status.idle": "2024-01-07T22:04:09.643813Z",
     "shell.execute_reply": "2024-01-07T22:04:09.640477Z"
    },
    "papermill": {
     "duration": 3.242126,
     "end_time": "2024-01-07T22:04:09.648281",
     "exception": false,
     "start_time": "2024-01-07T22:04:06.406155",
     "status": "completed"
    },
    "tags": []
   },
   "outputs": [
    {
     "name": "stderr",
     "output_type": "stream",
     "text": [
      "[Stage 4:============================================>              (3 + 1) / 4]\r"
     ]
    },
    {
     "name": "stdout",
     "output_type": "stream",
     "text": [
      "+-------+-----+\n",
      "|  Month|count|\n",
      "+-------+-----+\n",
      "|2021-06|32975|\n",
      "|2022-05|32872|\n",
      "|2021-07|32286|\n",
      "|2022-08|31867|\n",
      "|2022-03|31359|\n",
      "|2022-04|30723|\n",
      "|2021-05|30720|\n",
      "|2021-03|30717|\n",
      "|2021-08|30060|\n",
      "|2021-04|29992|\n",
      "|2022-07|29625|\n",
      "|2021-09|29614|\n",
      "|2022-11|29547|\n",
      "|2021-11|29091|\n",
      "|2022-06|28952|\n",
      "|2021-10|28585|\n",
      "|2022-10|28515|\n",
      "|2022-02|27338|\n",
      "|2021-12|27046|\n",
      "|2022-09|26870|\n",
      "+-------+-----+\n",
      "only showing top 20 rows\n",
      "\n"
     ]
    },
    {
     "name": "stderr",
     "output_type": "stream",
     "text": [
      "                                                                                \r"
     ]
    }
   ],
   "source": [
    "#get the counts for each month ordered in descending order\n",
    "LDNCrime.groupby(\"Month\").count().orderBy(desc(\"count\")).show()"
   ]
  },
  {
   "cell_type": "code",
   "execution_count": 10,
   "id": "2f3211ee",
   "metadata": {
    "execution": {
     "iopub.execute_input": "2024-01-07T22:04:09.713549Z",
     "iopub.status.busy": "2024-01-07T22:04:09.712414Z",
     "iopub.status.idle": "2024-01-07T22:04:11.651167Z",
     "shell.execute_reply": "2024-01-07T22:04:11.649763Z"
    },
    "papermill": {
     "duration": 1.980276,
     "end_time": "2024-01-07T22:04:11.657110",
     "exception": false,
     "start_time": "2024-01-07T22:04:09.676834",
     "status": "completed"
    },
    "tags": []
   },
   "outputs": [
    {
     "name": "stderr",
     "output_type": "stream",
     "text": [
      "[Stage 7:============================================>              (3 + 1) / 4]\r"
     ]
    },
    {
     "name": "stdout",
     "output_type": "stream",
     "text": [
      "+--------------------+------+\n",
      "|         Reported_by| count|\n",
      "+--------------------+------+\n",
      "|Nottinghamshire P...|256640|\n",
      "|Derbyshire Consta...|231754|\n",
      "|Leicestershire Po...|214186|\n",
      "+--------------------+------+\n",
      "\n"
     ]
    },
    {
     "name": "stderr",
     "output_type": "stream",
     "text": [
      "                                                                                \r"
     ]
    }
   ],
   "source": [
    "LDNCrime.groupby(\"Reported_by\").count().orderBy(desc(\"count\")).show()"
   ]
  },
  {
   "cell_type": "code",
   "execution_count": 11,
   "id": "7754a379",
   "metadata": {
    "execution": {
     "iopub.execute_input": "2024-01-07T22:04:11.703881Z",
     "iopub.status.busy": "2024-01-07T22:04:11.703487Z",
     "iopub.status.idle": "2024-01-07T22:04:13.563543Z",
     "shell.execute_reply": "2024-01-07T22:04:13.562150Z"
    },
    "papermill": {
     "duration": 1.886439,
     "end_time": "2024-01-07T22:04:13.567366",
     "exception": false,
     "start_time": "2024-01-07T22:04:11.680927",
     "status": "completed"
    },
    "tags": []
   },
   "outputs": [
    {
     "name": "stderr",
     "output_type": "stream",
     "text": [
      "[Stage 10:===========================================>              (3 + 1) / 4]\r"
     ]
    },
    {
     "name": "stdout",
     "output_type": "stream",
     "text": [
      "+----+------+\n",
      "|Year| count|\n",
      "+----+------+\n",
      "|2022|350134|\n",
      "|2021|352446|\n",
      "+----+------+\n",
      "\n"
     ]
    },
    {
     "name": "stderr",
     "output_type": "stream",
     "text": [
      "                                                                                \r"
     ]
    }
   ],
   "source": [
    "#retrieve yearly amount of crimes sorted descendantly\n",
    "LDNCrime.select(substring(LDNCrime.Month, 1,4).alias('Year'), \"Month\")\\\n",
    ".groupby(\"Year\").count().show()"
   ]
  },
  {
   "cell_type": "markdown",
   "id": "5718fba0",
   "metadata": {
    "papermill": {
     "duration": 0.035424,
     "end_time": "2024-01-07T22:04:13.727006",
     "exception": false,
     "start_time": "2024-01-07T22:04:13.691582",
     "status": "completed"
    },
    "tags": []
   },
   "source": [
    "* Make a  line graph for each cities \n",
    "* piechart"
   ]
  },
  {
   "cell_type": "code",
   "execution_count": 12,
   "id": "6a6b8292",
   "metadata": {
    "execution": {
     "iopub.execute_input": "2024-01-07T22:04:13.779245Z",
     "iopub.status.busy": "2024-01-07T22:04:13.778251Z",
     "iopub.status.idle": "2024-01-07T22:04:15.661550Z",
     "shell.execute_reply": "2024-01-07T22:04:15.660298Z"
    },
    "papermill": {
     "duration": 1.913041,
     "end_time": "2024-01-07T22:04:15.665934",
     "exception": false,
     "start_time": "2024-01-07T22:04:13.752893",
     "status": "completed"
    },
    "tags": []
   },
   "outputs": [
    {
     "name": "stderr",
     "output_type": "stream",
     "text": [
      "                                                                                \r"
     ]
    },
    {
     "name": "stdout",
     "output_type": "stream",
     "text": [
      "+-----+-----+\n",
      "|Month|count|\n",
      "+-----+-----+\n",
      "|   05|63592|\n",
      "|   03|62076|\n",
      "|   08|61927|\n",
      "|   06|61927|\n",
      "|   07|61911|\n",
      "|   04|60715|\n",
      "|   11|58638|\n",
      "|   10|57100|\n",
      "|   09|56484|\n",
      "|   12|53229|\n",
      "|   02|52654|\n",
      "|   01|52327|\n",
      "+-----+-----+\n",
      "\n"
     ]
    }
   ],
   "source": [
    "#retrieve monthly amount of crimes (excluded year 2021) sorted descendantly\n",
    "LDNCrime.\\\n",
    "select(substring(LDNCrime.Month, 6,7)\\\n",
    "                                                          \\\n",
    "       .alias('Month'), LDNCrime.Month.\\\n",
    "                                                          \\\n",
    "       alias('MonthWithYear')).groupby(\"Month\").\\\n",
    "count().orderBy(desc(\"count\")).show()"
   ]
  },
  {
   "cell_type": "code",
   "execution_count": 13,
   "id": "8ee4e118",
   "metadata": {
    "execution": {
     "iopub.execute_input": "2024-01-07T22:04:15.728386Z",
     "iopub.status.busy": "2024-01-07T22:04:15.727810Z",
     "iopub.status.idle": "2024-01-07T22:04:15.799037Z",
     "shell.execute_reply": "2024-01-07T22:04:15.797688Z"
    },
    "papermill": {
     "duration": 0.1019,
     "end_time": "2024-01-07T22:04:15.802066",
     "exception": false,
     "start_time": "2024-01-07T22:04:15.700166",
     "status": "completed"
    },
    "tags": []
   },
   "outputs": [
    {
     "name": "stderr",
     "output_type": "stream",
     "text": [
      "/opt/conda/lib/python3.10/site-packages/pyspark/sql/dataframe.py:138: FutureWarning: Deprecated in 2.0, use createOrReplaceTempView instead.\n",
      "  warnings.warn(\n"
     ]
    }
   ],
   "source": [
    "#register temp tables \n",
    "LDNCrime.registerTempTable(\"tbl_LDNCrimes\")"
   ]
  },
  {
   "cell_type": "code",
   "execution_count": 14,
   "id": "7e9d4655",
   "metadata": {
    "execution": {
     "iopub.execute_input": "2024-01-07T22:04:15.845483Z",
     "iopub.status.busy": "2024-01-07T22:04:15.844253Z",
     "iopub.status.idle": "2024-01-07T22:04:16.143886Z",
     "shell.execute_reply": "2024-01-07T22:04:16.142305Z"
    },
    "papermill": {
     "duration": 0.325302,
     "end_time": "2024-01-07T22:04:16.147665",
     "exception": false,
     "start_time": "2024-01-07T22:04:15.822363",
     "status": "completed"
    },
    "tags": []
   },
   "outputs": [
    {
     "name": "stdout",
     "output_type": "stream",
     "text": [
      "+--------------------+-------+--------------------+--------------------+---------+---------+--------------------+---------+-----------------+--------------------+---------------------+-------+\n",
      "|            Crime_ID|  Month|         Reported_by|        Falls_within|Longitude| Latitude|            Location|LSOA_code|        LSOA_name|          Crime_type|Last_outcome_category|Context|\n",
      "+--------------------+-------+--------------------+--------------------+---------+---------+--------------------+---------+-----------------+--------------------+---------------------+-------+\n",
      "|669fa661520a6ef86...|2022-05|Nottinghamshire P...|Nottinghamshire P...|-1.375369|53.099579|On or near Priory...|E01019400|Amber Valley 001A|Violence and sexu...| Status update una...|   null|\n",
      "|                null|2022-05|Nottinghamshire P...|Nottinghamshire P...|-1.329291|53.021005|On or near Bridge...|E01019453|Amber Valley 017D|Anti-social behav...|                 null|   null|\n",
      "|                null|2022-05|Nottinghamshire P...|Nottinghamshire P...|-1.253677|53.141056|On or near Petrol...|E01027979|    Ashfield 001A|Anti-social behav...|                 null|   null|\n",
      "|                null|2022-05|Nottinghamshire P...|Nottinghamshire P...|-1.252344|53.142917|On or near Moorla...|E01027979|    Ashfield 001A|Anti-social behav...|                 null|   null|\n",
      "|                null|2022-05|Nottinghamshire P...|Nottinghamshire P...|-1.253677|53.141056|On or near Petrol...|E01027979|    Ashfield 001A|Anti-social behav...|                 null|   null|\n",
      "+--------------------+-------+--------------------+--------------------+---------+---------+--------------------+---------+-----------------+--------------------+---------------------+-------+\n",
      "only showing top 5 rows\n",
      "\n"
     ]
    }
   ],
   "source": [
    "sqlContext.sql(\"select * from tbl_LDNCrimes\").show(5)"
   ]
  },
  {
   "cell_type": "code",
   "execution_count": 15,
   "id": "9ac48e04",
   "metadata": {
    "execution": {
     "iopub.execute_input": "2024-01-07T22:04:16.200056Z",
     "iopub.status.busy": "2024-01-07T22:04:16.199425Z",
     "iopub.status.idle": "2024-01-07T22:04:18.947701Z",
     "shell.execute_reply": "2024-01-07T22:04:18.946337Z"
    },
    "papermill": {
     "duration": 2.773346,
     "end_time": "2024-01-07T22:04:18.951305",
     "exception": false,
     "start_time": "2024-01-07T22:04:16.177959",
     "status": "completed"
    },
    "tags": []
   },
   "outputs": [
    {
     "name": "stderr",
     "output_type": "stream",
     "text": [
      "[Stage 17:===========================================>              (3 + 1) / 4]\r"
     ]
    },
    {
     "name": "stdout",
     "output_type": "stream",
     "text": [
      "+--------------------+-------+--------------------+--------------------+---------+---------+--------------------+---------+-----------------+--------------------+---------------------+-------+\n",
      "|            Crime_ID|  Month|         Reported_by|        Falls_within|Longitude| Latitude|            Location|LSOA_code|        LSOA_name|          Crime_type|Last_outcome_category|Context|\n",
      "+--------------------+-------+--------------------+--------------------+---------+---------+--------------------+---------+-----------------+--------------------+---------------------+-------+\n",
      "|                null|2022-12|Derbyshire Consta...|Derbyshire Consta...|-1.385408|53.098319|         On or near |E01019401|Amber Valley 001B|Anti-social behav...|                 null|   null|\n",
      "|b8220bd4b1a42f974...|2022-12|Derbyshire Consta...|Derbyshire Consta...|-1.373886|53.099904|On or near Cather...|E01019400|Amber Valley 001A|Violence and sexu...| Status update una...|   null|\n",
      "|                null|2022-12|Derbyshire Consta...|Derbyshire Consta...|-1.392179|53.097949|On or near Church...|E01019401|Amber Valley 001B|Anti-social behav...|                 null|   null|\n",
      "|618014f6432291c01...|2022-12|Derbyshire Consta...|Derbyshire Consta...|-1.375754|53.098772|On or near Mansfi...|E01019400|Amber Valley 001A|Violence and sexu...| Unable to prosecu...|   null|\n",
      "|05451b97f61842b93...|2022-12|Derbyshire Consta...|Derbyshire Consta...| -1.37336|53.097025|On or near Milton...|E01019400|Amber Valley 001A|Violence and sexu...|     Local resolution|   null|\n",
      "|b671a0b54d89b23b8...|2022-12|Derbyshire Consta...|Derbyshire Consta...|-1.376268|53.100411|On or near Morewo...|E01019400|Amber Valley 001A|Violence and sexu...| Unable to prosecu...|   null|\n",
      "|                null|2022-12|Derbyshire Consta...|Derbyshire Consta...|-1.391112|53.095265|On or near King S...|E01019401|Amber Valley 001B|Anti-social behav...|                 null|   null|\n",
      "|                null|2022-12|Derbyshire Consta...|Derbyshire Consta...|-1.374915|53.103055|On or near Tavist...|E01019400|Amber Valley 001A|Anti-social behav...|                 null|   null|\n",
      "|68900a8627e334212...|2022-12|Derbyshire Consta...|Derbyshire Consta...|-1.376936|53.098607|On or near Mansfi...|E01019400|Amber Valley 001A|Violence and sexu...| Awaiting court ou...|   null|\n",
      "|5c11f381665858d57...|2022-12|Derbyshire Consta...|Derbyshire Consta...|-1.375754|53.098772|On or near Mansfi...|E01019400|Amber Valley 001A|Violence and sexu...| Unable to prosecu...|   null|\n",
      "|558cbd7fceb93c5bf...|2022-12|Derbyshire Consta...|Derbyshire Consta...|-1.375754|53.098772|On or near Mansfi...|E01019400|Amber Valley 001A|Violence and sexu...| Unable to prosecu...|   null|\n",
      "|ea227b02f6a7a13ca...|2022-12|Derbyshire Consta...|Derbyshire Consta...|-1.376936|53.098607|On or near Mansfi...|E01019400|Amber Valley 001A|Violence and sexu...| Awaiting court ou...|   null|\n",
      "|67d0433438fe208ce...|2022-12|Derbyshire Consta...|Derbyshire Consta...|-1.373582| 53.09921|On or near Cather...|E01019400|Amber Valley 001A|Violence and sexu...| Investigation com...|   null|\n",
      "|                null|2022-12|Derbyshire Consta...|Derbyshire Consta...|-1.387788|53.095721|         On or near |E01019401|Amber Valley 001B|Anti-social behav...|                 null|   null|\n",
      "|                null|2022-12|Derbyshire Consta...|Derbyshire Consta...| -1.38956|53.096219|         On or near |E01019401|Amber Valley 001B|Anti-social behav...|                 null|   null|\n",
      "|                null|2022-12|Derbyshire Consta...|Derbyshire Consta...|-1.373582| 53.09921|On or near Cather...|E01019400|Amber Valley 001A|Anti-social behav...|                 null|   null|\n",
      "|                null|2022-12|Derbyshire Consta...|Derbyshire Consta...| -1.38956|53.096219|         On or near |E01019401|Amber Valley 001B|Anti-social behav...|                 null|   null|\n",
      "|cd413e32ef7443868...|2022-12|Derbyshire Consta...|Derbyshire Consta...|-1.375384|53.099561|On or near Priory...|E01019400|Amber Valley 001A|       Vehicle crime| Investigation com...|   null|\n",
      "|6c26d7c549794c2d5...|2022-12|Derbyshire Consta...|Derbyshire Consta...|-1.376936|53.098607|On or near Mansfi...|E01019400|Amber Valley 001A|Violence and sexu...| Awaiting court ou...|   null|\n",
      "|e7f4b27dbc25ee1b5...|2022-12|Derbyshire Consta...|Derbyshire Consta...|-1.376765|53.099065|On or near Parkin...|E01019400|Amber Valley 001A|Violence and sexu...| Investigation com...|   null|\n",
      "+--------------------+-------+--------------------+--------------------+---------+---------+--------------------+---------+-----------------+--------------------+---------------------+-------+\n",
      "only showing top 20 rows\n",
      "\n"
     ]
    },
    {
     "name": "stderr",
     "output_type": "stream",
     "text": [
      "                                                                                \r"
     ]
    }
   ],
   "source": [
    "#retreive monthly crime amount and order by total in descending order\n",
    "sqlContext.sql(\"select * from tbl_LDNCrimes order by Month desc\").show()"
   ]
  },
  {
   "cell_type": "code",
   "execution_count": 16,
   "id": "e1cba938",
   "metadata": {
    "execution": {
     "iopub.execute_input": "2024-01-07T22:04:19.021328Z",
     "iopub.status.busy": "2024-01-07T22:04:19.020744Z",
     "iopub.status.idle": "2024-01-07T22:04:19.052272Z",
     "shell.execute_reply": "2024-01-07T22:04:19.050858Z"
    },
    "papermill": {
     "duration": 0.07078,
     "end_time": "2024-01-07T22:04:19.056426",
     "exception": false,
     "start_time": "2024-01-07T22:04:18.985646",
     "status": "completed"
    },
    "tags": []
   },
   "outputs": [],
   "source": [
    "# Create new dataframe with Month and Counts per Month\n",
    "LDNCrime_temp = LDNCrime.select(LDNCrime.Month)\\\n",
    ".groupby(LDNCrime.Month).count()"
   ]
  },
  {
   "cell_type": "code",
   "execution_count": 17,
   "id": "39597704",
   "metadata": {
    "execution": {
     "iopub.execute_input": "2024-01-07T22:04:19.123498Z",
     "iopub.status.busy": "2024-01-07T22:04:19.122897Z",
     "iopub.status.idle": "2024-01-07T22:04:20.546430Z",
     "shell.execute_reply": "2024-01-07T22:04:20.545295Z"
    },
    "papermill": {
     "duration": 1.46094,
     "end_time": "2024-01-07T22:04:20.550406",
     "exception": false,
     "start_time": "2024-01-07T22:04:19.089466",
     "status": "completed"
    },
    "tags": []
   },
   "outputs": [
    {
     "name": "stderr",
     "output_type": "stream",
     "text": [
      "[Stage 18:=============================>                            (2 + 2) / 4]\r"
     ]
    },
    {
     "name": "stdout",
     "output_type": "stream",
     "text": [
      "+-------+-----+\n",
      "|  Month|count|\n",
      "+-------+-----+\n",
      "|2022-12|26183|\n",
      "|2022-11|29547|\n",
      "|2022-10|28515|\n",
      "|2022-09|26870|\n",
      "|2022-08|31867|\n",
      "|2022-07|29625|\n",
      "|2022-06|28952|\n",
      "|2022-05|32872|\n",
      "|2022-04|30723|\n",
      "|2022-03|31359|\n",
      "|2022-02|27338|\n",
      "|2022-01|26283|\n",
      "|2021-12|27046|\n",
      "|2021-11|29091|\n",
      "|2021-10|28585|\n",
      "|2021-09|29614|\n",
      "|2021-08|30060|\n",
      "|2021-07|32286|\n",
      "|2021-06|32975|\n",
      "|2021-05|30720|\n",
      "+-------+-----+\n",
      "only showing top 20 rows\n",
      "\n"
     ]
    },
    {
     "name": "stderr",
     "output_type": "stream",
     "text": [
      "                                                                                \r"
     ]
    }
   ],
   "source": [
    "LDNCrime_temp.orderBy(desc(\"Month\")).show()"
   ]
  },
  {
   "cell_type": "code",
   "execution_count": 18,
   "id": "e0ac9cb3",
   "metadata": {
    "execution": {
     "iopub.execute_input": "2024-01-07T22:04:20.593041Z",
     "iopub.status.busy": "2024-01-07T22:04:20.592633Z",
     "iopub.status.idle": "2024-01-07T22:04:20.609781Z",
     "shell.execute_reply": "2024-01-07T22:04:20.608350Z"
    },
    "papermill": {
     "duration": 0.042301,
     "end_time": "2024-01-07T22:04:20.612476",
     "exception": false,
     "start_time": "2024-01-07T22:04:20.570175",
     "status": "completed"
    },
    "tags": []
   },
   "outputs": [],
   "source": [
    "LDNCrime_temp.registerTempTable(\"tbl_LDNCrime_temp\")"
   ]
  },
  {
   "cell_type": "code",
   "execution_count": 19,
   "id": "c1b0e3aa",
   "metadata": {
    "execution": {
     "iopub.execute_input": "2024-01-07T22:04:20.657835Z",
     "iopub.status.busy": "2024-01-07T22:04:20.657132Z",
     "iopub.status.idle": "2024-01-07T22:04:20.751468Z",
     "shell.execute_reply": "2024-01-07T22:04:20.750249Z"
    },
    "papermill": {
     "duration": 0.121248,
     "end_time": "2024-01-07T22:04:20.755602",
     "exception": false,
     "start_time": "2024-01-07T22:04:20.634354",
     "status": "completed"
    },
    "tags": []
   },
   "outputs": [],
   "source": [
    "# Create new dataframe with month, total, and averages\n",
    "monthlyCrimeAmount = sqlContext.\\\n",
    "sql(\"select substring(Month, 6, 2) as Month, \\\n",
    "SUM(count) as Total, avg(count) as \\\n",
    "Average from tbl_LDNCrime_temp group by substring(Month, 6, 2)\")"
   ]
  },
  {
   "cell_type": "code",
   "execution_count": 20,
   "id": "24422d5d",
   "metadata": {
    "execution": {
     "iopub.execute_input": "2024-01-07T22:04:20.822774Z",
     "iopub.status.busy": "2024-01-07T22:04:20.821547Z",
     "iopub.status.idle": "2024-01-07T22:04:20.841656Z",
     "shell.execute_reply": "2024-01-07T22:04:20.840459Z"
    },
    "papermill": {
     "duration": 0.057504,
     "end_time": "2024-01-07T22:04:20.845333",
     "exception": false,
     "start_time": "2024-01-07T22:04:20.787829",
     "status": "completed"
    },
    "tags": []
   },
   "outputs": [],
   "source": [
    "monthlyCrimeAmountnew = monthlyCrimeAmount.orderBy('Month')"
   ]
  },
  {
   "cell_type": "code",
   "execution_count": 21,
   "id": "d2348b71",
   "metadata": {
    "execution": {
     "iopub.execute_input": "2024-01-07T22:04:20.912205Z",
     "iopub.status.busy": "2024-01-07T22:04:20.910942Z",
     "iopub.status.idle": "2024-01-07T22:04:22.933826Z",
     "shell.execute_reply": "2024-01-07T22:04:22.932537Z"
    },
    "papermill": {
     "duration": 2.062695,
     "end_time": "2024-01-07T22:04:22.938790",
     "exception": false,
     "start_time": "2024-01-07T22:04:20.876095",
     "status": "completed"
    },
    "tags": []
   },
   "outputs": [
    {
     "name": "stderr",
     "output_type": "stream",
     "text": [
      "[Stage 21:===========================================>              (3 + 1) / 4]\r"
     ]
    },
    {
     "name": "stdout",
     "output_type": "stream",
     "text": [
      "+-----+-----+-------+\n",
      "|Month|Total|Average|\n",
      "+-----+-----+-------+\n",
      "|   01|52327|26163.5|\n",
      "|   02|52654|26327.0|\n",
      "|   03|62076|31038.0|\n",
      "|   04|60715|30357.5|\n",
      "|   05|63592|31796.0|\n",
      "|   06|61927|30963.5|\n",
      "|   07|61911|30955.5|\n",
      "|   08|61927|30963.5|\n",
      "|   09|56484|28242.0|\n",
      "|   10|57100|28550.0|\n",
      "|   11|58638|29319.0|\n",
      "|   12|53229|26614.5|\n",
      "+-----+-----+-------+\n",
      "\n"
     ]
    },
    {
     "name": "stderr",
     "output_type": "stream",
     "text": [
      "                                                                                \r"
     ]
    }
   ],
   "source": [
    "monthlyCrimeAmountnew.show()"
   ]
  },
  {
   "cell_type": "code",
   "execution_count": 22,
   "id": "5d17d3d3",
   "metadata": {
    "execution": {
     "iopub.execute_input": "2024-01-07T22:04:22.985051Z",
     "iopub.status.busy": "2024-01-07T22:04:22.984668Z",
     "iopub.status.idle": "2024-01-07T22:04:24.678095Z",
     "shell.execute_reply": "2024-01-07T22:04:24.676967Z"
    },
    "papermill": {
     "duration": 1.722589,
     "end_time": "2024-01-07T22:04:24.683027",
     "exception": false,
     "start_time": "2024-01-07T22:04:22.960438",
     "status": "completed"
    },
    "tags": []
   },
   "outputs": [
    {
     "name": "stderr",
     "output_type": "stream",
     "text": [
      "[Stage 27:===========================================>              (3 + 1) / 4]\r"
     ]
    },
    {
     "name": "stdout",
     "output_type": "stream",
     "text": [
      "+-----+-----+-------+\n",
      "|Month|Total|Average|\n",
      "+-----+-----+-------+\n",
      "|   01|52327|26163.5|\n",
      "|   02|52654|26327.0|\n",
      "|   03|62076|31038.0|\n",
      "|   04|60715|30357.5|\n",
      "|   05|63592|31796.0|\n",
      "|   06|61927|30963.5|\n",
      "|   07|61911|30955.5|\n",
      "|   08|61927|30963.5|\n",
      "|   09|56484|28242.0|\n",
      "|   10|57100|28550.0|\n",
      "|   11|58638|29319.0|\n",
      "|   12|53229|26614.5|\n",
      "+-----+-----+-------+\n",
      "\n"
     ]
    },
    {
     "name": "stderr",
     "output_type": "stream",
     "text": [
      "                                                                                \r"
     ]
    }
   ],
   "source": [
    "# Register the monthlyCrimeAmount \n",
    "# DataFrame as a temp table and show the contents\n",
    "monthlyCrimeAmountnew.registerTempTable(\"monthlyCrimeAmount\")\n",
    "sqlContext.sql(\"select * from monthlyCrimeAmount\").show()"
   ]
  },
  {
   "cell_type": "code",
   "execution_count": 23,
   "id": "ab4edeaf",
   "metadata": {
    "execution": {
     "iopub.execute_input": "2024-01-07T22:04:24.732416Z",
     "iopub.status.busy": "2024-01-07T22:04:24.732017Z",
     "iopub.status.idle": "2024-01-07T22:04:31.692163Z",
     "shell.execute_reply": "2024-01-07T22:04:31.690974Z"
    },
    "papermill": {
     "duration": 6.985648,
     "end_time": "2024-01-07T22:04:31.696283",
     "exception": false,
     "start_time": "2024-01-07T22:04:24.710635",
     "status": "completed"
    },
    "tags": []
   },
   "outputs": [
    {
     "name": "stderr",
     "output_type": "stream",
     "text": [
      "                                                                                \r"
     ]
    }
   ],
   "source": [
    "# Prepare variables for visualisations\n",
    "\n",
    "monthArray = sqlContext.sql(\"select Month from monthlyCrimeAmount\")\\\n",
    ".rdd.map(lambda f:f[0]).collect()\n",
    "monthTotalArray = sqlContext.sql(\"select Total from monthlyCrimeAmount\")\\\n",
    ".rdd.map(lambda f:f[0]).collect()\n",
    "monthAvgArray = sqlContext.sql(\"select Average from monthlyCrimeAmount\")\\\n",
    ".rdd.map(lambda f:f[0]).collect()"
   ]
  },
  {
   "cell_type": "code",
   "execution_count": 24,
   "id": "1c71f5b1",
   "metadata": {
    "execution": {
     "iopub.execute_input": "2024-01-07T22:04:31.744759Z",
     "iopub.status.busy": "2024-01-07T22:04:31.744388Z",
     "iopub.status.idle": "2024-01-07T22:04:32.479766Z",
     "shell.execute_reply": "2024-01-07T22:04:32.478023Z"
    },
    "papermill": {
     "duration": 0.760983,
     "end_time": "2024-01-07T22:04:32.482507",
     "exception": false,
     "start_time": "2024-01-07T22:04:31.721524",
     "status": "completed"
    },
    "tags": []
   },
   "outputs": [
    {
     "data": {
      "image/png": "[encoded data removed]",
      "text/plain": [
       "<Figure size 640x480 with 2 Axes>"
      ]
     },
     "metadata": {},
     "output_type": "display_data"
    }
   ],
   "source": [
    "# Plot visualisations\n",
    "\n",
    "import matplotlib.pyplot as plt\n",
    "import numpy as np\n",
    "\n",
    "y = monthArray\n",
    "t = monthTotalArray\n",
    "a = monthAvgArray\n",
    "\n",
    "plt.subplot(2, 1, 1)\n",
    "plt.plot(y, t, 'o-')\n",
    "plt.title('Crime amount by month')\n",
    "plt.ylabel('Cumulate (month)')\n",
    "plt.grid(True)\n",
    "\n",
    "plt.subplot(2, 1, 2)\n",
    "plt.plot(y, a, '.-')\n",
    "plt.xlabel('Year')\n",
    "plt.ylabel('Average (month)')\n",
    "plt.grid(True)\n",
    "plt.savefig(\"yearlyCrimeAmount.png\")"
   ]
  },
  {
   "cell_type": "code",
   "execution_count": 25,
   "id": "b99c3aff",
   "metadata": {
    "execution": {
     "iopub.execute_input": "2024-01-07T22:04:32.531527Z",
     "iopub.status.busy": "2024-01-07T22:04:32.531093Z",
     "iopub.status.idle": "2024-01-07T22:04:32.565559Z",
     "shell.execute_reply": "2024-01-07T22:04:32.564347Z"
    },
    "papermill": {
     "duration": 0.062423,
     "end_time": "2024-01-07T22:04:32.569578",
     "exception": false,
     "start_time": "2024-01-07T22:04:32.507155",
     "status": "completed"
    },
    "tags": []
   },
   "outputs": [],
   "source": [
    "# Create dataframe to retrieve information by year (total and average)plt.show()\n",
    "yearlyCrimeAmount = sqlContext.sql(\"select substring(Month, 0, 4) \\\n",
    "as Year, SUM(count) as Total, avg(count) as Average from \\\n",
    "tbl_LDNCrime_temp group by substring(Month, 0, 4)\")"
   ]
  },
  {
   "cell_type": "code",
   "execution_count": 26,
   "id": "b37d6bb2",
   "metadata": {
    "execution": {
     "iopub.execute_input": "2024-01-07T22:04:32.625360Z",
     "iopub.status.busy": "2024-01-07T22:04:32.624293Z",
     "iopub.status.idle": "2024-01-07T22:04:32.634285Z",
     "shell.execute_reply": "2024-01-07T22:04:32.633427Z"
    },
    "papermill": {
     "duration": 0.037801,
     "end_time": "2024-01-07T22:04:32.636655",
     "exception": false,
     "start_time": "2024-01-07T22:04:32.598854",
     "status": "completed"
    },
    "tags": []
   },
   "outputs": [
    {
     "data": {
      "text/plain": [
       "DataFrame[Year: string, Total: bigint, Average: double]"
      ]
     },
     "execution_count": 26,
     "metadata": {},
     "output_type": "execute_result"
    }
   ],
   "source": [
    "yearlyCrimeAmount"
   ]
  },
  {
   "cell_type": "code",
   "execution_count": 27,
   "id": "85f975ec",
   "metadata": {
    "execution": {
     "iopub.execute_input": "2024-01-07T22:04:32.687777Z",
     "iopub.status.busy": "2024-01-07T22:04:32.687102Z",
     "iopub.status.idle": "2024-01-07T22:04:34.200207Z",
     "shell.execute_reply": "2024-01-07T22:04:34.198623Z"
    },
    "papermill": {
     "duration": 1.543568,
     "end_time": "2024-01-07T22:04:34.204206",
     "exception": false,
     "start_time": "2024-01-07T22:04:32.660638",
     "status": "completed"
    },
    "tags": []
   },
   "outputs": [
    {
     "name": "stderr",
     "output_type": "stream",
     "text": [
      "[Stage 67:===========================================>              (3 + 1) / 4]\r"
     ]
    },
    {
     "name": "stdout",
     "output_type": "stream",
     "text": [
      "+----+------+------------------+\n",
      "|Year| Total|           Average|\n",
      "+----+------+------------------+\n",
      "|2022|350134|29177.833333333332|\n",
      "|2021|352446|           29370.5|\n",
      "+----+------+------------------+\n",
      "\n"
     ]
    },
    {
     "name": "stderr",
     "output_type": "stream",
     "text": [
      "                                                                                \r"
     ]
    }
   ],
   "source": [
    "yearlyCrimeAmount.show()"
   ]
  },
  {
   "cell_type": "code",
   "execution_count": 28,
   "id": "d15a924e",
   "metadata": {
    "execution": {
     "iopub.execute_input": "2024-01-07T22:04:34.272487Z",
     "iopub.status.busy": "2024-01-07T22:04:34.271908Z",
     "iopub.status.idle": "2024-01-07T22:04:35.773977Z",
     "shell.execute_reply": "2024-01-07T22:04:35.772605Z"
    },
    "papermill": {
     "duration": 1.539555,
     "end_time": "2024-01-07T22:04:35.781185",
     "exception": false,
     "start_time": "2024-01-07T22:04:34.241630",
     "status": "completed"
    },
    "tags": []
   },
   "outputs": [
    {
     "name": "stderr",
     "output_type": "stream",
     "text": [
      "[Stage 73:===========================================>              (3 + 1) / 4]\r"
     ]
    },
    {
     "name": "stdout",
     "output_type": "stream",
     "text": [
      "+----+------+------------------+\n",
      "|Year| Total|           Average|\n",
      "+----+------+------------------+\n",
      "|2022|350134|29177.833333333332|\n",
      "|2021|352446|           29370.5|\n",
      "+----+------+------------------+\n",
      "\n"
     ]
    },
    {
     "name": "stderr",
     "output_type": "stream",
     "text": [
      "                                                                                \r"
     ]
    }
   ],
   "source": [
    "yearlyCrimeAmount.registerTempTable(\"yearlyCrimeAmount\")\n",
    "sqlContext.sql(\"select * from yearlyCrimeAmount\").show()"
   ]
  },
  {
   "cell_type": "code",
   "execution_count": 29,
   "id": "c094aa38",
   "metadata": {
    "execution": {
     "iopub.execute_input": "2024-01-07T22:04:35.858992Z",
     "iopub.status.busy": "2024-01-07T22:04:35.858516Z",
     "iopub.status.idle": "2024-01-07T22:04:41.007798Z",
     "shell.execute_reply": "2024-01-07T22:04:41.006506Z"
    },
    "papermill": {
     "duration": 5.191863,
     "end_time": "2024-01-07T22:04:41.011553",
     "exception": false,
     "start_time": "2024-01-07T22:04:35.819690",
     "status": "completed"
    },
    "tags": []
   },
   "outputs": [
    {
     "name": "stderr",
     "output_type": "stream",
     "text": [
      "                                                                                \r"
     ]
    }
   ],
   "source": [
    "# Prepare variables for visualisations\n",
    "\n",
    "totalArray = sqlContext.sql(\"select Total from yearlyCrimeAmount\")\\\n",
    ".rdd.map(lambda f:f[0]).collect()\n",
    "yearArray = sqlContext.sql(\"select Year from yearlyCrimeAmount\")\\\n",
    ".rdd.map(lambda f:f[0]).collect()\n",
    "averageArray = sqlContext.sql(\"select Average from yearlyCrimeAmount\")\\\n",
    ".rdd.map(lambda f:f[0]).collect()"
   ]
  },
  {
   "cell_type": "code",
   "execution_count": 30,
   "id": "cbfacfff",
   "metadata": {
    "execution": {
     "iopub.execute_input": "2024-01-07T22:04:41.072457Z",
     "iopub.status.busy": "2024-01-07T22:04:41.072026Z",
     "iopub.status.idle": "2024-01-07T22:04:41.550161Z",
     "shell.execute_reply": "2024-01-07T22:04:41.549272Z"
    },
    "papermill": {
     "duration": 0.506431,
     "end_time": "2024-01-07T22:04:41.553019",
     "exception": false,
     "start_time": "2024-01-07T22:04:41.046588",
     "status": "completed"
    },
    "tags": []
   },
   "outputs": [
    {
     "data": {
      "image/png": "[encoded data removed]",
      "text/plain": [
       "<Figure size 640x480 with 2 Axes>"
      ]
     },
     "metadata": {},
     "output_type": "display_data"
    }
   ],
   "source": [
    "# Plot visualisations\n",
    "import matplotlib.pyplot as plt\n",
    "import numpy as np\n",
    "\n",
    "y = yearArray\n",
    "t = totalArray\n",
    "a = averageArray\n",
    "\n",
    "plt.subplot(2, 1, 1)\n",
    "plt.plot(y, t, 'o-')\n",
    "plt.title('Crime amount by year (2021-01 to 2022-12)')\n",
    "plt.ylabel('Cumulate (year)')\n",
    "plt.grid(True)\n",
    "\n",
    "plt.subplot(2, 1, 2)\n",
    "plt.plot(y, a, '.-')\n",
    "plt.xlabel('Year')\n",
    "plt.ylabel('Average (Year)')\n",
    "plt.grid(True)\n",
    "plt.savefig(\"yearlyCrimeAmount.png\")\n",
    "plt.show()"
   ]
  },
  {
   "cell_type": "code",
   "execution_count": 31,
   "id": "73133682",
   "metadata": {
    "execution": {
     "iopub.execute_input": "2024-01-07T22:04:41.608449Z",
     "iopub.status.busy": "2024-01-07T22:04:41.607564Z",
     "iopub.status.idle": "2024-01-07T22:04:42.898845Z",
     "shell.execute_reply": "2024-01-07T22:04:42.897430Z"
    },
    "papermill": {
     "duration": 1.323126,
     "end_time": "2024-01-07T22:04:42.902821",
     "exception": false,
     "start_time": "2024-01-07T22:04:41.579695",
     "status": "completed"
    },
    "tags": []
   },
   "outputs": [
    {
     "name": "stderr",
     "output_type": "stream",
     "text": [
      "[Stage 94:=============================>                            (2 + 2) / 4]\r"
     ]
    },
    {
     "name": "stdout",
     "output_type": "stream",
     "text": [
      "+-------+----+-----+\n",
      "|  Month|Year|Count|\n",
      "+-------+----+-----+\n",
      "|2021-07|2021|32286|\n",
      "|2022-04|2022|30723|\n",
      "|2021-04|2021|29992|\n",
      "|2021-06|2021|32975|\n",
      "|2022-02|2022|27338|\n",
      "|2022-08|2022|31867|\n",
      "|2021-11|2021|29091|\n",
      "|2021-03|2021|30717|\n",
      "|2022-11|2022|29547|\n",
      "|2021-05|2021|30720|\n",
      "|2022-03|2022|31359|\n",
      "|2022-05|2022|32872|\n",
      "|2021-08|2021|30060|\n",
      "|2021-09|2021|29614|\n",
      "|2022-06|2022|28952|\n",
      "|2022-07|2022|29625|\n",
      "|2021-10|2021|28585|\n",
      "|2021-12|2021|27046|\n",
      "|2022-10|2022|28515|\n",
      "|2022-09|2022|26870|\n",
      "+-------+----+-----+\n",
      "only showing top 20 rows\n",
      "\n"
     ]
    },
    {
     "name": "stderr",
     "output_type": "stream",
     "text": [
      "                                                                                \r"
     ]
    }
   ],
   "source": [
    "sqlContext.sql(\"select Month, substring(Month, 0, 4) \\\n",
    "as Year, count(*) as Count from tbl_LDNCrimes group by Month\").show()"
   ]
  },
  {
   "cell_type": "code",
   "execution_count": 32,
   "id": "ddd105df",
   "metadata": {
    "execution": {
     "iopub.execute_input": "2024-01-07T22:04:42.983307Z",
     "iopub.status.busy": "2024-01-07T22:04:42.982765Z",
     "iopub.status.idle": "2024-01-07T22:04:43.001866Z",
     "shell.execute_reply": "2024-01-07T22:04:43.000400Z"
    },
    "papermill": {
     "duration": 0.060632,
     "end_time": "2024-01-07T22:04:43.006069",
     "exception": false,
     "start_time": "2024-01-07T22:04:42.945437",
     "status": "completed"
    },
    "tags": []
   },
   "outputs": [],
   "source": [
    "LDNCrime.registerTempTable(\"tbl_LDNCrime_type\")"
   ]
  },
  {
   "cell_type": "code",
   "execution_count": 33,
   "id": "d6b6c3a2",
   "metadata": {
    "execution": {
     "iopub.execute_input": "2024-01-07T22:04:43.063500Z",
     "iopub.status.busy": "2024-01-07T22:04:43.063060Z",
     "iopub.status.idle": "2024-01-07T22:04:43.082539Z",
     "shell.execute_reply": "2024-01-07T22:04:43.081242Z"
    },
    "papermill": {
     "duration": 0.051512,
     "end_time": "2024-01-07T22:04:43.085897",
     "exception": false,
     "start_time": "2024-01-07T22:04:43.034385",
     "status": "completed"
    },
    "tags": []
   },
   "outputs": [],
   "source": [
    "CrimeTypes = sqlContext.sql(\"select Crime_type, Month, \\\n",
    "substring(Month, 0, 4) as Year,\\\n",
    "count(*) as Count from tbl_LDNCrime_type group by Month, Crime_type\")"
   ]
  },
  {
   "cell_type": "code",
   "execution_count": 34,
   "id": "17132ce8",
   "metadata": {
    "execution": {
     "iopub.execute_input": "2024-01-07T22:04:43.156511Z",
     "iopub.status.busy": "2024-01-07T22:04:43.156099Z",
     "iopub.status.idle": "2024-01-07T22:04:45.087584Z",
     "shell.execute_reply": "2024-01-07T22:04:45.086308Z"
    },
    "papermill": {
     "duration": 1.964858,
     "end_time": "2024-01-07T22:04:45.093182",
     "exception": false,
     "start_time": "2024-01-07T22:04:43.128324",
     "status": "completed"
    },
    "tags": []
   },
   "outputs": [
    {
     "name": "stderr",
     "output_type": "stream",
     "text": [
      "[Stage 97:===========================================>              (3 + 1) / 4]\r"
     ]
    },
    {
     "name": "stdout",
     "output_type": "stream",
     "text": [
      "+--------------------+-------+----+-----+\n",
      "|          Crime_type|  Month|Year|Count|\n",
      "+--------------------+-------+----+-----+\n",
      "|Anti-social behav...|2022-03|2022| 5644|\n",
      "|         Shoplifting|2022-11|2022| 1711|\n",
      "|         Other theft|2022-02|2022| 1832|\n",
      "|Anti-social behav...|2021-04|2021| 7886|\n",
      "|Possession of wea...|2021-08|2021|  261|\n",
      "|Possession of wea...|2022-05|2022|  282|\n",
      "|             Robbery|2021-05|2021|  193|\n",
      "|Criminal damage a...|2021-03|2021| 2409|\n",
      "|               Drugs|2021-07|2021|  783|\n",
      "|       Bicycle theft|2021-11|2021|  349|\n",
      "|Violence and sexu...|2021-04|2021| 9494|\n",
      "|Violence and sexu...|2021-07|2021|11138|\n",
      "|             Robbery|2021-07|2021|  199|\n",
      "|Possession of wea...|2021-06|2021|  229|\n",
      "|Criminal damage a...|2022-08|2022| 2754|\n",
      "|Possession of wea...|2021-07|2021|  252|\n",
      "|        Public order|2021-05|2021| 2778|\n",
      "|Theft from the pe...|2022-05|2022|  263|\n",
      "|Violence and sexu...|2022-04|2022|10114|\n",
      "|         Other crime|2021-11|2021|  572|\n",
      "+--------------------+-------+----+-----+\n",
      "only showing top 20 rows\n",
      "\n"
     ]
    },
    {
     "name": "stderr",
     "output_type": "stream",
     "text": [
      "                                                                                \r"
     ]
    }
   ],
   "source": [
    "CrimeTypes.show()"
   ]
  },
  {
   "cell_type": "code",
   "execution_count": 35,
   "id": "2f04fa05",
   "metadata": {
    "execution": {
     "iopub.execute_input": "2024-01-07T22:04:45.180445Z",
     "iopub.status.busy": "2024-01-07T22:04:45.179209Z",
     "iopub.status.idle": "2024-01-07T22:04:45.199549Z",
     "shell.execute_reply": "2024-01-07T22:04:45.198343Z"
    },
    "papermill": {
     "duration": 0.067992,
     "end_time": "2024-01-07T22:04:45.203068",
     "exception": false,
     "start_time": "2024-01-07T22:04:45.135076",
     "status": "completed"
    },
    "tags": []
   },
   "outputs": [],
   "source": [
    "# Explore Crime Types per year/month\n",
    "\n",
    "CrimeTypesGeo = sqlContext.sql(\"select Crime_type, Month, \\\n",
    "substring(Month, 0, 4) as Year, Latitude, Longitude, \\\n",
    "count(*) as Count from tbl_LDNCrime_type group by Month, \\\n",
    "Crime_type, Latitude, Longitude\")"
   ]
  },
  {
   "cell_type": "code",
   "execution_count": 36,
   "id": "c31a2fbf",
   "metadata": {
    "execution": {
     "iopub.execute_input": "2024-01-07T22:04:45.286311Z",
     "iopub.status.busy": "2024-01-07T22:04:45.285762Z",
     "iopub.status.idle": "2024-01-07T22:04:49.158121Z",
     "shell.execute_reply": "2024-01-07T22:04:49.156243Z"
    },
    "papermill": {
     "duration": 3.91796,
     "end_time": "2024-01-07T22:04:49.163411",
     "exception": false,
     "start_time": "2024-01-07T22:04:45.245451",
     "status": "completed"
    },
    "tags": []
   },
   "outputs": [
    {
     "name": "stderr",
     "output_type": "stream",
     "text": [
      "[Stage 100:==========================================>              (3 + 1) / 4]\r"
     ]
    },
    {
     "name": "stdout",
     "output_type": "stream",
     "text": [
      "+--------------------+-------+----+---------+---------+-----+\n",
      "|          Crime_type|  Month|Year| Latitude|Longitude|Count|\n",
      "+--------------------+-------+----+---------+---------+-----+\n",
      "|Violence and sexu...|2022-05|2022|53.141122|  -1.2761|    1|\n",
      "|Criminal damage a...|2022-05|2022|53.132636|-1.258456|    1|\n",
      "|Anti-social behav...|2022-05|2022|53.126363|-1.308015|    1|\n",
      "|Violence and sexu...|2022-05|2022| 53.13333|-1.312746|    1|\n",
      "|Violence and sexu...|2022-05|2022|53.117411|-1.258913|    3|\n",
      "|        Public order|2022-05|2022|53.099269|-1.247172|    1|\n",
      "|Violence and sexu...|2022-05|2022|53.105661|-1.254335|    1|\n",
      "|         Other theft|2022-05|2022|53.037324| -1.21383|    1|\n",
      "|Criminal damage a...|2022-05|2022|53.027406|-1.222971|    1|\n",
      "|Possession of wea...|2022-05|2022| 53.38811|-1.063685|    1|\n",
      "|         Other crime|2022-05|2022|53.379513|-1.128485|    1|\n",
      "|Criminal damage a...|2022-05|2022|53.320815| -0.94171|    1|\n",
      "|Criminal damage a...|2022-05|2022|53.285367|-1.103672|    1|\n",
      "|Violence and sexu...|2022-05|2022|52.997421|-1.247275|    1|\n",
      "|Violence and sexu...|2022-05|2022|53.000018|-1.252892|    4|\n",
      "|        Public order|2022-05|2022|52.933672| -1.24368|    1|\n",
      "|       Bicycle theft|2022-05|2022|52.933099|-1.268491|    1|\n",
      "|         Shoplifting|2022-05|2022|52.921408|-1.237661|    1|\n",
      "|Violence and sexu...|2022-05|2022|52.906415|-1.245017|    1|\n",
      "|       Vehicle crime|2022-05|2022|52.996415|-1.254504|    1|\n",
      "+--------------------+-------+----+---------+---------+-----+\n",
      "only showing top 20 rows\n",
      "\n"
     ]
    },
    {
     "name": "stderr",
     "output_type": "stream",
     "text": [
      "                                                                                \r"
     ]
    }
   ],
   "source": [
    "CrimeTypesGeo.registerTempTable(\"CrimeTypesGeo\")\n",
    "sqlContext.sql(\"select * from CrimeTypesGeo\").show()"
   ]
  },
  {
   "cell_type": "code",
   "execution_count": 37,
   "id": "fed43b04",
   "metadata": {
    "execution": {
     "iopub.execute_input": "2024-01-07T22:04:49.233062Z",
     "iopub.status.busy": "2024-01-07T22:04:49.232675Z",
     "iopub.status.idle": "2024-01-07T22:04:53.594252Z",
     "shell.execute_reply": "2024-01-07T22:04:53.593082Z"
    },
    "papermill": {
     "duration": 4.394717,
     "end_time": "2024-01-07T22:04:53.597526",
     "exception": false,
     "start_time": "2024-01-07T22:04:49.202809",
     "status": "completed"
    },
    "tags": []
   },
   "outputs": [
    {
     "name": "stderr",
     "output_type": "stream",
     "text": [
      "                                                                                \r"
     ]
    }
   ],
   "source": [
    "# Prepare variables for visualisations\n",
    "\n",
    "totalArray = sqlContext.sql(\"select Total from yearlyCrimeAmount\")\\\n",
    ".rdd.map(lambda f:f[0]).collect()\n",
    "yearArray = sqlContext.sql(\"select Year from yearlyCrimeAmount\")\\\n",
    ".rdd.map(lambda f:f[0]).collect()\n",
    "averageArray = sqlContext.sql(\"select Average from yearlyCrimeAmount\")\\\n",
    ".rdd.map(lambda f:f[0]).collect()"
   ]
  },
  {
   "cell_type": "code",
   "execution_count": 38,
   "id": "db952fb6",
   "metadata": {
    "execution": {
     "iopub.execute_input": "2024-01-07T22:04:53.653050Z",
     "iopub.status.busy": "2024-01-07T22:04:53.652583Z",
     "iopub.status.idle": "2024-01-07T22:04:54.974846Z",
     "shell.execute_reply": "2024-01-07T22:04:54.973245Z"
    },
    "papermill": {
     "duration": 1.354092,
     "end_time": "2024-01-07T22:04:54.978927",
     "exception": false,
     "start_time": "2024-01-07T22:04:53.624835",
     "status": "completed"
    },
    "tags": []
   },
   "outputs": [
    {
     "name": "stderr",
     "output_type": "stream",
     "text": [
      "[Stage 118:==========================================>              (3 + 1) / 4]\r"
     ]
    },
    {
     "name": "stdout",
     "output_type": "stream",
     "text": [
      "+--------------------+------+\n",
      "|         Reported_by| Count|\n",
      "+--------------------+------+\n",
      "|Leicestershire Po...|214186|\n",
      "|Derbyshire Consta...|231754|\n",
      "|Nottinghamshire P...|256640|\n",
      "+--------------------+------+\n",
      "\n"
     ]
    },
    {
     "name": "stderr",
     "output_type": "stream",
     "text": [
      "                                                                                \r"
     ]
    }
   ],
   "source": [
    "sqlContext.sql(\"select Reported_by, count(*) \\\n",
    "as Count from tbl_LDNCrimes group by Reported_by\").show()"
   ]
  },
  {
   "cell_type": "code",
   "execution_count": null,
   "id": "f084762b",
   "metadata": {
    "papermill": {
     "duration": 0.027474,
     "end_time": "2024-01-07T22:04:55.035805",
     "exception": false,
     "start_time": "2024-01-07T22:04:55.008331",
     "status": "completed"
    },
    "tags": []
   },
   "outputs": [],
   "source": []
  }
 ],
 "metadata": {
  "kaggle": {
   "accelerator": "none",
   "dataSources": [
    {
     "datasetId": 4233255,
     "sourceId": 7297781,
     "sourceType": "datasetVersion"
    },
    {
     "datasetId": 4273826,
     "sourceId": 7358107,
     "sourceType": "datasetVersion"
    }
   ],
   "dockerImageVersionId": 30626,
   "isGpuEnabled": false,
   "isInternetEnabled": true,
   "language": "python",
   "sourceType": "notebook"
  },
  "kernelspec": {
   "display_name": "Python 3",
   "language": "python",
   "name": "python3"
  },
  "language_info": {
   "codemirror_mode": {
    "name": "ipython",
    "version": 3
   },
   "file_extension": ".py",
   "mimetype": "text/x-python",
   "name": "python",
   "nbconvert_exporter": "python",
   "pygments_lexer": "ipython3",
   "version": "3.10.12"
  },
  "papermill": {
   "default_parameters": {},
   "duration": 129.575447,
   "end_time": "2024-01-07T22:04:57.688854",
   "environment_variables": {},
   "exception": null,
   "input_path": "__notebook__.ipynb",
   "output_path": "__notebook__.ipynb",
   "parameters": {},
   "start_time": "2024-01-07T22:02:48.113407",
   "version": "2.4.0"
  }
 },
 "nbformat": 4,
 "nbformat_minor": 5
}
